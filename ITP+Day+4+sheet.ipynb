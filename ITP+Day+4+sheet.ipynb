{
 "cells": [
  {
   "cell_type": "markdown",
   "id": "a0ce2120",
   "metadata": {},
   "source": [
    "## List Comprehension"
   ]
  },
  {
   "cell_type": "raw",
   "id": "e8284eb7",
   "metadata": {},
   "source": [
    "What is a list comprehension?\n",
    "● A list comprehension provides a concise way to create another list\n",
    "● Using list comprehensions reduces the number of code lines making it. It look more \n",
    "elegant\n",
    "● It is possible to use conditions in a list comprehension\n",
    "● The list comprehension always returns a list\n"
   ]
  },
  {
   "cell_type": "code",
   "execution_count": 1,
   "id": "0c5c5a9e",
   "metadata": {},
   "outputs": [
    {
     "data": {
      "text/plain": [
       "[4, 9, 16, 25]"
      ]
     },
     "execution_count": 1,
     "metadata": {},
     "output_type": "execute_result"
    }
   ],
   "source": [
    "li=[2,3,4,5]\n",
    "l=[]\n",
    "for i in li:\n",
    "    l.append(i**2)\n",
    "l"
   ]
  },
  {
   "cell_type": "code",
   "execution_count": 3,
   "id": "32cd04bf",
   "metadata": {},
   "outputs": [
    {
     "data": {
      "text/plain": [
       "[4, 9, 16, 25]"
      ]
     },
     "execution_count": 3,
     "metadata": {},
     "output_type": "execute_result"
    }
   ],
   "source": [
    "[i**2 for i in li]"
   ]
  },
  {
   "cell_type": "code",
   "execution_count": 5,
   "id": "1ca543ce",
   "metadata": {},
   "outputs": [
    {
     "data": {
      "text/plain": [
       "[7, 8, 9, 10]"
      ]
     },
     "execution_count": 5,
     "metadata": {},
     "output_type": "execute_result"
    }
   ],
   "source": [
    "[i+5 for i in li]"
   ]
  },
  {
   "cell_type": "code",
   "execution_count": 6,
   "id": "ed9a4c07",
   "metadata": {},
   "outputs": [
    {
     "data": {
      "text/plain": [
       "[0, 1, 0, 1]"
      ]
     },
     "execution_count": 6,
     "metadata": {},
     "output_type": "execute_result"
    }
   ],
   "source": [
    "[i%2 for i in li]"
   ]
  },
  {
   "cell_type": "code",
   "execution_count": null,
   "id": "d629ba6f",
   "metadata": {},
   "outputs": [],
   "source": [
    "# Syntax 1:   [value for value in iterable]                \n",
    "# Syntax 2:   [value for value in iterable if condition]   {used to filter the list}   \n",
    "# Syntax 3:   [val1 if cond else val2 for i in iterable]   {used to map the values over iterable}"
   ]
  },
  {
   "cell_type": "code",
   "execution_count": 11,
   "id": "767518f2",
   "metadata": {},
   "outputs": [
    {
     "data": {
      "text/plain": [
       "[3, 6, 9, 12, 15, 18, 21, 24]"
      ]
     },
     "execution_count": 11,
     "metadata": {},
     "output_type": "execute_result"
    }
   ],
   "source": [
    "[i for i in range(1,26) if i%3==0] #example syntax 2"
   ]
  },
  {
   "cell_type": "code",
   "execution_count": 7,
   "id": "1ef3a0b3",
   "metadata": {},
   "outputs": [
    {
     "data": {
      "text/plain": [
       "[10, 11, 12, 13, 14, 15]"
      ]
     },
     "execution_count": 7,
     "metadata": {},
     "output_type": "execute_result"
    }
   ],
   "source": [
    "[i for i in range(10,16)]  # Eg Syntax 1"
   ]
  },
  {
   "cell_type": "code",
   "execution_count": 8,
   "id": "e3828f26",
   "metadata": {},
   "outputs": [
    {
     "data": {
      "text/plain": [
       "[0, 1, 4, 9, 16]"
      ]
     },
     "execution_count": 8,
     "metadata": {},
     "output_type": "execute_result"
    }
   ],
   "source": [
    "[i**2 for i in range(5)]   # Eg Syntax 1"
   ]
  },
  {
   "cell_type": "code",
   "execution_count": 9,
   "id": "3467831f",
   "metadata": {},
   "outputs": [
    {
     "data": {
      "text/plain": [
       "[25, 45, 58, 14, 90]"
      ]
     },
     "execution_count": 9,
     "metadata": {},
     "output_type": "execute_result"
    }
   ],
   "source": [
    "[i+2 for i in [23,43,56,12,88]] # Eg syntax 1"
   ]
  },
  {
   "cell_type": "code",
   "execution_count": 10,
   "id": "e3b5fe83",
   "metadata": {},
   "outputs": [
    {
     "data": {
      "text/plain": [
       "[3, 6, 9, 12, 15, 18]"
      ]
     },
     "execution_count": 10,
     "metadata": {},
     "output_type": "execute_result"
    }
   ],
   "source": [
    "[i for i in range(1,21) if i%3==0] # Eg syntax 2"
   ]
  },
  {
   "cell_type": "code",
   "execution_count": 12,
   "id": "5631451d",
   "metadata": {},
   "outputs": [
    {
     "data": {
      "text/plain": [
       "[58, 14, 90]"
      ]
     },
     "execution_count": 12,
     "metadata": {},
     "output_type": "execute_result"
    }
   ],
   "source": [
    "[i+2 for i in [23,43,56,12,88] if i%2==0] # Eg syntax 2"
   ]
  },
  {
   "cell_type": "code",
   "execution_count": 22,
   "id": "75bdf95c",
   "metadata": {},
   "outputs": [
    {
     "data": {
      "text/plain": [
       "[23, 43, 58, 14, 90]"
      ]
     },
     "execution_count": 22,
     "metadata": {},
     "output_type": "execute_result"
    }
   ],
   "source": [
    "[i+2 if i%2==0 else i for i in [23,43,56,12,88]] # Eg syntax 3"
   ]
  },
  {
   "cell_type": "code",
   "execution_count": 21,
   "id": "758abd0a",
   "metadata": {},
   "outputs": [
    {
     "data": {
      "text/plain": [
       "['odd', 'odd', 'even', 'even', 'even']"
      ]
     },
     "execution_count": 21,
     "metadata": {},
     "output_type": "execute_result"
    }
   ],
   "source": [
    "li=[23,43,56,12,88]\n",
    "['even' if i%2==0 else 'odd' for i in li]"
   ]
  },
  {
   "cell_type": "code",
   "execution_count": 23,
   "id": "abde45ca",
   "metadata": {},
   "outputs": [
    {
     "data": {
      "text/plain": [
       "['Odd', 'Even', 'Odd', 'Even', 'Even', 'Odd', 'Even', 'Odd', 'Even']"
      ]
     },
     "execution_count": 23,
     "metadata": {},
     "output_type": "execute_result"
    }
   ],
   "source": [
    "['Odd' if i%2==1 else 'Even' for i in [3,6,9,12,18,21,24,27,30]]  # Eg syntax 3"
   ]
  },
  {
   "cell_type": "code",
   "execution_count": 13,
   "id": "71be580e",
   "metadata": {},
   "outputs": [
    {
     "data": {
      "text/plain": [
       "[15, 30, 45]"
      ]
     },
     "execution_count": 13,
     "metadata": {},
     "output_type": "execute_result"
    }
   ],
   "source": [
    "#Q. Print a list between 1 to 50 where all the values are multiple of 3 and 5 both\n",
    "[i for i in range(1,51) if i%3==0 and i%5==0]"
   ]
  },
  {
   "cell_type": "code",
   "execution_count": 17,
   "id": "6ad45127",
   "metadata": {},
   "outputs": [
    {
     "data": {
      "text/plain": [
       "['Apple', 'Mango', 'Banana', 'Papaya', 'Pear']"
      ]
     },
     "execution_count": 17,
     "metadata": {},
     "output_type": "execute_result"
    }
   ],
   "source": [
    "#Q. li = ['Apple','Kiwi','Mango','Banana','Papaya','Pear'] create a list of all the fruits which have 'a' in name\n",
    "li = ['Apple','Kiwi','Mango','Banana','Papaya','Pear']\n",
    "[i for i in li if 'a' in i.lower()]"
   ]
  },
  {
   "cell_type": "code",
   "execution_count": 19,
   "id": "7860b355",
   "metadata": {},
   "outputs": [
    {
     "data": {
      "text/plain": [
       "[5, 4, 5, 6, 6, 4]"
      ]
     },
     "execution_count": 19,
     "metadata": {},
     "output_type": "execute_result"
    }
   ],
   "source": [
    "#Q. Create a new list with the no of characters in each fruit name\n",
    "[len(i) for i in li]"
   ]
  },
  {
   "cell_type": "code",
   "execution_count": 20,
   "id": "355501c3",
   "metadata": {},
   "outputs": [
    {
     "data": {
      "text/plain": [
       "[1, 8, 27, 64, 125, 216, 343, 512, 729, 1000]"
      ]
     },
     "execution_count": 20,
     "metadata": {},
     "output_type": "execute_result"
    }
   ],
   "source": [
    "#Q. Print the cube of first 10 numbers\n",
    "[i**3 for i in range(1,11)]"
   ]
  },
  {
   "cell_type": "code",
   "execution_count": 25,
   "id": "ffd9655b",
   "metadata": {},
   "outputs": [
    {
     "data": {
      "text/plain": [
       "['alphabet', 'alphabet', 'alphanumber', 'alphanumber', 'alphabet']"
      ]
     },
     "execution_count": 25,
     "metadata": {},
     "output_type": "execute_result"
    }
   ],
   "source": [
    "#Q. strings = ['baby','muscle','dalmations101','hulk3','titanic']  create a list with value alphabet if movie name has only alphabets and alphanumber if movie name has alphabets and number\n",
    "strings = ['baby','muscle','dalmations101','hulk3','titanic']\n",
    "['alphabet' if i.isalpha() else 'alphanumber' for i in strings] "
   ]
  },
  {
   "cell_type": "code",
   "execution_count": 1,
   "id": "f47ec789",
   "metadata": {},
   "outputs": [
    {
     "data": {
      "text/plain": [
       "['neg', 'pos', 'pos', 'zero', 'pos', 'neg', 'zero', 'pos']"
      ]
     },
     "execution_count": 1,
     "metadata": {},
     "output_type": "execute_result"
    }
   ],
   "source": [
    "#Q. [-2,9,3,0,7,-4,0,5], create a list with values neg if number is negative pos if number is positive else zero.\n",
    "l=[-2,9,3,0,7,-4,0,5]\n",
    "['zero' if i==0 else ('neg' if i<0 else 'pos') for i in l]"
   ]
  },
  {
   "cell_type": "code",
   "execution_count": 28,
   "id": "f0342d4f",
   "metadata": {},
   "outputs": [
    {
     "data": {
      "text/plain": [
       "['neg', 'pos', 'pos', 'neg', 'pos', 'neg', 'neg', 'pos']"
      ]
     },
     "execution_count": 28,
     "metadata": {},
     "output_type": "execute_result"
    }
   ],
   "source": [
    "['pos' if i>0 else 'neg' for i in l]"
   ]
  },
  {
   "cell_type": "code",
   "execution_count": 31,
   "id": "ec3e533b",
   "metadata": {},
   "outputs": [
    {
     "data": {
      "text/plain": [
       "['neg', 'pos', 'pos', 'zero', 'pos', 'neg', 'zero', 'pos']"
      ]
     },
     "execution_count": 31,
     "metadata": {},
     "output_type": "execute_result"
    }
   ],
   "source": [
    "['pos' if i>0 else 'neg' if i<0 else 'zero' for i in l]"
   ]
  },
  {
   "cell_type": "code",
   "execution_count": 34,
   "id": "5c009805",
   "metadata": {},
   "outputs": [
    {
     "data": {
      "text/plain": [
       "['acidic', 'basic', 'acidic', 'basic', 'acidic', 'basic', 'neutral']"
      ]
     },
     "execution_count": 34,
     "metadata": {},
     "output_type": "execute_result"
    }
   ],
   "source": [
    "ph=[3.5,8.9,1.2,7.6,6.3,11,7]\n",
    "['acidic' if i<7 else 'basic' if i>7 else 'neutral' for i in ph]"
   ]
  },
  {
   "cell_type": "raw",
   "id": "293fef9d",
   "metadata": {},
   "source": [
    "Q. name =['Ajay','Neha', 'Mukesh', 'Swati']\n",
    "marks = [67,89,90,76]\n",
    "create a dictionary with two lists using list comprehension"
   ]
  },
  {
   "cell_type": "code",
   "execution_count": 36,
   "id": "31e1da02",
   "metadata": {},
   "outputs": [
    {
     "data": {
      "text/plain": [
       "{'Ajay': 67, 'Neha': 89, 'Mukesh': 90, 'Swati': 76}"
      ]
     },
     "execution_count": 36,
     "metadata": {},
     "output_type": "execute_result"
    }
   ],
   "source": [
    "name =['Ajay','Neha', 'Mukesh', 'Swati']\n",
    "marks = [67,89,90,76]\n",
    "{k:v for k,v in zip(name,marks)}"
   ]
  },
  {
   "cell_type": "code",
   "execution_count": 37,
   "id": "cdeac55c",
   "metadata": {},
   "outputs": [
    {
     "data": {
      "text/plain": [
       "{'Ajay': 67, 'Neha': 89, 'Mukesh': 90, 'Swati': 76}"
      ]
     },
     "execution_count": 37,
     "metadata": {},
     "output_type": "execute_result"
    }
   ],
   "source": [
    "d={}\n",
    "for k,v in zip(name,marks):\n",
    "    d[k]=v\n",
    "d"
   ]
  },
  {
   "cell_type": "raw",
   "id": "d8c736a4",
   "metadata": {},
   "source": [
    "Q. create a dictionary where key is a fruit name and value is the length of the fruit name\n",
    "fruit = ['Apple','Kiwi','Mango','Banana','Papaya','Pear']"
   ]
  },
  {
   "cell_type": "code",
   "execution_count": 38,
   "id": "bad06251",
   "metadata": {},
   "outputs": [
    {
     "data": {
      "text/plain": [
       "{'Apple': 6, 'Kiwi': 6, 'Mango': 6, 'Banana': 6, 'Papaya': 6, 'Pear': 6}"
      ]
     },
     "execution_count": 38,
     "metadata": {},
     "output_type": "execute_result"
    }
   ],
   "source": [
    "fruit = ['Apple','Kiwi','Mango','Banana','Papaya','Pear']\n",
    "{k:len(fruit) for k in fruit}"
   ]
  },
  {
   "cell_type": "raw",
   "id": "ccd16dbe",
   "metadata": {},
   "source": [
    "create above dictionary of those fruits only which ends with a"
   ]
  },
  {
   "cell_type": "code",
   "execution_count": 41,
   "id": "d4db829d",
   "metadata": {},
   "outputs": [
    {
     "data": {
      "text/plain": [
       "{'Banana': 6, 'Papaya': 6}"
      ]
     },
     "execution_count": 41,
     "metadata": {},
     "output_type": "execute_result"
    }
   ],
   "source": [
    "{k:len(k) for k in fruit if k.endswith('a')}"
   ]
  },
  {
   "cell_type": "raw",
   "id": "4969286b",
   "metadata": {},
   "source": [
    "Q. create a dictionary where key is a fruit name and value is odd if length of the fruit name is odd else even"
   ]
  },
  {
   "cell_type": "code",
   "execution_count": 43,
   "id": "6a5f835c",
   "metadata": {},
   "outputs": [
    {
     "data": {
      "text/plain": [
       "{'Apple': 'odd',\n",
       " 'Kiwi': 'even',\n",
       " 'Mango': 'odd',\n",
       " 'Banana': 'even',\n",
       " 'Papaya': 'even',\n",
       " 'Pear': 'even'}"
      ]
     },
     "execution_count": 43,
     "metadata": {},
     "output_type": "execute_result"
    }
   ],
   "source": [
    "{k:'even' if len(k)%2==0 else 'odd' for k in fruit}"
   ]
  },
  {
   "cell_type": "raw",
   "id": "7b076090",
   "metadata": {},
   "source": [
    "Q [[1,2,3],[1,2,3],[1,2,3]]"
   ]
  },
  {
   "cell_type": "code",
   "execution_count": 47,
   "id": "a83ca185",
   "metadata": {},
   "outputs": [
    {
     "data": {
      "text/plain": [
       "[[1, 2, 3], [1, 2, 3], [1, 2, 3]]"
      ]
     },
     "execution_count": 47,
     "metadata": {},
     "output_type": "execute_result"
    }
   ],
   "source": [
    "[[i for i in range(1,4)] for j in range(3)]"
   ]
  },
  {
   "cell_type": "code",
   "execution_count": 48,
   "id": "60764711",
   "metadata": {},
   "outputs": [
    {
     "data": {
      "text/plain": [
       "[[1, 2, 3], [1, 2, 3], [1, 2, 3]]"
      ]
     },
     "execution_count": 48,
     "metadata": {},
     "output_type": "execute_result"
    }
   ],
   "source": [
    "[[1,2,3] for i in range(1,4)]"
   ]
  },
  {
   "cell_type": "code",
   "execution_count": 49,
   "id": "f542da08",
   "metadata": {},
   "outputs": [
    {
     "data": {
      "text/plain": [
       "[[1, 2, 3], [1, 2, 3], [1, 2, 3]]"
      ]
     },
     "execution_count": 49,
     "metadata": {},
     "output_type": "execute_result"
    }
   ],
   "source": [
    "[[1,2,3]]*3"
   ]
  },
  {
   "cell_type": "code",
   "execution_count": 8,
   "id": "53fb696c",
   "metadata": {},
   "outputs": [
    {
     "data": {
      "text/plain": [
       "'Ayush am I Hello'"
      ]
     },
     "execution_count": 8,
     "metadata": {},
     "output_type": "execute_result"
    }
   ],
   "source": [
    "def rev(s1):\n",
    "    word=s.split()\n",
    "    revs=' '.join(reversed(word))\n",
    "    return revs\n",
    "s='Hello I am Ayush'\n",
    "rev(s)"
   ]
  },
  {
   "cell_type": "code",
   "execution_count": 11,
   "id": "0dd8d6ff",
   "metadata": {},
   "outputs": [
    {
     "name": "stdout",
     "output_type": "stream",
     "text": [
      "ayush am I HEllo\n"
     ]
    }
   ],
   "source": [
    "def revs(s1):\n",
    "    s=s1.split()\n",
    "    l=0\n",
    "    r=len(s)-1\n",
    "    while(l<=r):\n",
    "        s[l],s[r]=s[r],s[l]\n",
    "        l+=1\n",
    "        r-=1\n",
    "    s=' '.join(s)\n",
    "    return s\n",
    "s='HEllo I am ayush'\n",
    "print(revs(s))"
   ]
  },
  {
   "cell_type": "code",
   "execution_count": 13,
   "id": "ee2ab300",
   "metadata": {},
   "outputs": [
    {
     "name": "stdout",
     "output_type": "stream",
     "text": [
      "Enter the number: 5\n",
      "5 is prime\n"
     ]
    }
   ],
   "source": [
    "n=int(input('Enter the number: '))\n",
    "flag=False\n",
    "if n==1:\n",
    "    print(n,'is not prime no')\n",
    "else:\n",
    "    for i in range(2,n):\n",
    "        if n%i==0:\n",
    "            flag=True\n",
    "            break\n",
    "    if flag:\n",
    "        print(n,'is non prime')\n",
    "    else:\n",
    "        print(n,'is prime')"
   ]
  },
  {
   "cell_type": "code",
   "execution_count": 19,
   "id": "c5b5dbf0",
   "metadata": {},
   "outputs": [
    {
     "name": "stdout",
     "output_type": "stream",
     "text": [
      "Enter the number: 5\n",
      "2\n",
      "3\n",
      "5\n"
     ]
    }
   ],
   "source": [
    "n=int(input('Enter the number: '))\n",
    "for j in range(2,n+1):\n",
    "    for i in range(2,j):\n",
    "        if j%i==0:\n",
    "            break\n",
    "    else:\n",
    "         print(j)\n",
    "            "
   ]
  },
  {
   "cell_type": "code",
   "execution_count": 21,
   "id": "291a7cb1",
   "metadata": {},
   "outputs": [
    {
     "name": "stdout",
     "output_type": "stream",
     "text": [
      "Enter the number: 131\n",
      "Non Armstrong\n"
     ]
    }
   ],
   "source": [
    "num=int(input('Enter the number: '))\n",
    "s=0\n",
    "temp=num\n",
    "while temp>0:\n",
    "    digit=temp%10\n",
    "    s+=digit**3\n",
    "    temp//=10\n",
    "if s==num:\n",
    "    print('Armstrong no')\n",
    "else:\n",
    "    print('Non Armstrong')"
   ]
  }
 ],
 "metadata": {
  "kernelspec": {
   "display_name": "Python 3 (ipykernel)",
   "language": "python",
   "name": "python3"
  },
  "language_info": {
   "codemirror_mode": {
    "name": "ipython",
    "version": 3
   },
   "file_extension": ".py",
   "mimetype": "text/x-python",
   "name": "python",
   "nbconvert_exporter": "python",
   "pygments_lexer": "ipython3",
   "version": "3.11.3"
  }
 },
 "nbformat": 4,
 "nbformat_minor": 5
}
