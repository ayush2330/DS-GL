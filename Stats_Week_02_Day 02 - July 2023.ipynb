{
 "cells": [
  {
   "cell_type": "markdown",
   "id": "096a26fb",
   "metadata": {
    "id": "GK0NW_2EjULQ"
   },
   "source": [
    "<table align=\"left\" width=100%>\n",
    "    <tr>\n",
    "        <td width=\"20%\">\n",
    "            <img src=\"GL-2.png\">\n",
    "        </td>\n",
    "        <td>\n",
    "            <div align=\"center\">\n",
    "                <font color=\"#21618C\" size=8px>\n",
    "                  <b> Faculty Notebook <br> ( Day 1) </b>\n",
    "                </font>\n",
    "            </div>\n",
    "        </td>\n",
    "    </tr>\n",
    "</table>"
   ]
  },
  {
   "cell_type": "markdown",
   "id": "a66606fa",
   "metadata": {
    "id": "zvAE5vE3jULR"
   },
   "source": [
    "## Table of Content\n",
    "\n",
    "1. **[Import Libraries](#lib)**\n",
    "2. **[Large Sample Test](#z)**\n",
    "    - 2.1 - **[Two Sample Z Test](#2z)**\n",
    "3. **[Small Sample Test](#t)**\n",
    "    - 3.1 - **[Two Sample t Test (Unpaired)](#2t)**\n",
    "    - 3.2 - **[Paired t Test](#paired)**"
   ]
  },
  {
   "cell_type": "markdown",
   "id": "f9f330ad",
   "metadata": {
    "id": "PfsUFjVbjULS"
   },
   "source": [
    "<a id=\"lib\"></a>\n",
    "# 1. Import Libraries"
   ]
  },
  {
   "cell_type": "markdown",
   "id": "a42a4706",
   "metadata": {
    "id": "soadpiTzjULT"
   },
   "source": [
    "**Let us import the required libraries.**"
   ]
  },
  {
   "cell_type": "code",
   "execution_count": 1,
   "id": "79574235",
   "metadata": {
    "id": "6FixCmEsjULU"
   },
   "outputs": [],
   "source": [
    "# import 'pandas' \n",
    "import pandas as pd \n",
    "\n",
    "# import 'numpy' \n",
    "import numpy as np\n",
    "\n",
    "# import subpackage of matplotlib\n",
    "import matplotlib.pyplot as plt\n",
    "\n",
    "# import 'seaborn'\n",
    "import seaborn as sns\n",
    "\n",
    "# to suppress warnings \n",
    "from warnings import filterwarnings\n",
    "filterwarnings('ignore')\n",
    "\n",
    "# import statsmodels\n",
    "import statsmodels.api as sm\n",
    "\n",
    "# import 'stats' package from scipy library\n",
    "from scipy import stats\n",
    "\n",
    "# import statistics to perform statistical computations\n",
    "import statistics\n",
    "\n",
    "# to test the normality \n",
    "from scipy.stats import shapiro\n",
    "\n",
    "# import a library to perform Z-test\n",
    "from statsmodels.stats import weightstats as stests"
   ]
  },
  {
   "cell_type": "code",
   "execution_count": 2,
   "id": "2b5387d7",
   "metadata": {
    "id": "0xOunnbOjULY"
   },
   "outputs": [],
   "source": [
    "# set the plot size using 'rcParams'\n",
    "# once the plot size is set using 'rcParams', it sets the size of all the forthcoming plots in the file\n",
    "# pass width and height in inches to 'figure.figsize' \n",
    "plt.rcParams['figure.figsize'] = [15,8]"
   ]
  },
  {
   "cell_type": "markdown",
   "id": "14ddcb5a",
   "metadata": {
    "id": "sxaVFsW9jULb"
   },
   "source": [
    "<a id=\"z\"></a>\n",
    "# 2. Large Sample Test"
   ]
  },
  {
   "cell_type": "markdown",
   "id": "b4c0073b",
   "metadata": {
    "id": "ekSYxRw5jULd"
   },
   "source": [
    "If the sample size is sufficiently large (usually, n > 30) then we use the `Z-test`. If population standard deviation ($\\sigma$) is unknown, then the sample standard deviation (s) is used to calculate the test statistic."
   ]
  },
  {
   "cell_type": "markdown",
   "id": "f8292603",
   "metadata": {
    "id": "6PdOJPyjjUMK"
   },
   "source": [
    "<a id=\"2z\"></a>\n",
    "## 2.1 Two Sample Z Test"
   ]
  },
  {
   "cell_type": "markdown",
   "id": "77aa0423",
   "metadata": {
    "id": "AZjn-F3qjUMK"
   },
   "source": [
    "Let us perform a two sample Z test for the population mean. We compare the means of the two independent populations. The samples are assumed to be taken from populations such that they follow a normal distribution. Also, the sample must have equal variance.\n",
    "\n",
    "The `Shapiro-Wilk Test` is used to check the normality of the data. The assumption of equal variances of the populations is tested using the `Levene's Test`. \n",
    "The hypothesis of the Levene's test is given as:\n",
    "<p style='text-indent:25em'> <strong> H<sub>0</sub>:  The variances are equal</strong> </p>\n",
    "<p style='text-indent:25em'> <strong> H<sub>1</sub>:  The variances are not equal </strong> </p>\n",
    "\n",
    "The `levene()` from scipy library performs a Levene's test. \n",
    "\n",
    "The null and alternative hypothesis of two sample Z-test is given as:\n",
    "\n",
    "<p style='text-indent:25em'> <strong> $H_{0}: \\mu_{1} - \\mu_{2} = \\mu_{0}$ or $\\mu_{1} - \\mu_{2} \\geq \\mu_{0}$ or $\\mu_{1} -\\mu_{2} \\leq \\mu_{0}$</strong></p>\n",
    "<p style='text-indent:25em'> <strong> $H_{1}: \\mu_{1} - \\mu_{2} \\neq \\mu_{0} $ or $\\mu_{1} - \\mu_{2} < \\mu_{0}$ or $\\mu_{1} -\\mu_{2} > \\mu_{0}$</strong></p>"
   ]
  },
  {
   "cell_type": "markdown",
   "id": "79c37bdf",
   "metadata": {
    "id": "r4ANXi-rjUMK"
   },
   "source": [
    "Consider two normally distributed independent populations. Let us take a sample of size ($n_{1}$) from the first population with standard deviation ($\\sigma_1$) and sample of size ($n_{2}$) from a second population with standard deviation ($\\sigma_2$) such that $n_{1}, n_{2} > 30$. \n",
    "\n",
    "The test statistic for two sample Z-test is given as:\n",
    "<p style='text-indent:25em'> <strong> $Z = \\frac{(\\overline{X_{1}} - \\overline{X_{2}})  - \\mu_{0}} {\\sqrt{\\frac{\\sigma_{1}^{2}}{n_{1}} + \\frac{\\sigma_{2}^{2}}{n_{2}}}}$</strong></p>\n",
    "\n",
    "Where, <br>\n",
    "$\\overline{X_{1}}$, $\\overline{X_{2}}$ : Mean of both the samples<br>\n",
    "$\\mu_{0}$: Mean difference given in the null hypothesis<br>\n",
    "$\\sigma_{1}, \\sigma_{2}$: Standard deviation of both the populations<br>\n",
    "$n_{1}, n_{2}$: Size of samples from both the populations\n",
    "\n",
    "Under $H_{0}$ the test statistic follows a standard normal distribution.\n",
    "\n",
    "If standard deviations of populations are unknown, use the standard deviations of samples ($s_{1}, s_{2}$) instead of $\\sigma_{1}$ and $\\sigma_{2}$ to calculate the test statistic.\n",
    "i.e. <p style='text-indent:25em'> <strong> $Z = \\frac{(\\overline{X_{1}} - \\overline{X_{2}})  - \\mu_{0}} {\\sqrt{\\frac{s_{1}^{2}}{n_{1}} + \\frac{s_{2}^{2}}{n_{2}}}}$</strong></p>\n"
   ]
  },
  {
   "cell_type": "markdown",
   "id": "fd3cecdb",
   "metadata": {
    "id": "cyTUiATWjUML"
   },
   "source": [
    "### Example:\n",
    "\n",
    "#### 1. The training institute <i>Nature Learning</i> claims that the students trained in their institute have overall better performance than the students trained in their competitor institute <i>Speak Global Learning</i>. We have a sample data of 500 students from each institute along with their total score collected from independent normal populations. Frame a hypothesis and test the Nature Learning's claim with 99% confidence."
   ]
  },
  {
   "cell_type": "markdown",
   "id": "edfa2f72",
   "metadata": {
    "id": "ohcYrsuzjUML"
   },
   "source": [
    "Consider the total score for students given in the CSV file `StudentsPerformance.csv`. "
   ]
  },
  {
   "cell_type": "code",
   "execution_count": 3,
   "id": "9e11cf45",
   "metadata": {
    "colab": {
     "base_uri": "https://localhost:8080/",
     "height": 235
    },
    "executionInfo": {
     "elapsed": 2087,
     "status": "error",
     "timestamp": 1606967017634,
     "user": {
      "displayName": "Mallikarjuna Doddamane",
      "photoUrl": "https://lh3.googleusercontent.com/a-/AOh14GjOdnL6KUzzQMPHfk6as2xRMsOSbJoBMF9oJSaK=s64",
      "userId": "11697854241316775674"
     },
     "user_tz": -330
    },
    "id": "Xp_CVnoljUMM",
    "outputId": "b2177636-4c8a-4e14-c90e-192f05e4022f",
    "scrolled": true
   },
   "outputs": [
    {
     "data": {
      "text/html": [
       "<div>\n",
       "<style scoped>\n",
       "    .dataframe tbody tr th:only-of-type {\n",
       "        vertical-align: middle;\n",
       "    }\n",
       "\n",
       "    .dataframe tbody tr th {\n",
       "        vertical-align: top;\n",
       "    }\n",
       "\n",
       "    .dataframe thead th {\n",
       "        text-align: right;\n",
       "    }\n",
       "</style>\n",
       "<table border=\"1\" class=\"dataframe\">\n",
       "  <thead>\n",
       "    <tr style=\"text-align: right;\">\n",
       "      <th></th>\n",
       "      <th>gender</th>\n",
       "      <th>race/ethnicity</th>\n",
       "      <th>lunch</th>\n",
       "      <th>test preparation course</th>\n",
       "      <th>math score</th>\n",
       "      <th>reading score</th>\n",
       "      <th>writing score</th>\n",
       "      <th>total score</th>\n",
       "      <th>training institute</th>\n",
       "    </tr>\n",
       "  </thead>\n",
       "  <tbody>\n",
       "    <tr>\n",
       "      <th>0</th>\n",
       "      <td>female</td>\n",
       "      <td>group B</td>\n",
       "      <td>standard</td>\n",
       "      <td>none</td>\n",
       "      <td>89</td>\n",
       "      <td>55</td>\n",
       "      <td>56</td>\n",
       "      <td>200</td>\n",
       "      <td>Nature Learning</td>\n",
       "    </tr>\n",
       "  </tbody>\n",
       "</table>\n",
       "</div>"
      ],
      "text/plain": [
       "   gender race/ethnicity     lunch test preparation course  math score  \\\n",
       "0  female        group B  standard                    none          89   \n",
       "\n",
       "   reading score  writing score  total score training institute  \n",
       "0             55             56          200    Nature Learning  "
      ]
     },
     "execution_count": 3,
     "metadata": {},
     "output_type": "execute_result"
    }
   ],
   "source": [
    "# read the students performance data \n",
    "df_student = pd.read_csv('StudentsPerformance.csv')\n",
    "\n",
    "# display the first two observations\n",
    "df_student.head(1)"
   ]
  },
  {
   "cell_type": "code",
   "execution_count": 4,
   "id": "d0387cd2",
   "metadata": {
    "colab": {
     "base_uri": "https://localhost:8080/",
     "height": 235
    },
    "executionInfo": {
     "elapsed": 5085,
     "status": "error",
     "timestamp": 1606967020642,
     "user": {
      "displayName": "Mallikarjuna Doddamane",
      "photoUrl": "https://lh3.googleusercontent.com/a-/AOh14GjOdnL6KUzzQMPHfk6as2xRMsOSbJoBMF9oJSaK=s64",
      "userId": "11697854241316775674"
     },
     "user_tz": -330
    },
    "id": "v8OPjxTxjUMO",
    "outputId": "f93877ac-28f9-4d55-efc5-7f1f4807d0b2"
   },
   "outputs": [],
   "source": [
    "# Sample-1: Total Score of Nature Learning\n",
    "nl = df_student.loc[df_student[\"training institute\"]==\"Nature Learning\",\n",
    "                   \"total score\"]\n",
    "# Sample-2: Total Score of Speak Global Learning\n",
    "sgl = df_student.loc[df_student[\"training institute\"]==\"Speak Global Learning\",\n",
    "                   \"total score\"]"
   ]
  },
  {
   "cell_type": "markdown",
   "id": "136fa354",
   "metadata": {
    "id": "eSDa1_VhjUMR"
   },
   "source": [
    "Let us check the normality of total score for the students trained from both the institutes.\n",
    "\n",
    "* **Ho: Data is Normal**\n",
    "* **Ha: Data is Not Normal**"
   ]
  },
  {
   "cell_type": "code",
   "execution_count": 5,
   "id": "206cf386",
   "metadata": {
    "executionInfo": {
     "elapsed": 5070,
     "status": "aborted",
     "timestamp": 1606967020630,
     "user": {
      "displayName": "Mallikarjuna Doddamane",
      "photoUrl": "https://lh3.googleusercontent.com/a-/AOh14GjOdnL6KUzzQMPHfk6as2xRMsOSbJoBMF9oJSaK=s64",
      "userId": "11697854241316775674"
     },
     "user_tz": -330
    },
    "id": "aFqcI0oFjUMS"
   },
   "outputs": [
    {
     "data": {
      "text/plain": [
       "(ShapiroResult(statistic=0.997671365737915, pvalue=0.7214037179946899),\n",
       " ShapiroResult(statistic=0.9957306981086731, pvalue=0.19211649894714355))"
      ]
     },
     "execution_count": 5,
     "metadata": {},
     "output_type": "execute_result"
    }
   ],
   "source": [
    "# shapiro test \n",
    "stats.shapiro(nl),stats.shapiro(sgl)\n",
    "\n",
    "# conclusion data is normal"
   ]
  },
  {
   "cell_type": "markdown",
   "id": "eea3b805",
   "metadata": {
    "id": "yI8KK-v-jUMV"
   },
   "source": [
    "Let us check the equality of variances.\n",
    "\n",
    "* **Ho: That the Data has Equal Variance**\n",
    "* **Ha: Ho is False**"
   ]
  },
  {
   "cell_type": "code",
   "execution_count": 6,
   "id": "6ef41db3",
   "metadata": {
    "executionInfo": {
     "elapsed": 5070,
     "status": "aborted",
     "timestamp": 1606967020632,
     "user": {
      "displayName": "Mallikarjuna Doddamane",
      "photoUrl": "https://lh3.googleusercontent.com/a-/AOh14GjOdnL6KUzzQMPHfk6as2xRMsOSbJoBMF9oJSaK=s64",
      "userId": "11697854241316775674"
     },
     "user_tz": -330
    },
    "id": "Rlrj4Vr3jUMV"
   },
   "outputs": [
    {
     "data": {
      "text/plain": [
       "LeveneResult(statistic=0.6422721347822817, pvalue=0.42307998325221574)"
      ]
     },
     "execution_count": 6,
     "metadata": {},
     "output_type": "execute_result"
    }
   ],
   "source": [
    "# levene test\n",
    "stats.levene(nl,sgl) # we can pass here multiple parametres to check the variance\n",
    "\n",
    "# equality of variance is also met"
   ]
  },
  {
   "cell_type": "code",
   "execution_count": 7,
   "id": "6d8f2dd6",
   "metadata": {},
   "outputs": [
    {
     "data": {
      "text/plain": [
       "2.3263478740408408"
      ]
     },
     "execution_count": 7,
     "metadata": {},
     "output_type": "execute_result"
    }
   ],
   "source": [
    "stats.norm.isf(0.01)"
   ]
  },
  {
   "cell_type": "markdown",
   "id": "a7306a71",
   "metadata": {
    "id": "E9Yz-2UYjUMY"
   },
   "source": [
    "The null and alternative hypothesis is:\n",
    "\n",
    "H<sub>0</sub>: $\\mu_{1} - \\mu_{2} \\leq 0$ <br>\n",
    "H<sub>1</sub>: $\\mu_{1} - \\mu_{2} > 0$ \n",
    "\n",
    "Here ⍺ = 0.01, for a one-tailed test calculate the critical z-value."
   ]
  },
  {
   "cell_type": "code",
   "execution_count": 8,
   "id": "c42351fe",
   "metadata": {
    "executionInfo": {
     "elapsed": 5071,
     "status": "aborted",
     "timestamp": 1606967020635,
     "user": {
      "displayName": "Mallikarjuna Doddamane",
      "photoUrl": "https://lh3.googleusercontent.com/a-/AOh14GjOdnL6KUzzQMPHfk6as2xRMsOSbJoBMF9oJSaK=s64",
      "userId": "11697854241316775674"
     },
     "user_tz": -330
    },
    "id": "z9seBMcajUMY"
   },
   "outputs": [
    {
     "data": {
      "text/plain": [
       "2.3263478740408408"
      ]
     },
     "execution_count": 8,
     "metadata": {},
     "output_type": "execute_result"
    }
   ],
   "source": [
    "stats.norm.isf(0.01)"
   ]
  },
  {
   "cell_type": "markdown",
   "id": "a4073667",
   "metadata": {
    "id": "18WHhekkjUMc"
   },
   "source": [
    "i.e. if z is greater than 2.33 then we reject the null hypothesis."
   ]
  },
  {
   "cell_type": "code",
   "execution_count": 9,
   "id": "0b7e6b92",
   "metadata": {
    "executionInfo": {
     "elapsed": 5070,
     "status": "aborted",
     "timestamp": 1606967020636,
     "user": {
      "displayName": "Mallikarjuna Doddamane",
      "photoUrl": "https://lh3.googleusercontent.com/a-/AOh14GjOdnL6KUzzQMPHfk6as2xRMsOSbJoBMF9oJSaK=s64",
      "userId": "11697854241316775674"
     },
     "user_tz": -330
    },
    "id": "2EUZWhs0jUMc"
   },
   "outputs": [],
   "source": [
    "# calculate test statistics\n",
    "xbar1=np.mean(nl)\n",
    "xbar2=np.mean(sgl)\n",
    "\n",
    "sigma1=np.std(nl)\n",
    "sigma2=np.std(sgl)\n",
    "\n",
    "n1=len(nl)\n",
    "n2=len(sgl)"
   ]
  },
  {
   "cell_type": "code",
   "execution_count": 10,
   "id": "e52f6cfe",
   "metadata": {},
   "outputs": [
    {
     "data": {
      "text/plain": [
       "0.15140659491350816"
      ]
     },
     "execution_count": 10,
     "metadata": {},
     "output_type": "execute_result"
    }
   ],
   "source": [
    "# Test Stats\n",
    "num=(xbar1-xbar2)\n",
    "deno=(sigma1**2/n1) + (sigma2**2/n2)\n",
    "test_stats=num/np.sqrt(deno)\n",
    "test_stats"
   ]
  },
  {
   "cell_type": "code",
   "execution_count": 11,
   "id": "51b1d438",
   "metadata": {
    "executionInfo": {
     "elapsed": 5069,
     "status": "aborted",
     "timestamp": 1606967020637,
     "user": {
      "displayName": "Mallikarjuna Doddamane",
      "photoUrl": "https://lh3.googleusercontent.com/a-/AOh14GjOdnL6KUzzQMPHfk6as2xRMsOSbJoBMF9oJSaK=s64",
      "userId": "11697854241316775674"
     },
     "user_tz": -330
    },
    "id": "AzdGM59hjUMf",
    "scrolled": true
   },
   "outputs": [
    {
     "data": {
      "text/plain": [
       "0.4398274937243183"
      ]
     },
     "execution_count": 11,
     "metadata": {},
     "output_type": "execute_result"
    }
   ],
   "source": [
    "# p value\n",
    "1-stats.norm.cdf(test_stats)\n",
    "\n",
    "# Fail to reject the Ho meaning both the institutes have same performance"
   ]
  },
  {
   "cell_type": "code",
   "execution_count": 12,
   "id": "8545d3c1",
   "metadata": {},
   "outputs": [
    {
     "data": {
      "text/plain": [
       "(-3.5548110808810587, 3.9988110808810187)"
      ]
     },
     "execution_count": 12,
     "metadata": {},
     "output_type": "execute_result"
    }
   ],
   "source": [
    "# lets build the confidence\n",
    "stats.norm.interval(0.99,loc=num,scale=np.sqrt(deno))"
   ]
  },
  {
   "cell_type": "markdown",
   "id": "edc09274",
   "metadata": {
    "id": "IVQPuJaOjUMk"
   },
   "source": [
    "The above plot shows that the test statistic value is in the acceptance region, which implies we fail to reject (i.e. accept) $H_{0}$."
   ]
  },
  {
   "cell_type": "markdown",
   "id": "0d428b62",
   "metadata": {
    "id": "obvwn0HrjUMk"
   },
   "source": [
    "#### 2. A study was carried out to understand amount of haemoglobin in blood for males and females. A random sample of 160 males and 180 females have means of 13 g/dl and 15 g/dl. The two samples have standard deviation of 4.1 g/dl for male donors and 3.5 g/dl for female donor . Can it be said the population means of concentrations of the elements are the same for men and women? Use  α = 0.01."
   ]
  },
  {
   "cell_type": "markdown",
   "id": "8dd8d4a5",
   "metadata": {
    "id": "Rr8nzeh_jUMl"
   },
   "source": [
    "The null and alternative hypothesis is:\n",
    "\n",
    "H<sub>0</sub>: $\\mu_{1} - \\mu_{2} = 0$<br>\n",
    "H<sub>1</sub>: $\\mu_{1} - \\mu_{2} \\neq 0$\n",
    "\n",
    "Here ⍺ = 0.01, for a two-tailed test calculate the critical z-value."
   ]
  },
  {
   "cell_type": "code",
   "execution_count": 13,
   "id": "5efb0c3b",
   "metadata": {
    "executionInfo": {
     "elapsed": 5066,
     "status": "aborted",
     "timestamp": 1606967020638,
     "user": {
      "displayName": "Mallikarjuna Doddamane",
      "photoUrl": "https://lh3.googleusercontent.com/a-/AOh14GjOdnL6KUzzQMPHfk6as2xRMsOSbJoBMF9oJSaK=s64",
      "userId": "11697854241316775674"
     },
     "user_tz": -330
    },
    "id": "VnWc9QsfjUMl"
   },
   "outputs": [
    {
     "data": {
      "text/plain": [
       "0.8389129404891691"
      ]
     },
     "execution_count": 13,
     "metadata": {},
     "output_type": "execute_result"
    }
   ],
   "source": [
    "stats.norm.cdf(0.99)"
   ]
  },
  {
   "cell_type": "markdown",
   "id": "1abe8bdf",
   "metadata": {
    "id": "Uo00FmmbjUMo"
   },
   "source": [
    "i.e. if z is less than -2.58 or z is greater than 2.58 then we reject the null hypothesis."
   ]
  },
  {
   "cell_type": "code",
   "execution_count": 14,
   "id": "ce7e5680",
   "metadata": {
    "executionInfo": {
     "elapsed": 5066,
     "status": "aborted",
     "timestamp": 1606967020640,
     "user": {
      "displayName": "Mallikarjuna Doddamane",
      "photoUrl": "https://lh3.googleusercontent.com/a-/AOh14GjOdnL6KUzzQMPHfk6as2xRMsOSbJoBMF9oJSaK=s64",
      "userId": "11697854241316775674"
     },
     "user_tz": -330
    },
    "id": "PV-QXFOajUMp",
    "scrolled": true
   },
   "outputs": [],
   "source": [
    "xbar1=13\n",
    "xbar2=15\n",
    "sigma1=4.1\n",
    "sigma2=3.5\n",
    "n1=160\n",
    "n2=180"
   ]
  },
  {
   "cell_type": "code",
   "execution_count": 15,
   "id": "7584e5ac",
   "metadata": {
    "executionInfo": {
     "elapsed": 5061,
     "status": "aborted",
     "timestamp": 1606967020641,
     "user": {
      "displayName": "Mallikarjuna Doddamane",
      "photoUrl": "https://lh3.googleusercontent.com/a-/AOh14GjOdnL6KUzzQMPHfk6as2xRMsOSbJoBMF9oJSaK=s64",
      "userId": "11697854241316775674"
     },
     "user_tz": -330
    },
    "id": "37Q1qRJ4jUMt",
    "scrolled": false
   },
   "outputs": [
    {
     "data": {
      "text/plain": [
       "-4.806830552525058"
      ]
     },
     "execution_count": 15,
     "metadata": {},
     "output_type": "execute_result"
    }
   ],
   "source": [
    "num=(xbar1-xbar2)\n",
    "deno=(sigma1**2/n1) + (sigma2**2/n2)\n",
    "test_stats=num/np.sqrt(deno)\n",
    "test_stats"
   ]
  },
  {
   "cell_type": "code",
   "execution_count": 16,
   "id": "9cd36182",
   "metadata": {},
   "outputs": [
    {
     "data": {
      "text/plain": [
       "1.9999984665814883"
      ]
     },
     "execution_count": 16,
     "metadata": {},
     "output_type": "execute_result"
    }
   ],
   "source": [
    "# pValue\n",
    "(1-stats.norm.cdf(test_stats))*2"
   ]
  },
  {
   "cell_type": "code",
   "execution_count": 21,
   "id": "5738c667",
   "metadata": {},
   "outputs": [
    {
     "data": {
      "text/plain": [
       "(-3.0717370938718864, -0.9282629061281136)"
      ]
     },
     "execution_count": 21,
     "metadata": {},
     "output_type": "execute_result"
    }
   ],
   "source": [
    "stats.norm.interval(0.99,loc=num,scale=np.sqrt(deno))"
   ]
  },
  {
   "cell_type": "markdown",
   "id": "84c0fcca",
   "metadata": {
    "id": "1FHZAY-0jUMv"
   },
   "source": [
    "<a id=\"t\"></a>\n",
    "# 3. Small Sample Test"
   ]
  },
  {
   "cell_type": "markdown",
   "id": "fc1ba73e",
   "metadata": {
    "id": "gliE2djJjUMv"
   },
   "source": [
    "If the sample size is small (usually, n < 30) then we use the `t-test`. These tests are also known as `exact tests`."
   ]
  },
  {
   "cell_type": "markdown",
   "id": "21e221bb",
   "metadata": {
    "id": "xB0iAEpyjUNV"
   },
   "source": [
    "<a id=\"2t\"></a>\n",
    "## 3.1 Two Sample t Test (Unpaired)"
   ]
  },
  {
   "cell_type": "markdown",
   "id": "f5eac262",
   "metadata": {
    "id": "T0GSiOeFjUNV"
   },
   "source": [
    "The two sample t-test is used to compare the means of two independent populations. This test assumes that the populations are normally distributed from which the samples are taken.\n",
    "\n",
    "The null and alternative hypothesis is given as:\n",
    "<p style='text-indent:25em'> <strong> $H_{0}: \\mu_{1} - \\mu_{2} = \\mu_{0}$ or $\\mu_{1} - \\mu_{2} \\geq \\mu_{0}$ or $\\mu_{1} -\\mu_{2} \\leq \\mu_{0}$</strong></p>\n",
    "<p style='text-indent:25em'> <strong> $H_{1}: \\mu_{1} - \\mu_{2} \\neq \\mu_{0} $ or $\\mu_{1} - \\mu_{2} < \\mu_{0}$ or $\\mu_{1} -\\mu_{2} > \\mu_{0}$</strong></p>"
   ]
  },
  {
   "cell_type": "markdown",
   "id": "9fa6770d",
   "metadata": {
    "id": "Ydl-oa6djUNV"
   },
   "source": [
    "Let us take a sample of size ($n_{1}$) from the first population and sample of size ($n_{2}$) from a second independent population. If both $n_{1}$ and $n_{2}$ are less than 30 and standard deviation of populations are unknown. We use two-sample t-test.\n",
    "\n",
    "Consider the equal variance for both the populations. The test statistic for two sample t-test is given as:\n",
    "<p style='text-indent:25em'> <strong> $t = \\frac{(\\overline{X_{1}} - \\overline{X_{2}}) - \\mu_{0}} {s \\sqrt{\\frac{1}{n_{1}} + \\frac{1}{n_{2}}}}$</strong></p>\n",
    "\n",
    "Where, <br>\n",
    "$\\overline{X_{1}}$, $\\overline{X_{2}}$: Mean of both the samples<br>\n",
    "$\\mu_{0}$: Mean difference given in the null hypothesis<br>\n",
    "$s$: Pooled standard deviation<br>\n",
    "$n_{1}, n_{2}$: Size of samples from both the populations\n",
    "\n",
    "The pooled standard deviation is defined as:\n",
    "$s = \\sqrt{\\frac{(n_{1} - 1)s_{1}^{2} + (n_{2} - 1)s_{2}^{2}}{n_{1} + n_{2} - 2}}$ $\\hspace{2cm}$  Where, $s_{1}, s_{2}$: Standard deviation of both the samples\n",
    "\n",
    "Under $H_{0}$, the test statistic follows a t-distribution with $(n_{1}+n_{2}-2)$ degrees of freedom."
   ]
  },
  {
   "cell_type": "markdown",
   "id": "802f9315",
   "metadata": {
    "id": "ugMmycEPjUNW"
   },
   "source": [
    "If the population variances are equal and also the sample size is the same for both the samples then the test statistic is given as:\n",
    "<p style='text-indent:25em'> <strong> $t = \\frac{(\\overline{X_{1}} - \\overline{X_{2}}) - \\mu_{0}} {s \\sqrt{\\frac{2}{n}}}$</strong></p>\n",
    "\n",
    "Where the pooled standard deviation $s = \\sqrt{\\frac{s_{1}^{2} + s_{2}^{2}}{2}}$\n",
    "\n",
    "Under $H_{0}$, the test statistic follows a t-distribution with $(2n-2)$ degrees of freedom."
   ]
  },
  {
   "cell_type": "markdown",
   "id": "9d07d51c",
   "metadata": {
    "id": "6FlpZGqkjUNX"
   },
   "source": [
    "If both the population variances and the sample sizes are not equal then the Welch's test is used."
   ]
  },
  {
   "cell_type": "markdown",
   "id": "cf5bc75c",
   "metadata": {
    "id": "pdA-6L1tjUNX"
   },
   "source": [
    "### Example: \n",
    "\n",
    "#### 1. The teachers' association claims that the total score of the students who completed the test preparation course is different than the total score of the students who have not completed the course. The sample data consists of 15 students who completed the course and 18 students who have not completed the course. Test the association's claim with ⍺ = 0.05."
   ]
  },
  {
   "cell_type": "markdown",
   "id": "9102b2b6",
   "metadata": {
    "id": "rDve_0ZzjUNY"
   },
   "source": [
    "Consider the total score of the students who have/ have not completed the preparation course are given in the CSV file `totalmarks_2ttest.csv`."
   ]
  },
  {
   "cell_type": "code",
   "execution_count": 22,
   "id": "ae1c9b7d",
   "metadata": {
    "id": "tXitheyTjUNY",
    "outputId": "99b4f609-fbc3-4de5-82ab-2f7288f3f510",
    "scrolled": false
   },
   "outputs": [
    {
     "data": {
      "text/html": [
       "<div>\n",
       "<style scoped>\n",
       "    .dataframe tbody tr th:only-of-type {\n",
       "        vertical-align: middle;\n",
       "    }\n",
       "\n",
       "    .dataframe tbody tr th {\n",
       "        vertical-align: top;\n",
       "    }\n",
       "\n",
       "    .dataframe thead th {\n",
       "        text-align: right;\n",
       "    }\n",
       "</style>\n",
       "<table border=\"1\" class=\"dataframe\">\n",
       "  <thead>\n",
       "    <tr style=\"text-align: right;\">\n",
       "      <th></th>\n",
       "      <th>gender</th>\n",
       "      <th>race/ethnicity</th>\n",
       "      <th>lunch</th>\n",
       "      <th>test preparation course</th>\n",
       "      <th>math score</th>\n",
       "      <th>reading score</th>\n",
       "      <th>writing score</th>\n",
       "      <th>total score</th>\n",
       "      <th>training institute</th>\n",
       "    </tr>\n",
       "  </thead>\n",
       "  <tbody>\n",
       "    <tr>\n",
       "      <th>0</th>\n",
       "      <td>male</td>\n",
       "      <td>group E</td>\n",
       "      <td>standard</td>\n",
       "      <td>completed</td>\n",
       "      <td>84</td>\n",
       "      <td>83</td>\n",
       "      <td>78</td>\n",
       "      <td>245</td>\n",
       "      <td>Speak Global Learning</td>\n",
       "    </tr>\n",
       "    <tr>\n",
       "      <th>1</th>\n",
       "      <td>male</td>\n",
       "      <td>group C</td>\n",
       "      <td>free/reduced</td>\n",
       "      <td>completed</td>\n",
       "      <td>79</td>\n",
       "      <td>77</td>\n",
       "      <td>75</td>\n",
       "      <td>231</td>\n",
       "      <td>Speak Global Learning</td>\n",
       "    </tr>\n",
       "  </tbody>\n",
       "</table>\n",
       "</div>"
      ],
      "text/plain": [
       "  gender race/ethnicity         lunch test preparation course  math score  \\\n",
       "0   male        group E      standard               completed          84   \n",
       "1   male        group C  free/reduced               completed          79   \n",
       "\n",
       "   reading score  writing score  total score     training institute  \n",
       "0             83             78          245  Speak Global Learning  \n",
       "1             77             75          231  Speak Global Learning  "
      ]
     },
     "execution_count": 22,
     "metadata": {},
     "output_type": "execute_result"
    }
   ],
   "source": [
    "# read the students performance data \n",
    "test = pd.read_csv('totalmarks_2ttest.csv')\n",
    "\n",
    "# display the first two observations\n",
    "test.head(2)"
   ]
  },
  {
   "cell_type": "code",
   "execution_count": 24,
   "id": "6a5318c6",
   "metadata": {
    "id": "9E4fXDWSjUNa",
    "outputId": "c1d0dc69-cf2a-481b-b80c-a7c3a2954638"
   },
   "outputs": [],
   "source": [
    "# exxtract the samples\n",
    "\n",
    "completed=test.loc[test['test preparation course']=='completed','total score']\n",
    "none=test.loc[test['test preparation course']=='none','total score']"
   ]
  },
  {
   "cell_type": "markdown",
   "id": "cb92bdbf",
   "metadata": {
    "id": "BAk7zdnmjUNc"
   },
   "source": [
    "Let us check the normality of the total marks of students who have/ have not completed the test preparation course."
   ]
  },
  {
   "cell_type": "code",
   "execution_count": 25,
   "id": "b93be40b",
   "metadata": {
    "id": "N0k0f_mKjUNc",
    "outputId": "6f2847d3-7809-48c6-fabd-f9e77b3d1119"
   },
   "outputs": [
    {
     "data": {
      "text/plain": [
       "(ShapiroResult(statistic=0.9055536389350891, pvalue=0.11574102193117142),\n",
       " ShapiroResult(statistic=0.9481862187385559, pvalue=0.3972780704498291))"
      ]
     },
     "execution_count": 25,
     "metadata": {},
     "output_type": "execute_result"
    }
   ],
   "source": [
    "# shapiro test\n",
    "\n",
    "stats.shapiro(completed),stats.shapiro(none)"
   ]
  },
  {
   "cell_type": "markdown",
   "id": "1465d6bc",
   "metadata": {
    "id": "NlEpLnCrjUNh"
   },
   "source": [
    "Let us check the equality of variances."
   ]
  },
  {
   "cell_type": "code",
   "execution_count": 27,
   "id": "d691a95b",
   "metadata": {
    "id": "eXbuEJGbjUNh",
    "outputId": "96bb2529-d5be-45ef-acb2-db9c03972073"
   },
   "outputs": [
    {
     "data": {
      "text/plain": [
       "LeveneResult(statistic=0.045113770764648356, pvalue=0.8331854285659768)"
      ]
     },
     "execution_count": 27,
     "metadata": {},
     "output_type": "execute_result"
    }
   ],
   "source": [
    "# leneven test\n",
    "\n",
    "# Ho: equality of variance exist\n",
    "# Ha: Ho is false\n",
    "\n",
    "\n",
    "stats.levene(completed,none)"
   ]
  },
  {
   "cell_type": "code",
   "execution_count": null,
   "id": "9865a0d1",
   "metadata": {},
   "outputs": [],
   "source": [
    "# Ho: equality of variance exist\n",
    "# Ha: Ho is false\n",
    "\n"
   ]
  },
  {
   "cell_type": "markdown",
   "id": "f6e9d116",
   "metadata": {
    "id": "qzlr-zfRjUNm"
   },
   "source": [
    "The null and alternative hypothesis is:\n",
    "\n",
    "H<sub>0</sub>: $\\mu_{1} - \\mu_{2} = 0$<br>\n",
    "H<sub>1</sub>: $\\mu_{1} - \\mu_{2} \\neq 0$\n",
    "\n",
    "* **Ho: That the Test Prep Course has no effect on the Total Score**\n",
    "\n",
    "* **Ha: That the Test Prep Course haseffect on the Total Score**\n",
    "\n",
    "Here ⍺ = 0.05 and degrees of freedom = 31, for a two-tailed test let us calculate the critical t-value."
   ]
  },
  {
   "cell_type": "code",
   "execution_count": 33,
   "id": "6eadd3ed",
   "metadata": {
    "id": "YwtveqfTjUNo",
    "outputId": "06e820b1-7ac7-4954-b993-3a74abd2cecf",
    "scrolled": true
   },
   "outputs": [
    {
     "data": {
      "text/plain": [
       "-2.0395134463964077"
      ]
     },
     "execution_count": 33,
     "metadata": {},
     "output_type": "execute_result"
    }
   ],
   "source": [
    "# T critical value\n",
    "stats.t.isf(0.975,len(none)+len(completed)-2)"
   ]
  },
  {
   "cell_type": "code",
   "execution_count": 35,
   "id": "d941f303",
   "metadata": {
    "id": "WdkD_tzkjUNr",
    "outputId": "d5324c01-4431-4f31-b728-d3e2014c8853",
    "scrolled": true
   },
   "outputs": [
    {
     "data": {
      "text/plain": [
       "Ttest_indResult(statistic=1.4385323319823262, pvalue=0.16030339806989594)"
      ]
     },
     "execution_count": 35,
     "metadata": {},
     "output_type": "execute_result"
    }
   ],
   "source": [
    "# use 'ttest_ind()' to calculate the test statistic and corresponding p-value for 2 sample test\n",
    "# Welch Test: stats.ttest_ind(completed, none, equal_var=False)\n",
    "\n",
    "stats.ttest_ind(completed,none)\n",
    "\n",
    "# FTR: that means there is no difference"
   ]
  },
  {
   "cell_type": "code",
   "execution_count": 20,
   "id": "37d9c510",
   "metadata": {
    "id": "d2dTQLuwjUNs",
    "outputId": "94aeb9b1-224b-45d3-b372-808e408debda",
    "scrolled": false
   },
   "outputs": [
    {
     "ename": "NameError",
     "evalue": "name 'n_1' is not defined",
     "output_type": "error",
     "traceback": [
      "\u001b[1;31m---------------------------------------------------------------------------\u001b[0m",
      "\u001b[1;31mNameError\u001b[0m                                 Traceback (most recent call last)",
      "Cell \u001b[1;32mIn[20], line 2\u001b[0m\n\u001b[0;32m      1\u001b[0m \u001b[38;5;66;03m# calculate pooled standard deviation\u001b[39;00m\n\u001b[1;32m----> 2\u001b[0m s \u001b[38;5;241m=\u001b[39m np\u001b[38;5;241m.\u001b[39msqrt((((n_1\u001b[38;5;241m-\u001b[39m\u001b[38;5;241m1\u001b[39m)\u001b[38;5;241m*\u001b[39msamp_std_1\u001b[38;5;241m*\u001b[39m\u001b[38;5;241m*\u001b[39m\u001b[38;5;241m2\u001b[39m) \u001b[38;5;241m+\u001b[39m ((n_2\u001b[38;5;241m-\u001b[39m\u001b[38;5;241m1\u001b[39m)\u001b[38;5;241m*\u001b[39msamp_std_2\u001b[38;5;241m*\u001b[39m\u001b[38;5;241m*\u001b[39m\u001b[38;5;241m2\u001b[39m)) \u001b[38;5;241m/\u001b[39m (n_1 \u001b[38;5;241m+\u001b[39m n_2 \u001b[38;5;241m-\u001b[39m \u001b[38;5;241m2\u001b[39m))\n",
      "\u001b[1;31mNameError\u001b[0m: name 'n_1' is not defined"
     ]
    }
   ],
   "source": [
    "# calculate pooled standard deviation\n",
    "s = np.sqrt((((n_1-1)*samp_std_1**2) + ((n_2-1)*samp_std_2**2)) / (n_1 + n_2 - 2))\n",
    "\n",
    "# calculate the 95% confidence interval for the population mean\n"
   ]
  },
  {
   "cell_type": "markdown",
   "id": "473f7df0",
   "metadata": {
    "id": "w746HClrjUNx"
   },
   "source": [
    "#### 2. An experiment was conducted to compare the pain relieving hours of two new medicines. Two groups of 14 and 15 patients were selected and were given comparable doses. Group 1 was given medicine 1 and group 2 was given medicine 2. The following data is obtained from the two samples. Test whether the two populations give the same mean hours of relief. Assume the data comes from normal distribution has an equal variance. Use α = 0.01"
   ]
  },
  {
   "cell_type": "markdown",
   "id": "ac0b1c96",
   "metadata": {
    "id": "W6v9wnzpjUNx"
   },
   "source": [
    "<img src='unpaired_2t.PNG'>"
   ]
  },
  {
   "cell_type": "code",
   "execution_count": null,
   "id": "d12624c8",
   "metadata": {
    "id": "un24Ob9YjUNy",
    "outputId": "81f0a2d5-c6fb-483f-dcc9-a4c447068821"
   },
   "outputs": [],
   "source": [
    "# size of first sample\n",
    "n1=14\n",
    "\n",
    "# mean hours for medicine 1  \n",
    "\n",
    "# standard deviation of hours for medicine 1\n",
    "\n",
    "# size of second sample\n",
    "\n",
    "# mean hours for medicine 2 \n",
    "\n",
    "# standard deviation of hours for medicine 2\n",
    "\n",
    "# degrees of freedom for 2 sample t-test\n"
   ]
  },
  {
   "cell_type": "markdown",
   "id": "5b47b283",
   "metadata": {
    "id": "iICkuOPfjUN0"
   },
   "source": [
    "The null and alternative hypothesis is:\n",
    "\n",
    "H<sub>0</sub>: $\\mu_{1} - \\mu_{2} = 0$<br>\n",
    "H<sub>1</sub>: $\\mu_{1} - \\mu_{2} \\neq 0$\n",
    "\n",
    "Here ⍺ = 0.01 and degrees of freedom = 27, for a two-tailed test let us calculate the critical t-value."
   ]
  },
  {
   "cell_type": "code",
   "execution_count": null,
   "id": "776ecc14",
   "metadata": {
    "id": "2zOFY2IojUN0",
    "outputId": "e756df06-18d1-4a06-b3cd-55c8d2735d3c",
    "scrolled": true
   },
   "outputs": [],
   "source": [
    "# calculate the t-value for 99% of confidence level\n",
    "\n"
   ]
  },
  {
   "cell_type": "code",
   "execution_count": null,
   "id": "1c802e5f",
   "metadata": {
    "id": "SKOfC4EUjUN2",
    "outputId": "8a0f8daf-ff4e-4041-9471-4a977134f1d4"
   },
   "outputs": [],
   "source": [
    "# calculate pooled standard deviation\n",
    "\n",
    "# calculate the test statistic \n",
    "\n",
    "# print the test statistic value \n"
   ]
  },
  {
   "cell_type": "code",
   "execution_count": null,
   "id": "a92368b7",
   "metadata": {
    "id": "Ovx2YaNPjUN4",
    "outputId": "4372b45e-afa0-4e02-80f6-b0d8c84b65c4"
   },
   "outputs": [],
   "source": [
    "# calculate the corresponding p-value for the test statistic\n",
    "# use 'cdf()' to calculate P(t <= t_stat)\n",
    "# pass the degrees of freedom to the parameter, 'df'\n",
    "\n",
    "# for a two-tailed test multiply the p-value by 2\n"
   ]
  },
  {
   "cell_type": "code",
   "execution_count": null,
   "id": "841f1bff",
   "metadata": {
    "id": "IQV2SEY5jUN7",
    "outputId": "4c66e543-eff9-47fc-ed40-2321449f98ab",
    "scrolled": false
   },
   "outputs": [],
   "source": [
    "# calculate the 99% confidence interval for the population mean\n"
   ]
  },
  {
   "cell_type": "markdown",
   "id": "fc7ae247",
   "metadata": {
    "id": "E_u5MRgzjUN9"
   },
   "source": [
    "We can see that the test statistic value is greater than -2.77, the p-value is greater than 0.01, also the confidence interval contains the value in the null hypothesis (i.e. 0). Thus, we fail to reject (i.e. accept) the null hypothesis and conclude that the two medicines have the same hours of relief."
   ]
  },
  {
   "cell_type": "markdown",
   "id": "00f72bd9",
   "metadata": {
    "id": "L0LxrVdxjUN9"
   },
   "source": [
    "<a id=\"paired\"></a>\n",
    "## 3.2 Paired t Test"
   ]
  },
  {
   "cell_type": "markdown",
   "id": "fc86b701",
   "metadata": {
    "id": "eRwOufQqjUN9"
   },
   "source": [
    "A paired t-test is used to compare the mean of the population for two dependent samples. The dependent samples can be the scores before and after a specific treatment. \n",
    "\n",
    "Let $X_{i}$ be the sample before the treatment and $Y_{i}$ be the sample after the treatment. Let $\\mu_{X}$, $\\mu_{Y}$ be the mean of the data X and Y respectively. The mean difference $\\mu_{d} = \\mu_{Y} - \\mu_{X}$.\n",
    "\n",
    "The null and alternative hypothesis is given as:\n",
    "\n",
    "<p style='text-indent:25em'> <strong> $H_{0}: \\mu_{d} = \\mu_{0}$ or $\\mu_{d} \\geq \\mu_{0}$ or $\\mu_{d} \\leq \\mu_{0}$</strong></p>\n",
    "<p style='text-indent:25em'> <strong> $H_{1}: \\mu_{d} \\neq \\mu_{0}$ or $\\mu_{d} < \\mu_{0}$ or $\\mu_{d} > \\mu_{0}$</strong></p>\n",
    "\n",
    "The test statistic for paired t-test is given as:\n",
    "<p style='text-indent:25em'> <strong> $t = \\frac{\\overline{X_{D}} - \\mu_{0}} {\\frac{s_{D}}{\\sqrt{n}}}$</strong></p>\n",
    "\n",
    "Where, <br>\n",
    "$\\overline{X_{D}}$: Mean difference between the pairs<br>\n",
    "$\\mu_{0}$: Mean difference given in the null hypothesis<br>\n",
    "$s_{D}$: Standard deviation of differences between the pairs<br>\n",
    "$n$: Sample size\n",
    "\n",
    "Under $H_{0}$, the test statistic follows a t-distribution with (n-1) degrees of freedom."
   ]
  },
  {
   "cell_type": "markdown",
   "id": "2d67b42b",
   "metadata": {
    "id": "99MYxwsYjUN-"
   },
   "source": [
    "### Example:\n",
    "\n",
    "#### 1. A training institute wants to check if their writing training program was effective or not. 17 students are selected to check the hypothesis. Consider 0.05 as the level of significance.\n",
    "\n",
    "The writing scores before and after training are provided in the CSV file `WritingScores.csv`. "
   ]
  },
  {
   "cell_type": "code",
   "execution_count": 37,
   "id": "075a0574",
   "metadata": {
    "id": "qpwYwLRGjUN-",
    "outputId": "4633585a-faf2-4720-eeb7-fcb1fc63de42",
    "scrolled": true
   },
   "outputs": [
    {
     "data": {
      "text/html": [
       "<div>\n",
       "<style scoped>\n",
       "    .dataframe tbody tr th:only-of-type {\n",
       "        vertical-align: middle;\n",
       "    }\n",
       "\n",
       "    .dataframe tbody tr th {\n",
       "        vertical-align: top;\n",
       "    }\n",
       "\n",
       "    .dataframe thead th {\n",
       "        text-align: right;\n",
       "    }\n",
       "</style>\n",
       "<table border=\"1\" class=\"dataframe\">\n",
       "  <thead>\n",
       "    <tr style=\"text-align: right;\">\n",
       "      <th></th>\n",
       "      <th>score_before</th>\n",
       "      <th>score_after</th>\n",
       "    </tr>\n",
       "  </thead>\n",
       "  <tbody>\n",
       "    <tr>\n",
       "      <th>0</th>\n",
       "      <td>59</td>\n",
       "      <td>50</td>\n",
       "    </tr>\n",
       "    <tr>\n",
       "      <th>1</th>\n",
       "      <td>62</td>\n",
       "      <td>67</td>\n",
       "    </tr>\n",
       "  </tbody>\n",
       "</table>\n",
       "</div>"
      ],
      "text/plain": [
       "   score_before  score_after\n",
       "0            59           50\n",
       "1            62           67"
      ]
     },
     "execution_count": 37,
     "metadata": {},
     "output_type": "execute_result"
    }
   ],
   "source": [
    "# read the file containing writing scores  \n",
    "df_score = pd.read_csv('WritingScores.csv')\n",
    "\n",
    "# display the first two observations\n",
    "df_score.head(2)"
   ]
  },
  {
   "cell_type": "markdown",
   "id": "7c061444",
   "metadata": {
    "id": "jpq4SPwbjUOB"
   },
   "source": [
    "Let us check the normality of the scores before the training."
   ]
  },
  {
   "cell_type": "code",
   "execution_count": 38,
   "id": "9a7e8c31",
   "metadata": {
    "id": "K9-IW8FjjUN_",
    "outputId": "2a2e1b30-ea01-4db7-d55f-18678623f9ed"
   },
   "outputs": [
    {
     "data": {
      "text/plain": [
       "(ShapiroResult(statistic=0.947382390499115, pvalue=0.41645893454551697),\n",
       " ShapiroResult(statistic=0.9686525464057922, pvalue=0.7944169044494629))"
      ]
     },
     "execution_count": 38,
     "metadata": {},
     "output_type": "execute_result"
    }
   ],
   "source": [
    "# shapiro test\n",
    "stats.shapiro(df_score['score_before']),stats.shapiro(df_score['score_after'])"
   ]
  },
  {
   "cell_type": "markdown",
   "id": "da655275",
   "metadata": {
    "id": "YspQ9pvEjUOD"
   },
   "source": [
    "Let us check the Equality of Variance score after the training."
   ]
  },
  {
   "cell_type": "code",
   "execution_count": 39,
   "id": "dff7c5ec",
   "metadata": {
    "id": "F0I_pTD1jUOE",
    "outputId": "994edaa8-54d5-4b63-9f20-8988d6804bc0"
   },
   "outputs": [
    {
     "data": {
      "text/plain": [
       "LeveneResult(statistic=0.4612497504491918, pvalue=0.5019236019309768)"
      ]
     },
     "execution_count": 39,
     "metadata": {},
     "output_type": "execute_result"
    }
   ],
   "source": [
    "# levene test\n",
    "stats.levene(df_score['score_before'],df_score['score_after'])"
   ]
  },
  {
   "cell_type": "markdown",
   "id": "9c895c8b",
   "metadata": {
    "id": "sUAEaADtjUOF"
   },
   "source": [
    "From the above result, we can see that the p-value is greater than 0.05, thus we can say that the scores after training are normally distributed."
   ]
  },
  {
   "cell_type": "markdown",
   "id": "f7f4ac38",
   "metadata": {
    "id": "d3smCgeZjUOF"
   },
   "source": [
    "The null and alternative hypothesis is:\n",
    "\n",
    "H<sub>0</sub>: The training was not effective ($\\mu_{d} = 0$)<br>\n",
    "H<sub>1</sub>: The training was effective ($\\mu_{d} \\neq 0$)"
   ]
  },
  {
   "cell_type": "markdown",
   "id": "70462a9e",
   "metadata": {
    "id": "Km0LzLt3jUOG"
   },
   "source": [
    "Here ⍺ = 0.05 and degrees of freedom = 16, for a two-tailed test let us calculate the critical t-value."
   ]
  },
  {
   "cell_type": "code",
   "execution_count": 41,
   "id": "2754c3cc",
   "metadata": {
    "id": "PDx9EoDRjUOG",
    "outputId": "4af4ebe0-57c3-4437-9712-a5cad5000e57"
   },
   "outputs": [],
   "source": [
    "# calculate the t-value for 95% of confidence level\n"
   ]
  },
  {
   "cell_type": "code",
   "execution_count": 40,
   "id": "9db45ee1",
   "metadata": {
    "id": "45TajZ6wjUOK",
    "outputId": "e5c68ef3-996a-4f16-a89e-3bfac62697c6"
   },
   "outputs": [
    {
     "data": {
      "text/plain": [
       "TtestResult(statistic=-1.4394882729049499, pvalue=0.16929012896279846, df=16)"
      ]
     },
     "execution_count": 40,
     "metadata": {},
     "output_type": "execute_result"
    }
   ],
   "source": [
    "# use 'ttest_rel()' to calculate the t-statistic and corresponding p-value for paired samples\n",
    "\n",
    "stats.ttest_rel(df_score['score_before'],df_score['score_after'])"
   ]
  },
  {
   "cell_type": "code",
   "execution_count": null,
   "id": "3a46b440",
   "metadata": {
    "id": "-pzaUN_4jUOM",
    "outputId": "4509d9e0-26d2-4b95-933d-215307901269",
    "scrolled": false
   },
   "outputs": [],
   "source": [
    "# calculate the 95% confidence interval for the population mean\n"
   ]
  },
  {
   "cell_type": "markdown",
   "id": "60f6efb3",
   "metadata": {
    "id": "DZHZrGTxjUOS"
   },
   "source": [
    "#### 2. An energy drink distributor claims that a new advertisement poster, featuring a life-size picture of a well-known athlete, will increase the product sales in outlets by an average of 50 bottles in a week. For a random sample of 10 outlets, the following data was collected. Test that the null hypothesis that there the advertisement was effective in increasing sales. Test the hypothesis using critical region technique. Use α = 0.05.\n",
    "\n",
    "Given data:\n",
    "\n",
    "        sales_before = [33, 32, 38, 45, 37, 47, 48, 41, 45]\n",
    "        sales_after = [42, 35, 31, 41, 37, 36, 49, 49, 48]\n",
    "        \n",
    "* Ho: That the Presence of Sportsplayer has no effect on Sales\n",
    "* Ha: That the Presence of Sportsplayer has effect on Sales"
   ]
  },
  {
   "cell_type": "code",
   "execution_count": 42,
   "id": "755eba75",
   "metadata": {
    "id": "PKbYDiBOjUOT",
    "outputId": "cbe1ab76-94a1-4a76-e608-7aef27fdcac7"
   },
   "outputs": [],
   "source": [
    "sales_before = [33, 32, 38, 45, 37, 47, 48, 41, 45]\n",
    "sales_after = [42, 35, 31, 41, 37, 36, 49, 49, 48]"
   ]
  },
  {
   "cell_type": "markdown",
   "id": "6ef1ff65",
   "metadata": {
    "id": "F7iaV6UXjUOU"
   },
   "source": [
    "Let us check the normality of the sales before the advertisement."
   ]
  },
  {
   "cell_type": "code",
   "execution_count": 44,
   "id": "cd2df8a5",
   "metadata": {
    "id": "FbENRokxjUOV",
    "outputId": "581824b2-702e-4f31-dc48-8fc45d12dfd2"
   },
   "outputs": [
    {
     "data": {
      "text/plain": [
       "(ShapiroResult(statistic=0.9187210202217102, pvalue=0.3817565143108368),\n",
       " ShapiroResult(statistic=0.9118874669075012, pvalue=0.3293103277683258))"
      ]
     },
     "execution_count": 44,
     "metadata": {},
     "output_type": "execute_result"
    }
   ],
   "source": [
    "stats.shapiro(sales_before),stats.shapiro(sales_after)"
   ]
  },
  {
   "cell_type": "code",
   "execution_count": 45,
   "id": "54a1c2d2",
   "metadata": {
    "id": "x5_EUbUujUOW",
    "outputId": "50ae7fc1-cdbd-4573-8cd3-79e95427e711"
   },
   "outputs": [
    {
     "data": {
      "text/plain": [
       "LeveneResult(statistic=0.09467455621301783, pvalue=0.7622856002535852)"
      ]
     },
     "execution_count": 45,
     "metadata": {},
     "output_type": "execute_result"
    }
   ],
   "source": [
    "stats.levene(sales_before,sales_after)"
   ]
  },
  {
   "cell_type": "markdown",
   "id": "b2f43ca7",
   "metadata": {
    "id": "caBuf0CYjUOY"
   },
   "source": [
    "The null and alternative hypothesis is:\n",
    "\n",
    "H<sub>0</sub>: The advertisement was not effective in increasing sales ($\\mu_{d} \\leq 0$)<br>\n",
    "H<sub>1</sub>: The advertisement was effective in increasing sales ($\\mu_{d} > 0$)"
   ]
  },
  {
   "cell_type": "markdown",
   "id": "747f964d",
   "metadata": {
    "id": "wGJ__-jtjUOZ"
   },
   "source": [
    "Here ⍺ = 0.05 and degrees of freedom = 8, for a one-tailed test let us calculate the critical t-value."
   ]
  },
  {
   "cell_type": "code",
   "execution_count": null,
   "id": "e5942c04",
   "metadata": {
    "id": "mETFRlpJjUOZ",
    "outputId": "85290f83-157b-4205-8681-df5bf7c08ad9"
   },
   "outputs": [],
   "source": [
    "# calculate the t-value for 95% of confidence level\n"
   ]
  },
  {
   "cell_type": "code",
   "execution_count": 46,
   "id": "a09f098f",
   "metadata": {
    "id": "EsjAmoifjUOd",
    "outputId": "c2f7900f-afeb-4d26-d543-47fef6f64dd7"
   },
   "outputs": [
    {
     "data": {
      "text/plain": [
       "TtestResult(statistic=-0.10085458113185983, pvalue=0.9221477146925299, df=8)"
      ]
     },
     "execution_count": 46,
     "metadata": {},
     "output_type": "execute_result"
    }
   ],
   "source": [
    "stats.ttest_rel(sales_before,sales_after)"
   ]
  },
  {
   "cell_type": "code",
   "execution_count": null,
   "id": "25ebc4b4",
   "metadata": {},
   "outputs": [],
   "source": []
  }
 ],
 "metadata": {
  "colab": {
   "name": "STAT - Faculty Notebook (Day 3) [v2.0 - 301020].ipynb",
   "provenance": []
  },
  "kernelspec": {
   "display_name": "Python 3 (ipykernel)",
   "language": "python",
   "name": "python3"
  },
  "language_info": {
   "codemirror_mode": {
    "name": "ipython",
    "version": 3
   },
   "file_extension": ".py",
   "mimetype": "text/x-python",
   "name": "python",
   "nbconvert_exporter": "python",
   "pygments_lexer": "ipython3",
   "version": "3.11.3"
  }
 },
 "nbformat": 4,
 "nbformat_minor": 5
}
