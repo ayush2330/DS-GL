{
 "cells": [
  {
   "cell_type": "markdown",
   "id": "7803be6e",
   "metadata": {
    "id": "7803be6e"
   },
   "source": [
    "<table align=\"left\" width=100%>\n",
    "    <tr>\n",
    "        <td width=\"20%\">\n",
    "            <img src=\"GL-2.png\">\n",
    "        </td>\n",
    "        <td>\n",
    "            <div align=\"center\">\n",
    "                <font color=\"#21618C\" size=8px>\n",
    "                  <b> Faculty Notebook <br> (Day1) </b>\n",
    "                </font>\n",
    "            </div>\n",
    "        </td>\n",
    "    </tr>\n",
    "</table>"
   ]
  },
  {
   "cell_type": "markdown",
   "id": "3ce724c8",
   "metadata": {
    "id": "3ce724c8"
   },
   "source": [
    "## Table of Content\n",
    "1. **[Small Sample Test](#t)**\n",
    "    - 1.1 - **[One Sample t Test](#1t)**\n",
    "2. **[Z Proportion Test](#prop)**\n",
    "    - 2.1 - **[One Sample Test](#1_p)**"
   ]
  },
  {
   "cell_type": "markdown",
   "id": "42113758",
   "metadata": {
    "id": "42113758"
   },
   "source": [
    "<a id=\"lib\"></a>\n",
    "# 1. Import Libraries"
   ]
  },
  {
   "cell_type": "markdown",
   "id": "a13a5724",
   "metadata": {
    "id": "a13a5724"
   },
   "source": [
    "**Let us import the required libraries.**"
   ]
  },
  {
   "cell_type": "code",
   "execution_count": 1,
   "id": "47c3cfd9",
   "metadata": {
    "id": "47c3cfd9"
   },
   "outputs": [],
   "source": [
    "# import 'pandas' \n",
    "import pandas as pd \n",
    "\n",
    "# import 'numpy' \n",
    "import numpy as np\n",
    "\n",
    "# import subpackage of matplotlib\n",
    "import matplotlib.pyplot as plt\n",
    "\n",
    "# import 'seaborn'\n",
    "import seaborn as sns\n",
    "\n",
    "# to suppress warnings \n",
    "from warnings import filterwarnings\n",
    "filterwarnings('ignore')\n",
    "\n",
    "# import 'random' to generate random sample\n",
    "import random\n",
    "\n",
    "# import statistics to perform statistical computation  \n",
    "import statistics\n",
    "\n",
    "# import 'stats' package from scipy library\n",
    "from scipy import stats\n",
    "\n",
    "# import a library to perform Z-test\n",
    "from statsmodels.stats import weightstats as stests\n",
    "\n",
    "# to test the normality \n",
    "from scipy.stats import shapiro\n",
    "\n",
    "# import the function to calculate the power of test\n",
    "from statsmodels.stats import power"
   ]
  },
  {
   "cell_type": "code",
   "execution_count": 2,
   "id": "9e4f6a4b",
   "metadata": {
    "id": "9e4f6a4b"
   },
   "outputs": [],
   "source": [
    "# set the plot size using 'rcParams'\n",
    "# once the plot size is set using 'rcParams', it sets the size of all the forthcoming plots in the file\n",
    "# pass width and height in inches to 'figure.figsize' \n",
    "plt.rcParams['figure.figsize'] = [15,8]"
   ]
  },
  {
   "cell_type": "markdown",
   "id": "cb0cc28d",
   "metadata": {
    "id": "cb0cc28d"
   },
   "source": [
    "### Example:\n",
    "\n",
    "\n",
    "#### 1. A survey claims that in a math test female students tend to score fewer marks than the average marks of 75 out of 100. Consider a sample of 24 female students and perform a hypothesis test to check the claim with 90% confidence.\n",
    "\n",
    "Use the dataset available in the CSV file `mathscore_1ttest.csv`."
   ]
  },
  {
   "cell_type": "code",
   "execution_count": 3,
   "id": "f3fe30ac",
   "metadata": {
    "colab": {
     "base_uri": "https://localhost:8080/",
     "height": 173
    },
    "executionInfo": {
     "elapsed": 445,
     "status": "ok",
     "timestamp": 1663763464757,
     "user": {
      "displayName": "David Pratap",
      "userId": "09405790748084406328"
     },
     "user_tz": -330
    },
    "id": "f3fe30ac",
    "outputId": "f71c433f-b56a-4434-9e3d-c91176610509",
    "scrolled": false
   },
   "outputs": [
    {
     "data": {
      "text/html": [
       "<div>\n",
       "<style scoped>\n",
       "    .dataframe tbody tr th:only-of-type {\n",
       "        vertical-align: middle;\n",
       "    }\n",
       "\n",
       "    .dataframe tbody tr th {\n",
       "        vertical-align: top;\n",
       "    }\n",
       "\n",
       "    .dataframe thead th {\n",
       "        text-align: right;\n",
       "    }\n",
       "</style>\n",
       "<table border=\"1\" class=\"dataframe\">\n",
       "  <thead>\n",
       "    <tr style=\"text-align: right;\">\n",
       "      <th></th>\n",
       "      <th>gender</th>\n",
       "      <th>race/ethnicity</th>\n",
       "      <th>lunch</th>\n",
       "      <th>test preparation course</th>\n",
       "      <th>math score</th>\n",
       "      <th>reading score</th>\n",
       "      <th>writing score</th>\n",
       "      <th>total score</th>\n",
       "      <th>training institute</th>\n",
       "    </tr>\n",
       "  </thead>\n",
       "  <tbody>\n",
       "    <tr>\n",
       "      <th>0</th>\n",
       "      <td>male</td>\n",
       "      <td>group E</td>\n",
       "      <td>standard</td>\n",
       "      <td>completed</td>\n",
       "      <td>84</td>\n",
       "      <td>83</td>\n",
       "      <td>78</td>\n",
       "      <td>245</td>\n",
       "      <td>Speak Global Learning</td>\n",
       "    </tr>\n",
       "    <tr>\n",
       "      <th>1</th>\n",
       "      <td>male</td>\n",
       "      <td>group C</td>\n",
       "      <td>free/reduced</td>\n",
       "      <td>completed</td>\n",
       "      <td>79</td>\n",
       "      <td>77</td>\n",
       "      <td>75</td>\n",
       "      <td>231</td>\n",
       "      <td>Speak Global Learning</td>\n",
       "    </tr>\n",
       "  </tbody>\n",
       "</table>\n",
       "</div>"
      ],
      "text/plain": [
       "  gender race/ethnicity         lunch test preparation course  math score  \\\n",
       "0   male        group E      standard               completed          84   \n",
       "1   male        group C  free/reduced               completed          79   \n",
       "\n",
       "   reading score  writing score  total score     training institute  \n",
       "0             83             78          245  Speak Global Learning  \n",
       "1             77             75          231  Speak Global Learning  "
      ]
     },
     "execution_count": 3,
     "metadata": {},
     "output_type": "execute_result"
    }
   ],
   "source": [
    "# read the students performance data \n",
    "df_female_scores = pd.read_csv('totalmarks_2ttest.csv')\n",
    "\n",
    "# display the first two observations\n",
    "df_female_scores.head(2)"
   ]
  },
  {
   "cell_type": "code",
   "execution_count": 4,
   "id": "7425ad10",
   "metadata": {
    "id": "7425ad10",
    "outputId": "e3ff8879-a49b-438c-b873-3b784d9edd18"
   },
   "outputs": [
    {
     "data": {
      "text/plain": [
       "(33, 9)"
      ]
     },
     "execution_count": 4,
     "metadata": {},
     "output_type": "execute_result"
    }
   ],
   "source": [
    "# consider a list of math scores of female students from the data\n",
    "df_female_scores.shape"
   ]
  },
  {
   "cell_type": "markdown",
   "id": "0e704a11",
   "metadata": {
    "id": "0e704a11"
   },
   "source": [
    "The null and alternative hypothesis is:\n",
    "\n",
    "H<sub>0</sub>: $\\mu \\geq 75$<br>\n",
    "H<sub>1</sub>: $\\mu < 75$"
   ]
  },
  {
   "cell_type": "markdown",
   "id": "90267608",
   "metadata": {
    "id": "90267608"
   },
   "source": [
    "Here ⍺ = 0.1 and degrees of freedom = 23, for a one-tailed test let us calculate the critical t-value."
   ]
  },
  {
   "cell_type": "code",
   "execution_count": 5,
   "id": "3d3c6c57",
   "metadata": {},
   "outputs": [
    {
     "data": {
      "text/plain": [
       "-1.2815515655446004"
      ]
     },
     "execution_count": 5,
     "metadata": {},
     "output_type": "execute_result"
    }
   ],
   "source": [
    "#critical value\n",
    "alpha=0.10\n",
    "stats.norm.ppf(alpha)"
   ]
  },
  {
   "cell_type": "code",
   "execution_count": 6,
   "id": "bb33812a",
   "metadata": {
    "id": "bb33812a",
    "outputId": "aa201012-de6c-4661-ec24-8e24397f1e4c",
    "scrolled": true
   },
   "outputs": [
    {
     "name": "stdout",
     "output_type": "stream",
     "text": [
      "(18,)\n",
      "10.003085943600691\n",
      "10.29309051831862\n"
     ]
    }
   ],
   "source": [
    "# calculate test statistic\n",
    "# Ho>=75\n",
    "# Ha<75\n",
    "cl=0.9\n",
    "alpha=1-cl\n",
    "mew=75\n",
    "\n",
    "df=df_female_scores.loc[df_female_scores['gender']=='female','math score']\n",
    "print(df.shape)\n",
    "\n",
    "xbar=df.mean()\n",
    "sigma=df.std(ddof=0)\n",
    "print(sigma)\n",
    "# ddof -1 in numpy considers n-1 in denom.\n",
    "\n",
    "samplesd=np.std(df,ddof=1)\n",
    "print(samplesd)"
   ]
  },
  {
   "cell_type": "code",
   "execution_count": 7,
   "id": "dd9c95d5",
   "metadata": {
    "id": "dd9c95d5"
   },
   "outputs": [
    {
     "name": "stdout",
     "output_type": "stream",
     "text": [
      "TestStats: -6.691879119078237\n"
     ]
    }
   ],
   "source": [
    "# Ztest\n",
    "mew=75\n",
    "n=df.shape[0]\n",
    "num=xbar-mew\n",
    "deno=sigma/np.sqrt(n)\n",
    "teststats=num/deno\n",
    "print('TestStats:',teststats)"
   ]
  },
  {
   "cell_type": "code",
   "execution_count": 8,
   "id": "a655baa6",
   "metadata": {
    "id": "a655baa6",
    "outputId": "e165fa72-58ac-494f-a6db-7cefdba2901e"
   },
   "outputs": [
    {
     "data": {
      "text/plain": [
       "TtestResult(statistic=-6.50333753824416, pvalue=5.409677011466925e-06, df=17)"
      ]
     },
     "execution_count": 8,
     "metadata": {},
     "output_type": "execute_result"
    }
   ],
   "source": [
    "# one sample T test\n",
    "stats.ttest_1samp(df,mew)"
   ]
  },
  {
   "cell_type": "code",
   "execution_count": 9,
   "id": "61083207",
   "metadata": {},
   "outputs": [
    {
     "data": {
      "text/plain": [
       "TtestResult(statistic=-6.50333753824416, pvalue=2.7048385057334625e-06, df=17)"
      ]
     },
     "execution_count": 9,
     "metadata": {},
     "output_type": "execute_result"
    }
   ],
   "source": [
    "stats.ttest_1samp(df,mew,alternative='less')"
   ]
  },
  {
   "cell_type": "code",
   "execution_count": 10,
   "id": "66af143e",
   "metadata": {},
   "outputs": [
    {
     "data": {
      "text/plain": [
       "2.7048385057334625e-06"
      ]
     },
     "execution_count": 10,
     "metadata": {},
     "output_type": "execute_result"
    }
   ],
   "source": [
    "# p value using cdf function\n",
    "stats.t.cdf(-6.50333753824416,df=n-1)"
   ]
  },
  {
   "cell_type": "code",
   "execution_count": null,
   "id": "9da777cc",
   "metadata": {},
   "outputs": [],
   "source": []
  },
  {
   "cell_type": "code",
   "execution_count": null,
   "id": "c65f3b05",
   "metadata": {},
   "outputs": [],
   "source": []
  },
  {
   "cell_type": "code",
   "execution_count": null,
   "id": "f1e178cc",
   "metadata": {},
   "outputs": [],
   "source": []
  },
  {
   "cell_type": "markdown",
   "id": "cbb57e7e",
   "metadata": {
    "id": "cbb57e7e"
   },
   "source": [
    "<a id=\"prop\"></a>\n",
    "# 2. Z Proportion Test"
   ]
  },
  {
   "cell_type": "markdown",
   "id": "5fc434e8",
   "metadata": {
    "id": "5fc434e8"
   },
   "source": [
    "<a id=\"1_p\"></a>\n",
    "## 2.1 One Sample Test"
   ]
  },
  {
   "cell_type": "markdown",
   "id": "18e6276f",
   "metadata": {
    "id": "18e6276f"
   },
   "source": [
    "Perform one sample Z test for the population proportion. We compare the population proportion ($P$) with a specific value ($P_{0}$).\n",
    "\n",
    "The null and alternative hypothesis is given as:\n",
    "\n",
    "<p style='text-indent:25em'> <strong> $H_{0}: P = P_{0}$ or $P \\geq P_{0}$ or $P \\leq P_{0}$</strong></p>\n",
    "<p style='text-indent:25em'> <strong> $H_{1}: P \\neq P_{0}$ or $P < P_{0}$ or $P > P_{0}$</strong></p>"
   ]
  },
  {
   "cell_type": "markdown",
   "id": "3c4b114b",
   "metadata": {
    "id": "3c4b114b"
   },
   "source": [
    "The test statistic for proportion Z-test is given as:\n",
    "<p style='text-indent:25em'> <strong> $Z = \\frac{p -  P_{0}}{\\sqrt{\\frac{P_{0}(1-P_{0})}{n}}}$</strong></p>\n",
    "\n",
    "Where, <br>\n",
    "$p$: Sample proportion<br>\n",
    "$n$: Sample size\n",
    "\n",
    "Under $H_{0}$, the test statistic follows a standard normal distribution."
   ]
  },
  {
   "cell_type": "markdown",
   "id": "84b5b074",
   "metadata": {
    "id": "84b5b074"
   },
   "source": [
    "### Example:\n",
    "\n",
    "#### 1. In previous years, people believed that at most 80% of male students score more than 50 marks out of 100 in Mathematics. Perform a test to check whether this percentage is more than 80. Consider the level of significance as 0.05.\n",
    "\n",
    "Consider the sample of math scores of male students available in the CSV file `StudentsPerformance.csv`."
   ]
  },
  {
   "cell_type": "code",
   "execution_count": 12,
   "id": "52e09af4",
   "metadata": {
    "id": "52e09af4",
    "outputId": "42875b64-4bc4-425c-c1d3-922799c71e15",
    "scrolled": false
   },
   "outputs": [
    {
     "data": {
      "text/html": [
       "<div>\n",
       "<style scoped>\n",
       "    .dataframe tbody tr th:only-of-type {\n",
       "        vertical-align: middle;\n",
       "    }\n",
       "\n",
       "    .dataframe tbody tr th {\n",
       "        vertical-align: top;\n",
       "    }\n",
       "\n",
       "    .dataframe thead th {\n",
       "        text-align: right;\n",
       "    }\n",
       "</style>\n",
       "<table border=\"1\" class=\"dataframe\">\n",
       "  <thead>\n",
       "    <tr style=\"text-align: right;\">\n",
       "      <th></th>\n",
       "      <th>gender</th>\n",
       "      <th>race/ethnicity</th>\n",
       "      <th>lunch</th>\n",
       "      <th>test preparation course</th>\n",
       "      <th>math score</th>\n",
       "      <th>reading score</th>\n",
       "      <th>writing score</th>\n",
       "      <th>total score</th>\n",
       "      <th>training institute</th>\n",
       "    </tr>\n",
       "  </thead>\n",
       "  <tbody>\n",
       "    <tr>\n",
       "      <th>0</th>\n",
       "      <td>female</td>\n",
       "      <td>group B</td>\n",
       "      <td>standard</td>\n",
       "      <td>none</td>\n",
       "      <td>89</td>\n",
       "      <td>55</td>\n",
       "      <td>56</td>\n",
       "      <td>200</td>\n",
       "      <td>Nature Learning</td>\n",
       "    </tr>\n",
       "    <tr>\n",
       "      <th>1</th>\n",
       "      <td>female</td>\n",
       "      <td>group C</td>\n",
       "      <td>standard</td>\n",
       "      <td>completed</td>\n",
       "      <td>55</td>\n",
       "      <td>63</td>\n",
       "      <td>72</td>\n",
       "      <td>190</td>\n",
       "      <td>Nature Learning</td>\n",
       "    </tr>\n",
       "  </tbody>\n",
       "</table>\n",
       "</div>"
      ],
      "text/plain": [
       "   gender race/ethnicity     lunch test preparation course  math score  \\\n",
       "0  female        group B  standard                    none          89   \n",
       "1  female        group C  standard               completed          55   \n",
       "\n",
       "   reading score  writing score  total score training institute  \n",
       "0             55             56          200    Nature Learning  \n",
       "1             63             72          190    Nature Learning  "
      ]
     },
     "execution_count": 12,
     "metadata": {},
     "output_type": "execute_result"
    }
   ],
   "source": [
    "# read the students performance data \n",
    "df_student = pd.read_csv('StudentsPerformance.csv')\n",
    "\n",
    "# display the first two observations\n",
    "df_student.head(2)"
   ]
  },
  {
   "cell_type": "markdown",
   "id": "e8d157d6",
   "metadata": {
    "id": "e8d157d6"
   },
   "source": [
    "The null and alternative hypothesis is:\n",
    "\n",
    "H<sub>0</sub>: $P \\leq 0.8$<br>\n",
    "H<sub>1</sub>: $P > 0.8$ "
   ]
  },
  {
   "cell_type": "markdown",
   "id": "32e6ec05",
   "metadata": {
    "id": "32e6ec05"
   },
   "source": [
    "Here ⍺ = 0.05, for a one-tailed test calculate the critical z-value."
   ]
  },
  {
   "cell_type": "code",
   "execution_count": 17,
   "id": "3fb6ebbf",
   "metadata": {
    "id": "3fb6ebbf",
    "outputId": "7e37333b-eb38-451e-d878-df8e0df13fe7"
   },
   "outputs": [
    {
     "data": {
      "text/plain": [
       "(483, 9)"
      ]
     },
     "execution_count": 17,
     "metadata": {},
     "output_type": "execute_result"
    }
   ],
   "source": [
    "# select male students \n",
    "df_student['gender'].unique()\n",
    "males=df_student.loc[df_student.gender=='male']\n",
    "males.shape"
   ]
  },
  {
   "cell_type": "code",
   "execution_count": 35,
   "id": "e2b6e611",
   "metadata": {},
   "outputs": [],
   "source": [
    "# now using the male dataset wer will apply the condition\n",
    "# finding score >80\n",
    "count_80=males.loc[males['math score']>50].shape[0]\n",
    "\n",
    "samp_prop=count_80/males.shape[0]\n",
    "samp_prop\n",
    "n=483\n",
    "hyp_prop=0.80"
   ]
  },
  {
   "cell_type": "code",
   "execution_count": 29,
   "id": "41be4b48",
   "metadata": {},
   "outputs": [
    {
     "data": {
      "text/plain": [
       "1.6448536269514729"
      ]
     },
     "execution_count": 29,
     "metadata": {},
     "output_type": "execute_result"
    }
   ],
   "source": [
    "stats.norm.isf(0.05)"
   ]
  },
  {
   "cell_type": "code",
   "execution_count": 36,
   "id": "805cb3b5",
   "metadata": {
    "id": "805cb3b5",
    "outputId": "9aaa003e-7689-4c66-9b2e-04b2291d333a"
   },
   "outputs": [
    {
     "data": {
      "text/plain": [
       "4.163394160018601"
      ]
     },
     "execution_count": 36,
     "metadata": {},
     "output_type": "execute_result"
    }
   ],
   "source": [
    "# Test Statistic\n",
    "test_stats=(samp_prop-hyp_prop)/np.sqrt((hyp_prop*(1-hyp_prop))/n)\n",
    "test_stats"
   ]
  },
  {
   "cell_type": "code",
   "execution_count": 40,
   "id": "0c00a003",
   "metadata": {
    "id": "0c00a003",
    "outputId": "c225acf3-3f5f-4925-acbe-892993f18aed"
   },
   "outputs": [
    {
     "data": {
      "text/plain": [
       "1.5677570141203745e-05"
      ]
     },
     "execution_count": 40,
     "metadata": {},
     "output_type": "execute_result"
    }
   ],
   "source": [
    "1-stats.norm.cdf(test_stats)\n",
    "\n",
    "# reject the null hypothesis which means more> 80% students are able to achive more than 50% marks"
   ]
  },
  {
   "cell_type": "code",
   "execution_count": 41,
   "id": "04027d15",
   "metadata": {
    "id": "04027d15",
    "outputId": "e79ef7ff-566d-465f-b4fc-07382e21566a",
    "scrolled": true
   },
   "outputs": [
    {
     "data": {
      "text/plain": [
       "(0.8401038178124423, 0.9114489772186136)"
      ]
     },
     "execution_count": 41,
     "metadata": {},
     "output_type": "execute_result"
    }
   ],
   "source": [
    "# calculate the 95% confidence interval\n",
    "stats.norm.interval(0.95,loc=samp_prop,scale=np.sqrt((hyp_prop*(1-hyp_prop))/n))"
   ]
  },
  {
   "cell_type": "markdown",
   "id": "3ffd60a1",
   "metadata": {
    "id": "3ffd60a1"
   },
   "source": [
    "#### 2. From a sample of 361 business owners had gone into bankruptcy due to recession. On taking a survey, it was found that 105 of them had not consulted any professional for managing their finance before opening the business. Test the null hypothesis that at most 25% of all businesses had not consulted before opening the business. Test the claim using p-value technique. Use α = 0.05."
   ]
  },
  {
   "cell_type": "markdown",
   "id": "31016b67",
   "metadata": {
    "id": "31016b67"
   },
   "source": [
    "The null and alternative hypothesis is:\n",
    "\n",
    "H<sub>0</sub>: $P \\leq 0.25$<br>\n",
    "H<sub>1</sub>: $P > 0.25$ "
   ]
  },
  {
   "cell_type": "code",
   "execution_count": 37,
   "id": "628290eb",
   "metadata": {},
   "outputs": [
    {
     "data": {
      "text/plain": [
       "0.5199388058383725"
      ]
     },
     "execution_count": 37,
     "metadata": {},
     "output_type": "execute_result"
    }
   ],
   "source": [
    "# p value\n",
    "stats.norm.cdf(0.05)"
   ]
  },
  {
   "cell_type": "code",
   "execution_count": 47,
   "id": "4f11f341",
   "metadata": {},
   "outputs": [
    {
     "data": {
      "text/plain": [
       "1.6448536269514729"
      ]
     },
     "execution_count": 47,
     "metadata": {},
     "output_type": "execute_result"
    }
   ],
   "source": [
    "n=361\n",
    "x=105\n",
    "samp_prop=x/n\n",
    "hyp_prop=0.25\n",
    "stats.norm.isf(0.05)"
   ]
  },
  {
   "cell_type": "code",
   "execution_count": 48,
   "id": "1df6436f",
   "metadata": {},
   "outputs": [
    {
     "data": {
      "text/plain": [
       "1.7928245201151534"
      ]
     },
     "execution_count": 48,
     "metadata": {},
     "output_type": "execute_result"
    }
   ],
   "source": [
    "test_stats=(samp_prop-hyp_prop)/np.sqrt((hyp_prop*(1-hyp_prop))/n)\n",
    "test_stats"
   ]
  },
  {
   "cell_type": "code",
   "execution_count": 54,
   "id": "ea683090",
   "metadata": {},
   "outputs": [
    {
     "data": {
      "text/plain": [
       "0.03650049373124953"
      ]
     },
     "execution_count": 54,
     "metadata": {},
     "output_type": "execute_result"
    }
   ],
   "source": [
    "# p value\n",
    "1-stats.norm.cdf(test_stats)"
   ]
  },
  {
   "cell_type": "code",
   "execution_count": 51,
   "id": "9c451c8e",
   "metadata": {},
   "outputs": [
    {
     "data": {
      "text/plain": [
       "(0.24619086783771343, 0.33552658368583227)"
      ]
     },
     "execution_count": 51,
     "metadata": {},
     "output_type": "execute_result"
    }
   ],
   "source": [
    "#interval\n",
    "stats.norm.interval(0.95,loc=samp_prop,scale=np.sqrt((hyp_prop*(1-hyp_prop))/n))"
   ]
  },
  {
   "cell_type": "markdown",
   "id": "e082c8e6",
   "metadata": {},
   "source": [
    "### Basis confidence interval\n",
    "\n",
    "* we observe that the confidence interval range contains 0.25 which means that the results are misleading.\n",
    "* we also notice that the PValue is rejecting Ho at 5% however it is getting FTR at 1% which suggests that the test is   \n",
    "*  running into error\n",
    "* we need more data to generate accurate results"
   ]
  }
 ],
 "metadata": {
  "colab": {
   "provenance": []
  },
  "kernelspec": {
   "display_name": "Python 3 (ipykernel)",
   "language": "python",
   "name": "python3"
  },
  "language_info": {
   "codemirror_mode": {
    "name": "ipython",
    "version": 3
   },
   "file_extension": ".py",
   "mimetype": "text/x-python",
   "name": "python",
   "nbconvert_exporter": "python",
   "pygments_lexer": "ipython3",
   "version": "3.11.3"
  }
 },
 "nbformat": 4,
 "nbformat_minor": 5
}
