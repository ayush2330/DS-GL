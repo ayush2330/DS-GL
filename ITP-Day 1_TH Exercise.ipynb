{
 "cells": [
  {
   "cell_type": "markdown",
   "metadata": {
    "id": "VL2dzL6IQa_M"
   },
   "source": [
    "<table align=\"center\" width=100%>\n",
    "    <tr>\n",
    "        <td width=\"20%\">\n",
    "            <img src=\"homework.png\">\n",
    "        </td>\n",
    "        <td>\n",
    "            <div align=\"center\">\n",
    "                <font color=\"#21618C\" size=8px>\n",
    "                    <b> TakeHome<br>(Day 1)\n",
    "                    </b>\n",
    "                </font>\n",
    "            </div>\n",
    "        </td>\n",
    "        <td width=\"25%\">\n",
    "            <img src=\"NEW_GL_Logo.png\">\n",
    "        </td>\n",
    "    </tr>\n",
    "</table>"
   ]
  },
  {
   "cell_type": "markdown",
   "metadata": {
    "id": "g80jOBmjQa_P"
   },
   "source": [
    "### Let's begin with some hands-on practice exercises"
   ]
  },
  {
   "cell_type": "markdown",
   "metadata": {
    "id": "Ml8MdFqAQa_P"
   },
   "source": [
    "<table align=\"left\">\n",
    "    <tr>\n",
    "        <td width=\"6%\">\n",
    "            <img src=\"question_icon.png\">\n",
    "        </td>\n",
    "        <td>\n",
    "            <div align=\"left\", style=\"font-size:120%\">\n",
    "                <font color=\"#21618C\">\n",
    "                    <b>1. Write a program to convert the value of 'pi' to integer</b>\n",
    "                </font>\n",
    "            </div>\n",
    "        </td>\n",
    "    </tr>\n",
    "</table>\n"
   ]
  },
  {
   "cell_type": "code",
   "execution_count": 2,
   "metadata": {
    "id": "2dtXGOWZQa_Q"
   },
   "outputs": [
    {
     "name": "stdout",
     "output_type": "stream",
     "text": [
      "3\n"
     ]
    }
   ],
   "source": [
    "# type your code here\n",
    "pi=3.14159265\n",
    "print(int(pi))"
   ]
  },
  {
   "cell_type": "markdown",
   "metadata": {
    "id": "E3wj1yU6Qa_Q"
   },
   "source": [
    "<table align=\"left\">\n",
    "    <tr>\n",
    "        <td width=\"6%\">\n",
    "            <img src=\"question_icon.png\">\n",
    "        </td>\n",
    "        <td>\n",
    "            <div align=\"left\", style=\"font-size:120%\">\n",
    "                <font color=\"#21618C\">\n",
    "                    <b>2. Find the remainder after dividing 542 by 16</b>\n",
    "                </font>\n",
    "            </div>\n",
    "        </td>\n",
    "    </tr>\n",
    "</table>"
   ]
  },
  {
   "cell_type": "code",
   "execution_count": 3,
   "metadata": {
    "id": "QCHcvLAFQa_R"
   },
   "outputs": [
    {
     "data": {
      "text/plain": [
       "14"
      ]
     },
     "execution_count": 3,
     "metadata": {},
     "output_type": "execute_result"
    }
   ],
   "source": [
    "# type your code here\n",
    "542%16\n"
   ]
  },
  {
   "cell_type": "markdown",
   "metadata": {
    "id": "gmLbuu-SQa_R"
   },
   "source": [
    "<table align=\"left\">\n",
    "    <tr>\n",
    "        <td width=\"6%\">\n",
    "            <img src=\"question_icon.png\">\n",
    "        </td>\n",
    "        <td>\n",
    "            <div align=\"left\", style=\"font-size:120%\">\n",
    "                <font color=\"#21618C\">\n",
    "                    <b>3.  Display the following pattern using single print() </b>\n",
    "                </font>\n",
    "            </div>\n",
    "        </td>\n",
    "    </tr>\n",
    "</table>"
   ]
  },
  {
   "cell_type": "markdown",
   "metadata": {
    "id": "DK3tidsyQa_R"
   },
   "source": [
    "                                *\n",
    "                                **\n",
    "                                ***\n",
    "                                ****"
   ]
  },
  {
   "cell_type": "code",
   "execution_count": 4,
   "metadata": {
    "id": "6DGUY8KZQa_R"
   },
   "outputs": [
    {
     "name": "stdout",
     "output_type": "stream",
     "text": [
      "*\n",
      "**\n",
      "***\n",
      "****\n"
     ]
    }
   ],
   "source": [
    "# type your code here\n",
    "print('''*\n",
    "**\n",
    "***\n",
    "****''')"
   ]
  },
  {
   "cell_type": "markdown",
   "metadata": {
    "id": "GMpBUTS4Qa_S"
   },
   "source": [
    "<table align=\"left\">\n",
    "    <tr>\n",
    "        <td width=\"6%\">\n",
    "            <img src=\"question_icon.png\">\n",
    "        </td>\n",
    "        <td>\n",
    "            <div align=\"left\", style=\"font-size:120%\">\n",
    "                <font color=\"#21618C\">\n",
    "                    <b>4. Write a pseudo code to check whether an entered letter is a vowel or not </b>\n",
    "                </font>\n",
    "            </div>\n",
    "        </td>\n",
    "    </tr>\n",
    "</table>"
   ]
  },
  {
   "cell_type": "raw",
   "metadata": {},
   "source": [
    "Input a letter and store it in variable \"st\"\n",
    "Convert \"st\" to lowercase\n",
    "If \"st\" is equal to 'a' OR \"st\" is equal to 'e' OR \"st\" is equal to 'i' OR \"st\" is equal to 'o' OR \"st\" is equal to 'u':\n",
    "    Display \"Letter is a vowel\"\n",
    "Else:\n",
    "    Display \"Letter is a consonant\""
   ]
  },
  {
   "cell_type": "code",
   "execution_count": 7,
   "metadata": {
    "id": "us6-BuxVQa_S"
   },
   "outputs": [
    {
     "name": "stdout",
     "output_type": "stream",
     "text": [
      "enter the letter: g\n",
      "Letter is consonant\n"
     ]
    }
   ],
   "source": [
    "# type your code here\n",
    "st=str(input(\"enter the letter: \"))\n",
    "if(st=='a' or st=='e' or st=='i' or st=='o' or st=='u' or\n",
    "  st=='A' or st=='E' or st=='I' or st=='O' or st=='U'):\n",
    "    print(\"Letter is vowel\")\n",
    "else:\n",
    "    print(\"Letter is consonant\")"
   ]
  },
  {
   "cell_type": "markdown",
   "metadata": {
    "id": "VEj2s0RsQa_S"
   },
   "source": [
    "<table align=\"left\">\n",
    "    <tr>\n",
    "        <td width=\"6%\">\n",
    "            <img src=\"question_icon.png\">\n",
    "        </td>\n",
    "        <td>\n",
    "            <div align=\"left\", style=\"font-size:120%\">\n",
    "                <font color=\"#21618C\">\n",
    "                    <b>5. Write a program to swap the two integers passed as runtime variables</b>\n",
    "                </font>\n",
    "            </div>\n",
    "        </td>\n",
    "    </tr>\n",
    "</table>\n"
   ]
  },
  {
   "cell_type": "code",
   "execution_count": 9,
   "metadata": {
    "id": "9_ZxE26bQa_S"
   },
   "outputs": [
    {
     "name": "stdout",
     "output_type": "stream",
     "text": [
      "enter value of a:5\n",
      "enter value of b:6\n",
      "before swapping\n",
      "5 6\n",
      "after swapping\n",
      "6 5\n"
     ]
    }
   ],
   "source": [
    "# type your code here\n",
    "a=int(input(\"enter value of a:\"))\n",
    "b=int(input(\"enter value of b:\"))\n",
    "print(\"before swapping\")\n",
    "print(a,b)\n",
    "a,b=b,a\n",
    "print(\"after swapping\")\n",
    "print(a,b)"
   ]
  },
  {
   "cell_type": "markdown",
   "metadata": {
    "id": "nsIi4bbwQa_T"
   },
   "source": [
    "<table align=\"left\">\n",
    "    <tr>\n",
    "        <td width=\"6%\">\n",
    "            <img src=\"question_icon.png\">\n",
    "        </td>\n",
    "        <td>\n",
    "            <div align=\"left\", style=\"font-size:120%\">\n",
    "                <font color=\"#21618C\">\n",
    "                    <b>6. Write a program to print the product of two numbers 'x' and 'y' </b>\n",
    "                    <br><br>\n",
    "                    <b> x = 10 ; y = \"15\"  </b>\n",
    "                </font>\n",
    "            </div>\n",
    "        </td>\n",
    "    </tr>\n",
    "</table>"
   ]
  },
  {
   "cell_type": "code",
   "execution_count": 10,
   "metadata": {
    "id": "YhsbZomrQa_T"
   },
   "outputs": [
    {
     "data": {
      "text/plain": [
       "150"
      ]
     },
     "execution_count": 10,
     "metadata": {},
     "output_type": "execute_result"
    }
   ],
   "source": [
    "# type your code here\n",
    "x,y=10,15\n",
    "x*y"
   ]
  },
  {
   "cell_type": "markdown",
   "metadata": {
    "id": "yn2ZFlrjQa_T"
   },
   "source": [
    "<table align=\"left\">\n",
    "    <tr>\n",
    "        <td width=\"6%\">\n",
    "            <img src=\"question_icon.png\">\n",
    "        </td>\n",
    "        <td>\n",
    "            <div align=\"left\", style=\"font-size:120%\">\n",
    "                <font color=\"#21618C\">\n",
    "                    <b> 7. Write a pseudo code to check whether input is even number or odd number (take input from user)</b>\n",
    "                </font>\n",
    "            </div>\n",
    "        </td>\n",
    "    </tr>\n",
    "</table>"
   ]
  },
  {
   "cell_type": "raw",
   "metadata": {},
   "source": [
    "Prompt the user to enter a number and store it in variable a\n",
    "\n",
    "If the remainder of dividing a by 2 is equal to 0:\n",
    "    Print \"Even\"\n",
    "Else:\n",
    "    Print \"Odd\""
   ]
  },
  {
   "cell_type": "code",
   "execution_count": 12,
   "metadata": {
    "id": "5uTz6pwVQa_T"
   },
   "outputs": [
    {
     "name": "stdout",
     "output_type": "stream",
     "text": [
      "enter the number:1\n",
      "Odd\n"
     ]
    }
   ],
   "source": [
    "# type your code here\n",
    "a=int(input(\"enter the number:\"))\n",
    "if(a%2==0):\n",
    "    print(\"Even\")\n",
    "else:\n",
    "    print(\"Odd\")"
   ]
  },
  {
   "cell_type": "markdown",
   "metadata": {
    "id": "jCXEk8wkQa_T"
   },
   "source": [
    "<table align=\"left\">\n",
    "    <tr>\n",
    "        <td width=\"6%\">\n",
    "            <img src=\"question_icon.png\">\n",
    "        </td>\n",
    "        <td>\n",
    "            <div align=\"left\", style=\"font-size:120%\">\n",
    "                <font color=\"#21618C\">\n",
    "                    <b>8. Write a pseudo code to print whether a number is divisible by 9 and a multiple of 6 (take input from the user)</b>\n",
    "                </font>\n",
    "            </div>\n",
    "        </td>\n",
    "    </tr>\n",
    "</table>"
   ]
  },
  {
   "cell_type": "raw",
   "metadata": {},
   "source": [
    "Prompt the user to enter a number and store it in variable a\n",
    "\n",
    "If the remainder of dividing a by 9 is equal to 0 and the remainder of dividing a by 6 is equal to 0:\n",
    "    Print \"Number is divisible by 9 and multiple of 6\"\n",
    "Else:\n",
    "    Print \"Number is not divisible by 9 and multiple of 6\""
   ]
  },
  {
   "cell_type": "code",
   "execution_count": 14,
   "metadata": {
    "id": "0tqTsv6qQa_T"
   },
   "outputs": [
    {
     "name": "stdout",
     "output_type": "stream",
     "text": [
      "enter the number:45\n",
      "Number is not divisible by 9 and multiple of 6\n"
     ]
    }
   ],
   "source": [
    "# type your code here\n",
    "a=int(input(\"enter the number:\"))\n",
    "if(a%9==0 and a%6==0):\n",
    "    print(\"Nummber is divisible by 9 and multiple of 6\")\n",
    "else:\n",
    "    print(\"Number is not divisible by 9 and multiple of 6\")"
   ]
  },
  {
   "cell_type": "markdown",
   "metadata": {
    "id": "CcPDpFLyQa_U"
   },
   "source": [
    "<table align=\"left\">\n",
    "    <tr>\n",
    "        <td width=\"6%\">\n",
    "            <img src=\"question_icon.png\">\n",
    "        </td>\n",
    "        <td>\n",
    "            <div align=\"left\", style=\"font-size:120%\">\n",
    "                <font color=\"#21618C\">\n",
    "                    <b>9. Write a pseudo to take 5 values from user and print their average using while loop (take input from user)</b>\n",
    "                </font>\n",
    "            </div>\n",
    "        </td>\n",
    "    </tr>\n",
    "</table>"
   ]
  },
  {
   "cell_type": "raw",
   "metadata": {},
   "source": [
    "Prompt the user to enter the range and store it in variable r\n",
    "Set add to 0\n",
    "\n",
    "For i in the range from 0 to r - 1:\n",
    "    Prompt the user to enter a number and store it in variable num\n",
    "    Add num to add\n",
    "\n",
    "Print the result of add divided by r"
   ]
  },
  {
   "cell_type": "code",
   "execution_count": 3,
   "metadata": {
    "id": "ZrmzyUiJQa_U"
   },
   "outputs": [
    {
     "name": "stdout",
     "output_type": "stream",
     "text": [
      "Enter the range: 5\n",
      "enter a number84\n",
      "enter a number78\n",
      "enter a number96\n",
      "enter a number85\n",
      "enter a number23\n",
      "73.2\n"
     ]
    }
   ],
   "source": [
    "# type your code here\n",
    "r=int(input('Enter the range: '))\n",
    "add=0\n",
    "for i in range(r):\n",
    "    num=int(input('enter a number'))\n",
    "    add+=num\n",
    "    i+=1\n",
    "print(add/r)"
   ]
  },
  {
   "cell_type": "markdown",
   "metadata": {
    "id": "LAVfwSMnvJAX"
   },
   "source": [
    "<table align=\"left\">\n",
    "    <tr>\n",
    "        <td width=\"6%\">\n",
    "            <img src=\"question_icon.png\">\n",
    "        </td>\n",
    "        <td>\n",
    "            <div align=\"left\", style=\"font-size:120%\">\n",
    "                <font color=\"#21618C\">\n",
    "                    <b>10. Write a pseudo code to print table of 5 using 'for' loop.</b>\n",
    "                </font>\n",
    "            </div>\n",
    "        </td>\n",
    "    </tr>\n",
    "</table>"
   ]
  },
  {
   "cell_type": "raw",
   "metadata": {},
   "source": [
    "Prompt the user to enter a value and store it in variable a\n",
    "\n",
    "For i in the range from 1 to 10 (inclusive):\n",
    "    Calculate product = a * i\n",
    "    Print the value of a, \" X \", i, \" = \", product\n",
    "\n",
    "End For"
   ]
  },
  {
   "cell_type": "code",
   "execution_count": 19,
   "metadata": {
    "id": "kmX8KFdcvJAX"
   },
   "outputs": [
    {
     "name": "stdout",
     "output_type": "stream",
     "text": [
      "Enter the value for table:5\n",
      "5  X  1  =  5\n",
      "5  X  2  =  10\n",
      "5  X  3  =  15\n",
      "5  X  4  =  20\n",
      "5  X  5  =  25\n",
      "5  X  6  =  30\n",
      "5  X  7  =  35\n",
      "5  X  8  =  40\n",
      "5  X  9  =  45\n",
      "5  X  10  =  50\n"
     ]
    }
   ],
   "source": [
    "a=int(input(\"Enter the value for table:\"))\n",
    "for i in range(1,11):\n",
    "    print(a,\" X \",i,\" = \",a*i)"
   ]
  },
  {
   "cell_type": "markdown",
   "metadata": {
    "id": "yoAu4pUNvJAX"
   },
   "source": [
    "<table align=\"left\">\n",
    "    <tr>\n",
    "        <td width=\"6%\">\n",
    "            <img src=\"question_icon.png\">\n",
    "        </td>\n",
    "        <td>\n",
    "            <div align=\"left\", style=\"font-size:120%\">\n",
    "                <font color=\"#21618C\">\n",
    "                    <b>11. Write a pseudo code for generating a fibonacci series starting with 0 and 1 for 10 values using while loop. </b>\n",
    "                </font>\n",
    "            </div>\n",
    "        </td>\n",
    "    </tr>\n",
    "</table>"
   ]
  },
  {
   "cell_type": "raw",
   "metadata": {},
   "source": [
    "Set num to 10\n",
    "Set n1 to 0\n",
    "Set n2 to 1\n",
    "Set s to 0\n",
    "Set i to 0\n",
    "\n",
    "While i is less than num:\n",
    "    Print n1 followed by a comma and a space (without newline)\n",
    "    Add n1 to s\n",
    "    Set sn to n1 + n2\n",
    "    Set n1 to n2\n",
    "    Set n2 to sn\n",
    "    Increment i by 1\n",
    "\n",
    "End While"
   ]
  },
  {
   "cell_type": "code",
   "execution_count": 1,
   "metadata": {
    "id": "Wae8C4S5vJAX"
   },
   "outputs": [
    {
     "name": "stdout",
     "output_type": "stream",
     "text": [
      "0,1,1,2,3,5,8,13,21,34,"
     ]
    }
   ],
   "source": [
    "num=10\n",
    "n1=0\n",
    "n2=1\n",
    "s=0\n",
    "i=0\n",
    "while(i<num):\n",
    "    print(n1,end=',')\n",
    "    s=s+n1\n",
    "    sn=n1+n2\n",
    "    n1=n2\n",
    "    n2=sn\n",
    "    i=i+1"
   ]
  },
  {
   "cell_type": "markdown",
   "metadata": {
    "id": "sL9h2puFvJAX"
   },
   "source": [
    "<table align=\"left\">\n",
    "    <tr>\n",
    "        <td width=\"6%\">\n",
    "            <img src=\"question_icon.png\">\n",
    "        </td>\n",
    "        <td>\n",
    "            <div align=\"left\", style=\"font-size:120%\">\n",
    "                <font color=\"#21618C\">\n",
    "                    <b>12. Write a pseudo code to know whether a number is greater than the other using 'if' statement. </b>\n",
    "                </font>\n",
    "            </div>\n",
    "        </td>\n",
    "    </tr>\n",
    "</table>"
   ]
  },
  {
   "cell_type": "raw",
   "metadata": {},
   "source": [
    "Prompt the user to enter the first number and store it in variable a\n",
    "Prompt the user to enter the second number and store it in variable b\n",
    "\n",
    "If a is greater than b:\n",
    "    Print \"greater\"\n",
    "Else:\n",
    "    Print \"smaller\"\n",
    "End If"
   ]
  },
  {
   "cell_type": "code",
   "execution_count": 20,
   "metadata": {
    "id": "1aNPqYqvvJAY"
   },
   "outputs": [
    {
     "name": "stdout",
     "output_type": "stream",
     "text": [
      "enter first number:5\n",
      "enter second number:4\n",
      "greater\n"
     ]
    }
   ],
   "source": [
    "a=int(input(\"enter first number:\"))\n",
    "b=int(input(\"enter second number:\"))\n",
    "if(a>b):\n",
    "    print(\"greater\")\n",
    "else:\n",
    "    print(\"smaller\")"
   ]
  },
  {
   "cell_type": "markdown",
   "metadata": {
    "id": "ZC8l863FvJAY"
   },
   "source": [
    "<table align=\"left\">\n",
    "    <tr>\n",
    "        <td width=\"6%\">\n",
    "            <img src=\"question_icon.png\">\n",
    "        </td>\n",
    "        <td>\n",
    "            <div align=\"left\", style=\"font-size:120%\">\n",
    "                <font color=\"#21618C\">\n",
    "                    <b>13. Write a pseudo code to check whether a number is divisible by 7 or not using if else statement. </b>\n",
    "                </font>\n",
    "            </div>\n",
    "        </td>\n",
    "    </tr>\n",
    "</table>"
   ]
  },
  {
   "cell_type": "raw",
   "metadata": {},
   "source": [
    "Prompt the user to enter a number and store it in variable a\n",
    "\n",
    "If the remainder of dividing a by 7 is equal to 0:\n",
    "    Print \"Divisible\"\n",
    "Else:\n",
    "    Print \"Not Divisible\"\n",
    "End If"
   ]
  },
  {
   "cell_type": "code",
   "execution_count": 22,
   "metadata": {
    "id": "-r4JPQaUvJAY"
   },
   "outputs": [
    {
     "name": "stdout",
     "output_type": "stream",
     "text": [
      "enter the number:23\n",
      "Not Divisible\n"
     ]
    }
   ],
   "source": [
    "a=int(input(\"enter the number:\"))\n",
    "if(a%7==0):\n",
    "    print(\"Divisible\")\n",
    "else:\n",
    "    print(\"Not Divisible\")"
   ]
  },
  {
   "cell_type": "markdown",
   "metadata": {
    "id": "9bzinKe8vJAY"
   },
   "source": [
    "<table align=\"left\">\n",
    "    <tr>\n",
    "        <td width=\"6%\">\n",
    "            <img src=\"question_icon.png\">\n",
    "        </td>\n",
    "        <td>\n",
    "            <div align=\"left\", style=\"font-size:120%\">\n",
    "                <font color=\"#21618C\">\n",
    "                    <b>14. Write a pseudo code to find factorial of a number using nested if-else statement. </b>\n",
    "                </font>\n",
    "            </div>\n",
    "        </td>\n",
    "    </tr>\n",
    "</table>"
   ]
  },
  {
   "cell_type": "raw",
   "metadata": {},
   "source": [
    "Prompt the user to enter a number and store it in variable a\n",
    "Set n to 1\n",
    "\n",
    "If a is equal to 0 or a is equal to 1:\n",
    "    Print 1\n",
    "Else:\n",
    "    For i in the range from a to 2 in reverse:\n",
    "        Set n to n times i\n",
    "\n",
    "Print n"
   ]
  },
  {
   "cell_type": "code",
   "execution_count": 1,
   "metadata": {
    "id": "YnGkW0_OvJAY"
   },
   "outputs": [
    {
     "name": "stdout",
     "output_type": "stream",
     "text": [
      "enter the number:5\n",
      "120\n"
     ]
    }
   ],
   "source": [
    "a=int(input(\"enter the number:\"))\n",
    "n=1\n",
    "if(a==0 or a==1):\n",
    "    print(1)\n",
    "else:\n",
    "    for i in range(a,1,-1):\n",
    "        n=n*i\n",
    "print(n)        "
   ]
  },
  {
   "cell_type": "markdown",
   "metadata": {
    "id": "sFSPyOTkvJAY"
   },
   "source": [
    "<table align=\"left\">\n",
    "    <tr>\n",
    "        <td width=\"6%\">\n",
    "            <img src=\"question_icon.png\">\n",
    "        </td>\n",
    "        <td>\n",
    "            <div align=\"left\", style=\"font-size:120%\">\n",
    "                <font color=\"#21618C\">\n",
    "                    <b>15. Write a pseudo to know whether a number is prime or not using for and if else statement.</b>\n",
    "                </font>\n",
    "            </div>\n",
    "        </td>\n",
    "    </tr>\n",
    "</table>"
   ]
  },
  {
   "cell_type": "raw",
   "metadata": {},
   "source": [
    "Prompt the user to enter a number and store it in variable a\n",
    "Set flag to False\n",
    "\n",
    "If a is equal to 1:\n",
    "    Print a followed by \"number is not prime\"\n",
    "Else If a is greater than 1:\n",
    "    For i in the range from 2 to a - 1:\n",
    "        If the remainder of dividing a by i is equal to 0:\n",
    "            Set flag to True\n",
    "            Exit the loop\n",
    "\n",
    "    If flag is True:\n",
    "        Print a followed by \"number is prime\"\n",
    "    Else:\n",
    "        Print a followed by \"number is not prime\"\n",
    "End If"
   ]
  },
  {
   "cell_type": "code",
   "execution_count": 2,
   "metadata": {
    "id": "wq46xW9fvJAY"
   },
   "outputs": [
    {
     "name": "stdout",
     "output_type": "stream",
     "text": [
      "Enter the number:7\n",
      "7 number is not prime\n"
     ]
    }
   ],
   "source": [
    "a=int(input(\"Enter the number:\"))\n",
    "flag=False\n",
    "if(a==1):\n",
    "    print(a,\"number is not prime\")\n",
    "elif(a>1):\n",
    "    for i in range(2,a):\n",
    "        if(a%i==0):\n",
    "            flag=True\n",
    "            break\n",
    "    if flag:\n",
    "        print(a,\"number is prime\")\n",
    "    else:\n",
    "        print(a,\"number is not prime\")"
   ]
  },
  {
   "cell_type": "markdown",
   "metadata": {
    "id": "xqwVMuQ0vic-"
   },
   "source": [
    "<table align=\"left\">\n",
    "    <tr>\n",
    "        <td width=\"6%\">\n",
    "            <img src=\"question_icon.png\">\n",
    "        </td>\n",
    "        <td>\n",
    "            <div align=\"left\", style=\"font-size:120%\">\n",
    "                <font color=\"#21618C\">\n",
    "                    <b>16. Write a program to find the area of a circle for a given radius (take the input from user).</b>\n",
    "                </font>\n",
    "            </div>\n",
    "        </td>\n",
    "    </tr>\n",
    "</table>"
   ]
  },
  {
   "cell_type": "code",
   "execution_count": 2,
   "metadata": {
    "id": "SypIf2savjUJ"
   },
   "outputs": [
    {
     "name": "stdout",
     "output_type": "stream",
     "text": [
      "Enter the radius:5\n",
      "78.5\n"
     ]
    }
   ],
   "source": [
    "r=int(input('Enter the radius:'))\n",
    "area=(3.14*r**2)\n",
    "print(area)"
   ]
  },
  {
   "cell_type": "markdown",
   "metadata": {
    "id": "7WyRzvq2vj-N"
   },
   "source": [
    "<table align=\"left\">\n",
    "    <tr>\n",
    "        <td width=\"6%\">\n",
    "            <img src=\"question_icon.png\">\n",
    "        </td>\n",
    "        <td>\n",
    "            <div align=\"left\", style=\"font-size:120%\">\n",
    "                <font color=\"#21618C\">\n",
    "                    <b>17. Write a code to find the simple interest (take the input from user).</b>\n",
    "                </font>\n",
    "            </div>\n",
    "        </td>\n",
    "    </tr>\n",
    "</table>"
   ]
  },
  {
   "cell_type": "code",
   "execution_count": 4,
   "metadata": {
    "id": "_eItvYpPvosX"
   },
   "outputs": [
    {
     "name": "stdout",
     "output_type": "stream",
     "text": [
      "Enter the principle:10000\n",
      "Enter the rate:3.4\n",
      "Enter the time:6\n",
      "2040.0\n"
     ]
    }
   ],
   "source": [
    "p=int(input(\"Enter the principle:\"))\n",
    "r=float(input(\"Enter the rate:\"))\n",
    "t=int(input(\"Enter the time:\"))\n",
    "si=(p*r*t)/100\n",
    "print(si)"
   ]
  },
  {
   "cell_type": "code",
   "execution_count": null,
   "metadata": {},
   "outputs": [],
   "source": []
  }
 ],
 "metadata": {
  "colab": {
   "provenance": []
  },
  "kernelspec": {
   "display_name": "Python 3 (ipykernel)",
   "language": "python",
   "name": "python3"
  },
  "language_info": {
   "codemirror_mode": {
    "name": "ipython",
    "version": 3
   },
   "file_extension": ".py",
   "mimetype": "text/x-python",
   "name": "python",
   "nbconvert_exporter": "python",
   "pygments_lexer": "ipython3",
   "version": "3.11.3"
  }
 },
 "nbformat": 4,
 "nbformat_minor": 1
}
