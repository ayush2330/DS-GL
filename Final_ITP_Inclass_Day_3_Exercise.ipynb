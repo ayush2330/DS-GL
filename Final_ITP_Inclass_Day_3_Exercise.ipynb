{
 "cells": [
  {
   "cell_type": "markdown",
   "metadata": {
    "id": "eXWCZeS1QB7O"
   },
   "source": [
    "<table align=\"center\" width=100%>\n",
    "    <tr>\n",
    "        <td width=\"20%\">\n",
    "            <img src=\"in_class.png\">\n",
    "        </td>\n",
    "        <td>\n",
    "            <div align=\"center\">\n",
    "                <font color=\"#21618C\" size=8px>\n",
    "                    <b> Inclass-Lab<br>(Day 3)\n",
    "                    </b>\n",
    "                </font>\n",
    "            </div>\n",
    "        </td>\n",
    "        <td width=\"25%\">\n",
    "            <img src=\"NEW_GL_Logo.png\">\n",
    "        </td>\n",
    "    </tr>\n",
    "</table>"
   ]
  },
  {
   "cell_type": "markdown",
   "metadata": {
    "id": "5bmg2LEpQB7R"
   },
   "source": [
    "## Table of Content\n",
    "\n",
    "1. **[Set](#set)**\n",
    "2. **[Conditional Statements](#cond)**\n",
    "3. **[Python Flow Control](#flow_control)**\n",
    "\n",
    "\n"
   ]
  },
  {
   "cell_type": "markdown",
   "metadata": {
    "id": "Rv5-hzWOQB7R"
   },
   "source": [
    "### Let's begin with some hands-on practice exercises"
   ]
  },
  {
   "cell_type": "markdown",
   "metadata": {},
   "source": [
    "<a id=\"set\"> </a>\n",
    "## 1. Set"
   ]
  },
  {
   "cell_type": "markdown",
   "metadata": {},
   "source": [
    "<table align=\"left\">\n",
    "    <tr>\n",
    "        <td width=\"6%\">\n",
    "            <img src=\"question_icon.png\">\n",
    "        </td>\n",
    "        <td>\n",
    "            <div align=\"left\", style=\"font-size:120%\">\n",
    "                <font color=\"#21618C\">\n",
    "                    <b>1. Write the program to perform following manipulations:<br><br>\n",
    "                        a. Add '7' to the given set<br>\n",
    "                        b. Remove '3' from a given set<br>\n",
    "                        c. Clear the set\n",
    "                    </b>\n",
    "                </font>\n",
    "            </div>\n",
    "        </td>\n",
    "    </tr>\n",
    "</table>"
   ]
  },
  {
   "cell_type": "markdown",
   "metadata": {},
   "source": [
    "**Use the below set for manipulation**\n",
    "\n",
    "num_set = {1, 2, 3, 4, 5, 6}"
   ]
  },
  {
   "cell_type": "code",
   "execution_count": null,
   "metadata": {},
   "outputs": [],
   "source": [
    "d = {860: 'python', 109: 'java', 12: 'selenium'}\n",
    "for i in d:\n",
    "    print(i)"
   ]
  },
  {
   "cell_type": "markdown",
   "metadata": {},
   "source": [
    "<table align=\"left\">\n",
    "    <tr>\n",
    "        <td width=\"6%\">\n",
    "            <img src=\"question_icon.png\">\n",
    "        </td>\n",
    "        <td>\n",
    "            <div align=\"left\", style=\"font-size:120%\">\n",
    "                <font color=\"#21618C\">\n",
    "                    <b>2. Create two sets of words from the given sentences and perform the following operations:<br><br>\n",
    "                        a. Find the count of unique words in each of the sentence<br> \n",
    "                        b. Find the common words in both the sentences<br>\n",
    "                        c. Find the unique words in both the sentences\n",
    "                       </b>\n",
    "                </font>\n",
    "            </div>\n",
    "        </td>\n",
    "    </tr>\n",
    "</table>"
   ]
  },
  {
   "cell_type": "markdown",
   "metadata": {},
   "source": [
    "**Use the sentences given below:**\n",
    "    \n",
    "sentence_1 = 'We shall analyse the data using python' \n",
    "\n",
    "sentence_2 = 'Python for data science'"
   ]
  },
  {
   "cell_type": "code",
   "execution_count": 8,
   "metadata": {},
   "outputs": [
    {
     "name": "stdout",
     "output_type": "stream",
     "text": [
      "7\n",
      "4\n"
     ]
    }
   ],
   "source": [
    "sentence_1 = set(('We shall analyse the data using python').split())\n",
    "sentence_2 = set(('Python for data science').split())\n",
    "print(len(sentence_1))\n",
    "print(len(sentence_2))"
   ]
  },
  {
   "cell_type": "code",
   "execution_count": 5,
   "metadata": {},
   "outputs": [
    {
     "data": {
      "text/plain": [
       "{'data'}"
      ]
     },
     "execution_count": 5,
     "metadata": {},
     "output_type": "execute_result"
    }
   ],
   "source": [
    "sentence_1 = set(('We shall analyse the data using python').split())\n",
    "sentence_2 = set(('Python for data science').split())\n",
    "a=sentence_1.intersection(sentence_2)\n",
    "a"
   ]
  },
  {
   "cell_type": "code",
   "execution_count": 7,
   "metadata": {},
   "outputs": [
    {
     "data": {
      "text/plain": [
       "{'Python',\n",
       " 'We',\n",
       " 'analyse',\n",
       " 'for',\n",
       " 'python',\n",
       " 'science',\n",
       " 'shall',\n",
       " 'the',\n",
       " 'using'}"
      ]
     },
     "execution_count": 7,
     "metadata": {},
     "output_type": "execute_result"
    }
   ],
   "source": [
    "sentence_1 = set(('We shall analyse the data using python').split())\n",
    "sentence_2 = set(('Python for data science').split())\n",
    "a=sentence_1.symmetric_difference(sentence_2)\n",
    "a"
   ]
  },
  {
   "cell_type": "markdown",
   "metadata": {},
   "source": [
    "<table align=\"left\">\n",
    "    <tr>\n",
    "        <td width=\"6%\">\n",
    "            <img src=\"question_icon.png\">\n",
    "        </td>\n",
    "        <td>\n",
    "            <div align=\"left\", style=\"font-size:120%\">\n",
    "                <font color=\"#21618C\">\n",
    "                    <b>3. Write a program to perform following set operations:<br><br>\n",
    "                        a. Union<br> \n",
    "                        b. Intersection<br>\n",
    "                        c. Set of all the elements of set A that are not in set B<br>\n",
    "                        d. Set of all the elements of set B that are not in set A<br>\n",
    "                        e. Symmetric difference\n",
    "                    </b>\n",
    "                </font>\n",
    "            </div>\n",
    "        </td>\n",
    "    </tr>\n",
    "</table>"
   ]
  },
  {
   "cell_type": "markdown",
   "metadata": {},
   "source": [
    "**Use the below set:**\n",
    "\n",
    "A = {1, 4, 5, 2, 6, 3, 40, 7, 87, 4, 71}\n",
    "\n",
    "B = {3, 42, 51, 6, 7, 8, 54, 5}"
   ]
  },
  {
   "cell_type": "code",
   "execution_count": 13,
   "metadata": {},
   "outputs": [
    {
     "data": {
      "text/plain": [
       "{1, 2, 4, 8, 40, 42, 51, 54, 71, 87}"
      ]
     },
     "execution_count": 13,
     "metadata": {},
     "output_type": "execute_result"
    }
   ],
   "source": [
    "A = {1, 4, 5, 2, 6, 3, 40, 7, 87, 4, 71}\n",
    "\n",
    "B = {3, 42, 51, 6, 7, 8, 54, 5}\n",
    "print(A.union(B))\n",
    "print(A.intersection(B))\n",
    "print(A.difference(B))\n",
    "print(B.difference(A))\n",
    "print(A.symmetric_difference(B))"
   ]
  },
  {
   "cell_type": "markdown",
   "metadata": {
    "id": "5dkQCFEqQB7R"
   },
   "source": [
    "<a id=\"cond\"> </a>\n",
    "## 2. Conditional Statements"
   ]
  },
  {
   "cell_type": "markdown",
   "metadata": {
    "id": "TuC6JzLsQB7S"
   },
   "source": [
    "<table align=\"left\">\n",
    "    <tr>\n",
    "        <td width=\"6%\">\n",
    "            <img src=\"question_icon.png\">\n",
    "        </td>\n",
    "        <td>\n",
    "            <div align=\"left\", style=\"font-size:120%\">\n",
    "                <font color=\"#21618C\">\n",
    "                    <b>4. Write a program to check whether a given number is multiple of 7 (use if statement)</b>\n",
    "                </font>\n",
    "            </div>\n",
    "        </td>\n",
    "    </tr>\n",
    "</table>"
   ]
  },
  {
   "cell_type": "code",
   "execution_count": 14,
   "metadata": {},
   "outputs": [
    {
     "name": "stdout",
     "output_type": "stream",
     "text": [
      "Enter the number: 7\n",
      "True\n"
     ]
    }
   ],
   "source": [
    "a=int(input(\"Enter the number: \"))\n",
    "if a%7==0:\n",
    "    print(True)\n",
    "else:\n",
    "    print(False)"
   ]
  },
  {
   "cell_type": "markdown",
   "metadata": {
    "id": "XCQtcopIQB7T"
   },
   "source": [
    "<table align=\"left\">\n",
    "    <tr>\n",
    "        <td width=\"6%\">\n",
    "            <img src=\"question_icon.png\">\n",
    "        </td>\n",
    "        <td>\n",
    "            <div align=\"left\", style=\"font-size:120%\">\n",
    "                <font color=\"#21618C\">\n",
    "                    <b>5. Write a code to print the maximum of two numbers (use if-else)</b>\n",
    "                </font>\n",
    "            </div>\n",
    "        </td>\n",
    "    </tr>\n",
    "</table>"
   ]
  },
  {
   "cell_type": "code",
   "execution_count": 15,
   "metadata": {},
   "outputs": [
    {
     "name": "stdout",
     "output_type": "stream",
     "text": [
      "Enter the number: 80\n",
      "Enter the number: 45\n",
      "A is greater\n"
     ]
    }
   ],
   "source": [
    "a=int(input(\"Enter the number: \"))\n",
    "b=int(input(\"Enter the number: \"))\n",
    "if a>b:\n",
    "    print(\"A is greater\")\n",
    "else:\n",
    "    print(\"B is greater\")"
   ]
  },
  {
   "cell_type": "markdown",
   "metadata": {
    "id": "HtMw173QQB7T"
   },
   "source": [
    "<table align=\"left\">\n",
    "    <tr>\n",
    "        <td width=\"6%\">\n",
    "            <img src=\"question_icon.png\">\n",
    "        </td>\n",
    "        <td>\n",
    "            <div align=\"left\", style=\"font-size:120%\">\n",
    "                <font color=\"#21618C\">\n",
    "                    <b>6. Write a program to check whether a number is positive, negative or zero (use if-elif) </b>\n",
    "                </font>\n",
    "            </div>\n",
    "        </td>\n",
    "    </tr>\n",
    "</table>"
   ]
  },
  {
   "cell_type": "code",
   "execution_count": 20,
   "metadata": {},
   "outputs": [
    {
     "name": "stdout",
     "output_type": "stream",
     "text": [
      "Enter the number: -5\n",
      "-ve\n"
     ]
    }
   ],
   "source": [
    "a=int(input(\"Enter the number: \"))\n",
    "if a==0:\n",
    "    print(\"Zero\")\n",
    "elif a>0:\n",
    "    print(\"+ve\")\n",
    "else:\n",
    "    print(\"-ve\")"
   ]
  },
  {
   "cell_type": "markdown",
   "metadata": {
    "id": "vys6i9wOQB7U"
   },
   "source": [
    "<a id= \"flow_control\"> </a>\n",
    "## 2. Python Flow Control"
   ]
  },
  {
   "cell_type": "markdown",
   "metadata": {
    "id": "pUR_a5a1QB7U"
   },
   "source": [
    "<table align=\"left\">\n",
    "    <tr>\n",
    "        <td width=\"6%\">\n",
    "            <img src=\"question_icon.png\">\n",
    "        </td>\n",
    "        <td>\n",
    "            <div align=\"left\", style=\"font-size:120%\">\n",
    "                <font color=\"#21618C\">\n",
    "                    <b>7. Write a program for generating a fibonacci series starting with 0 and 1 for the next 10 values using a while loop. </b>\n",
    "                </font>\n",
    "            </div>\n",
    "        </td>\n",
    "    </tr>\n",
    "</table>"
   ]
  },
  {
   "cell_type": "code",
   "execution_count": 21,
   "metadata": {},
   "outputs": [
    {
     "name": "stdout",
     "output_type": "stream",
     "text": [
      "0,1,1,2,3,5,8,13,21,34,"
     ]
    }
   ],
   "source": [
    "num=10\n",
    "n1=0\n",
    "n2=1\n",
    "s=0\n",
    "i=0\n",
    "while(i<num):\n",
    "    print(n1,end=',')\n",
    "    s=s+n1\n",
    "    sn=n1+n2\n",
    "    n1=n2\n",
    "    n2=sn\n",
    "    i=i+1"
   ]
  },
  {
   "cell_type": "code",
   "execution_count": null,
   "metadata": {},
   "outputs": [],
   "source": []
  },
  {
   "cell_type": "code",
   "execution_count": null,
   "metadata": {},
   "outputs": [],
   "source": []
  },
  {
   "cell_type": "markdown",
   "metadata": {
    "id": "2sFW5SK2QB7V"
   },
   "source": [
    "<table align=\"left\">\n",
    "    <tr>\n",
    "        <td width=\"6%\">\n",
    "            <img src=\"question_icon.png\">\n",
    "        </td>\n",
    "        <td>\n",
    "            <div align=\"left\", style=\"font-size:120%\">\n",
    "                <font color=\"#21618C\">\n",
    "                    <b>8. Write a code to find factorial of a number (take the input from user). </b>\n",
    "                </font>\n",
    "            </div>\n",
    "        </td>\n",
    "    </tr>\n",
    "</table>"
   ]
  },
  {
   "cell_type": "code",
   "execution_count": null,
   "metadata": {},
   "outputs": [],
   "source": [
    "a=int(input(\"enter the number:\"))\n",
    "n=1\n",
    "if(a==0 or a==1):\n",
    "    print(1)\n",
    "else:\n",
    "    for i in range(a,1,-1):\n",
    "        n=n*i\n",
    "print(n)        "
   ]
  },
  {
   "cell_type": "markdown",
   "metadata": {
    "id": "wzqJtHqPQB7W"
   },
   "source": [
    "<table align=\"left\">\n",
    "    <tr>\n",
    "        <td width=\"6%\">\n",
    "            <img src=\"question_icon.png\">\n",
    "        </td>\n",
    "        <td>\n",
    "            <div align=\"left\", style=\"font-size:120%\">\n",
    "                <font color=\"#21618C\">\n",
    "                    <b>9. Write a program to check whether two numbers are amicable or not (take the input from user).</b>\n",
    "                </font>\n",
    "            </div>\n",
    "        </td>\n",
    "    </tr>\n",
    "</table>"
   ]
  },
  {
   "cell_type": "code",
   "execution_count": 5,
   "metadata": {},
   "outputs": [
    {
     "name": "stdout",
     "output_type": "stream",
     "text": [
      "1 2 4 5 10 11 20 22 44 55 110 284\n",
      "1 2 4 71 142 220\n"
     ]
    }
   ],
   "source": [
    "s=0\n",
    "n1=220\n",
    "for i in range(1,n1):\n",
    "    if n1%i==0:\n",
    "        print(i,end=' ')\n",
    "        s=s+i\n",
    "print(s)\n",
    "\n",
    "s1=0\n",
    "n2=284\n",
    "for j in range(1,n2):\n",
    "    if n2%j==0:\n",
    "        print(j,end=' ')\n",
    "        s1=s1+j\n",
    "print(s1)\n",
    "\n",
    "if n1==s2 and n2==s1:\n",
    "    print('Amicable')\n",
    "else:\n",
    "    print('Non Amicable')"
   ]
  },
  {
   "cell_type": "code",
   "execution_count": 22,
   "metadata": {},
   "outputs": [
    {
     "name": "stdout",
     "output_type": "stream",
     "text": [
      "enter the 1st number:220\n",
      "enter the 2nd number284\n",
      "Amicable\n"
     ]
    }
   ],
   "source": [
    "a=int(input(\"enter the 1st number:\"))\n",
    "b=int(input(\"enter the 2nd number\"))\n",
    "sum_a=0\n",
    "sum_b=0\n",
    "for i in range(1,a+1):\n",
    "    if a%i==0:\n",
    "        sum_a+=i\n",
    "for j in range(1,b+1):\n",
    "    if b%j==0:\n",
    "        sum_b+=j\n",
    "if sum_a==sum_b:\n",
    "    print('Amicable')\n",
    "else:\n",
    "    print('Non Amicable')"
   ]
  },
  {
   "cell_type": "markdown",
   "metadata": {
    "id": "rDXJ8s4rQB7W"
   },
   "source": [
    "<table align=\"left\">\n",
    "    <tr>\n",
    "        <td width=\"6%\">\n",
    "            <img src=\"question_icon.png\">\n",
    "        </td>\n",
    "        <td>\n",
    "            <div align=\"left\", style=\"font-size:120%\">\n",
    "                <font color=\"#21618C\">\n",
    "                    <b>10. Reverse string using a for loop (take the input from user).</b>\n",
    "                </font>\n",
    "            </div>\n",
    "        </td>\n",
    "    </tr>\n",
    "</table>"
   ]
  },
  {
   "cell_type": "code",
   "execution_count": 24,
   "metadata": {},
   "outputs": [
    {
     "name": "stdout",
     "output_type": "stream",
     "text": [
      "enter the string:hello\n",
      "olleh\n"
     ]
    }
   ],
   "source": [
    "s=input(\"enter the string:\")\n",
    "ns=[]\n",
    "for i in range(-1,-len(s)-1,-1):\n",
    "    ns.append(s[i])\n",
    "print(\"\".join(ns))"
   ]
  },
  {
   "cell_type": "code",
   "execution_count": 7,
   "metadata": {},
   "outputs": [
    {
     "name": "stdout",
     "output_type": "stream",
     "text": [
      "Enter the string: hello hello\n",
      "olleh olleh\n"
     ]
    }
   ],
   "source": [
    "s=''\n",
    "string=input('Enter the string: ')\n",
    "for i in string:\n",
    "    s=i+s\n",
    "print(s)"
   ]
  },
  {
   "cell_type": "markdown",
   "metadata": {
    "id": "TlmyuLWAQB7X"
   },
   "source": [
    "<table align=\"left\">\n",
    "    <tr>\n",
    "        <td width=\"6%\">\n",
    "            <img src=\"question_icon.png\">\n",
    "        </td>\n",
    "        <td>\n",
    "            <div align=\"left\", style=\"font-size:120%\">\n",
    "                <font color=\"#21618C\">\n",
    "                    <b>11. Write a code to find the average of given numbers (take the input from user).</b>\n",
    "                </font>\n",
    "            </div>\n",
    "        </td>\n",
    "    </tr>\n",
    "</table>"
   ]
  },
  {
   "cell_type": "code",
   "execution_count": 6,
   "metadata": {},
   "outputs": [
    {
     "name": "stdout",
     "output_type": "stream",
     "text": [
      "Enter the range: 5\n",
      "enter a number10\n",
      "enter a number20\n",
      "enter a number30\n",
      "enter a number50\n",
      "enter a number80\n",
      "38.0\n"
     ]
    }
   ],
   "source": [
    "r=int(input('Enter the range: '))\n",
    "add=0\n",
    "for i in range(r):\n",
    "    num=int(input('enter a number'))\n",
    "    add+=num\n",
    "print(add/r)\n"
   ]
  }
 ],
 "metadata": {
  "colab": {
   "name": "ITP-Day 3_IC Solution.ipynb",
   "provenance": []
  },
  "kernelspec": {
   "display_name": "Python 3 (ipykernel)",
   "language": "python",
   "name": "python3"
  },
  "language_info": {
   "codemirror_mode": {
    "name": "ipython",
    "version": 3
   },
   "file_extension": ".py",
   "mimetype": "text/x-python",
   "name": "python",
   "nbconvert_exporter": "python",
   "pygments_lexer": "ipython3",
   "version": "3.11.3"
  }
 },
 "nbformat": 4,
 "nbformat_minor": 1
}
