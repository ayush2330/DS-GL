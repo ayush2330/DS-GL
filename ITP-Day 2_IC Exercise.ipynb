{
 "cells": [
  {
   "cell_type": "markdown",
   "metadata": {
    "id": "MxMm-12-Hq75"
   },
   "source": [
    "<table align=\"center\" width=100%>\n",
    "    <tr>\n",
    "        <td width=\"20%\">\n",
    "            <img src=\"in_class.png\">\n",
    "        </td>\n",
    "        <td>\n",
    "            <div align=\"center\">\n",
    "                <font color=\"#21618C\" size=8px>\n",
    "                    <b> Inclass-Lab<br>(Day 2)\n",
    "                    </b>\n",
    "                </font>\n",
    "            </div>\n",
    "        </td>\n",
    "        <td width=\"25%\">\n",
    "            <img src=\"NEW_GL_Logo.png\">\n",
    "        </td>\n",
    "    </tr>\n",
    "</table>"
   ]
  },
  {
   "cell_type": "markdown",
   "metadata": {
    "id": "zE66hRPFHq76"
   },
   "source": [
    "##  Table of Content\n",
    "\n",
    "1. **[String](#string)**\n",
    "2. **[List](#list)**\n",
    "3. **[Tuple](#tuple)**\n",
    "4. **[Dictionary](#dict)**\n"
   ]
  },
  {
   "cell_type": "markdown",
   "metadata": {
    "id": "7vXnI5roHq76"
   },
   "source": [
    "### Let's begin with some hands-on practice exercises"
   ]
  },
  {
   "cell_type": "markdown",
   "metadata": {
    "id": "GhwNCvTmf99O"
   },
   "source": [
    "<a id=\"string\"></a>\n",
    "## 1. String Operations"
   ]
  },
  {
   "cell_type": "markdown",
   "metadata": {
    "id": "WWphSfFZjAVY"
   },
   "source": [
    "<table align=\"left\">\n",
    "    <tr>\n",
    "        <td width=\"6%\">\n",
    "            <img src=\"question_icon.png\">\n",
    "        </td>\n",
    "        <td>\n",
    "            <div align=\"left\", style=\"font-size:120%\">\n",
    "                <font color=\"#21618C\">\n",
    "                    <b>11. Create a string with the name 'country' and 'India' as its element. Perform the following on it:\n",
    "                    <ol type = \"1\">\n",
    "                        <li>Find its length. </li>\n",
    "                        <li>Extract it first two letters. </li>\n",
    "                        </ol></b>\n",
    "                </font>\n",
    "            </div>\n",
    "        </td>\n",
    "    </tr>\n",
    "</table>"
   ]
  },
  {
   "cell_type": "code",
   "execution_count": 3,
   "metadata": {
    "id": "yn4OaCmVjAVZ"
   },
   "outputs": [
    {
     "name": "stdout",
     "output_type": "stream",
     "text": [
      "5\n"
     ]
    },
    {
     "data": {
      "text/plain": [
       "'In'"
      ]
     },
     "execution_count": 3,
     "metadata": {},
     "output_type": "execute_result"
    }
   ],
   "source": [
    "# type your code here\n",
    "country=\"India\"\n",
    "print(len(country))\n",
    "country[0:2]"
   ]
  },
  {
   "cell_type": "markdown",
   "metadata": {
    "id": "uNrOdvg8f99U"
   },
   "source": [
    "<table align=\"left\">\n",
    "    <tr>\n",
    "        <td width=\"6%\">\n",
    "            <img src=\"question_icon.png\">\n",
    "        </td>\n",
    "        <td>\n",
    "            <div align=\"left\", style=\"font-size:120%\">\n",
    "                <font color=\"#21618C\">\n",
    "                    <b>2. Given the string 'Today is a sunny day.' \n",
    "                        <ol > <li>  Write a code to get 'Today'  and 'sunny'. </li>\n",
    "                             <li>  Obtain the last two letters. </li>\n",
    "                             <li>  Write the statement backwards.</li>\n",
    "                        </ol> </b>\n",
    "                </font>\n",
    "            </div>\n",
    "        </td>\n",
    "    </tr>\n",
    "</table>"
   ]
  },
  {
   "cell_type": "code",
   "execution_count": 32,
   "metadata": {
    "id": "26parQocjAVc"
   },
   "outputs": [
    {
     "name": "stdout",
     "output_type": "stream",
     "text": [
      "Today \n",
      "sunny\n",
      "ay\n",
      "yad ynnus a si yadoT\n"
     ]
    }
   ],
   "source": [
    "# type your code here\n",
    "s='Today is a sunny day'\n",
    "print(s[0:6])\n",
    "print(s[-9:-4])\n",
    "print(s[-2:])\n",
    "print(s[::-1])"
   ]
  },
  {
   "cell_type": "markdown",
   "metadata": {
    "id": "xozR0EP9Hq77"
   },
   "source": [
    "<a id=\"list\"> </a>\n",
    "## 2. List"
   ]
  },
  {
   "cell_type": "markdown",
   "metadata": {
    "id": "h-ajPgCZHq78"
   },
   "source": [
    "<table align=\"left\">\n",
    "    <tr>\n",
    "        <td width=\"6%\">\n",
    "            <img src=\"question_icon.png\">\n",
    "        </td>\n",
    "        <td>\n",
    "            <div align=\"left\", style=\"font-size:120%\">\n",
    "                <font color=\"#21618C\">\n",
    "                    <b>3. Write a program to perform following list operations on the list given below:<br><br>\n",
    "                        a. Check the length of mix_list_1<br>\n",
    "                        b. Check the membership of '24' in mix_list_1<br> \n",
    "                        c. Concatenate the mix_list_1 and mix_list_2<br>\n",
    "                        d. Repeat the mix_list_2 three times </b>\n",
    "                </font>\n",
    "            </div>\n",
    "        </td>\n",
    "    </tr>\n",
    "</table>"
   ]
  },
  {
   "cell_type": "markdown",
   "metadata": {
    "id": "y5fuZzHvHq78"
   },
   "source": [
    "**Lists to perform operations:**\n",
    "\n",
    "mix_list_1 = ['Learn', 24, 'Blue', False, -8]\n",
    "\n",
    "mix_list_2 = [4, 7, 'Summer']"
   ]
  },
  {
   "cell_type": "markdown",
   "metadata": {
    "id": "fb4IvjnCHq79"
   },
   "source": [
    "**a. Check the length of mix_list_1**"
   ]
  },
  {
   "cell_type": "code",
   "execution_count": 15,
   "metadata": {
    "id": "2LoU4Gt2Hq79"
   },
   "outputs": [
    {
     "data": {
      "text/plain": [
       "5"
      ]
     },
     "execution_count": 15,
     "metadata": {},
     "output_type": "execute_result"
    }
   ],
   "source": [
    "# type your code here\n",
    "mix_list_1 = ['Learn', 24, 'Blue', False, -8]\n",
    "len(mix_list_1)"
   ]
  },
  {
   "cell_type": "markdown",
   "metadata": {
    "id": "EHjSh-veHq8C"
   },
   "source": [
    "**b. Check the membership of '24' in mix_list_1**"
   ]
  },
  {
   "cell_type": "code",
   "execution_count": 16,
   "metadata": {
    "id": "xy0gdMTsHq8C"
   },
   "outputs": [
    {
     "data": {
      "text/plain": [
       "True"
      ]
     },
     "execution_count": 16,
     "metadata": {},
     "output_type": "execute_result"
    }
   ],
   "source": [
    "# type your code here\n",
    "mix_list_1 = ['Learn', 24, 'Blue', False, -8]\n",
    "24 in mix_list_1"
   ]
  },
  {
   "cell_type": "markdown",
   "metadata": {
    "id": "NggnUh-sHq8F"
   },
   "source": [
    "**c. Concatenate the mix_list_1 and mix_list_2**"
   ]
  },
  {
   "cell_type": "code",
   "execution_count": 18,
   "metadata": {
    "id": "zkokv2UxHq8F"
   },
   "outputs": [
    {
     "data": {
      "text/plain": [
       "['Learn', 24, 'Blue', False, -8, 4, 7, 'Summer']"
      ]
     },
     "execution_count": 18,
     "metadata": {},
     "output_type": "execute_result"
    }
   ],
   "source": [
    "# type your code here\n",
    "mix_list_1 = ['Learn', 24, 'Blue', False, -8]\n",
    "mix_list_2 = [4, 7, 'Summer']\n",
    "mix_list_1+mix_list_2"
   ]
  },
  {
   "cell_type": "markdown",
   "metadata": {
    "id": "KXnGgSLHHq8I"
   },
   "source": [
    "**d. Repeat the mix_list_2 three times**"
   ]
  },
  {
   "cell_type": "code",
   "execution_count": 1,
   "metadata": {
    "id": "7_9BewysHq8I"
   },
   "outputs": [
    {
     "name": "stdout",
     "output_type": "stream",
     "text": [
      "[4, 7, 'Summer', 4, 7, 'Summer', 4, 7, 'Summer']\n"
     ]
    }
   ],
   "source": [
    "# type your code here\n",
    "mix_list_2 = [4, 7, 'Summer']\n",
    "print(mix_list_2)"
   ]
  },
  {
   "cell_type": "markdown",
   "metadata": {
    "id": "WsoC37bTHq8L"
   },
   "source": [
    "<table align=\"left\">\n",
    "    <tr>\n",
    "        <td width=\"6%\">\n",
    "            <img src=\"question_icon.png\">\n",
    "        </td>\n",
    "        <td>\n",
    "            <div align=\"left\", style=\"font-size:120%\">\n",
    "                <font color=\"#21618C\">\n",
    "                    <b>4. Write the program to multiply the two lists</b>\n",
    "                </font>\n",
    "            </div>\n",
    "        </td>\n",
    "    </tr>\n",
    "</table>"
   ]
  },
  {
   "cell_type": "markdown",
   "metadata": {
    "id": "Rz2kjxyYHq8L"
   },
   "source": [
    "**Lists to perform multiplication:**\n",
    "\n",
    "num_list_1 = [1, 2, 3, 4]\n",
    "\n",
    "num_list_2 = [0, 5, 2, 1]"
   ]
  },
  {
   "cell_type": "code",
   "execution_count": 4,
   "metadata": {
    "id": "Fu5bsAB3Hq8M"
   },
   "outputs": [
    {
     "name": "stdout",
     "output_type": "stream",
     "text": [
      "[0, 10, 6, 4]\n"
     ]
    }
   ],
   "source": [
    "# type your code here\n",
    "num_list_1 = [1, 2, 3, 4]\n",
    "num_list_2 = [0, 5, 2, 1]\n",
    "res=[]\n",
    "for i in range(0,len(num_list_1)):\n",
    "               res.append(num_list_1[i]*num_list_2[i])\n",
    "print(res)"
   ]
  },
  {
   "cell_type": "markdown",
   "metadata": {
    "id": "xNgztYzkHq8P"
   },
   "source": [
    "<table align=\"left\">\n",
    "    <tr>\n",
    "        <td width=\"6%\">\n",
    "            <img src=\"question_icon.png\">\n",
    "        </td>\n",
    "        <td>\n",
    "            <div align=\"left\", style=\"font-size:120%\">\n",
    "                <font color=\"#21618C\">\n",
    "                    <b>5. Write a code to retrieve elements from a list<br><br>\n",
    "                       a. First element<br>\n",
    "                       b. Second last element<br>\n",
    "                       c. First three elements<br>\n",
    "                       d. Slice the list from 1st index till the last index with an increment of an index by 2\n",
    "                    </b>\n",
    "                </font>\n",
    "            </div>\n",
    "        </td>\n",
    "    </tr>\n",
    "</table>"
   ]
  },
  {
   "cell_type": "markdown",
   "metadata": {
    "id": "C7-N9cjuHq8P"
   },
   "source": [
    "**Use the below list**\n",
    "\n",
    "mix_list = ['Python', 1, 2, 3, 'Data', True] "
   ]
  },
  {
   "cell_type": "markdown",
   "metadata": {
    "id": "5gvhfoqGHq8Q"
   },
   "source": [
    "**a. First element**"
   ]
  },
  {
   "cell_type": "code",
   "execution_count": 1,
   "metadata": {
    "id": "RnPABxeeHq8R"
   },
   "outputs": [
    {
     "name": "stdout",
     "output_type": "stream",
     "text": [
      "Python\n"
     ]
    }
   ],
   "source": [
    "# type your code here\n",
    "mix_list = ['Python', 1, 2, 3, 'Data', True]\n",
    "print(mix_list[0])"
   ]
  },
  {
   "cell_type": "markdown",
   "metadata": {
    "id": "O4D_YwEEHq8U"
   },
   "source": [
    "**b. Second last element**"
   ]
  },
  {
   "cell_type": "code",
   "execution_count": 2,
   "metadata": {
    "id": "qoNIWqPcHq8U"
   },
   "outputs": [
    {
     "name": "stdout",
     "output_type": "stream",
     "text": [
      "Data\n"
     ]
    }
   ],
   "source": [
    "# type your code here\n",
    "mix_list = ['Python', 1, 2, 3, 'Data', True]\n",
    "print(mix_list[-2])"
   ]
  },
  {
   "cell_type": "markdown",
   "metadata": {
    "id": "KkYrr5nxHq8X"
   },
   "source": [
    "**c. First three elements**"
   ]
  },
  {
   "cell_type": "code",
   "execution_count": 3,
   "metadata": {
    "id": "cNrHgcS3Hq8Y"
   },
   "outputs": [
    {
     "name": "stdout",
     "output_type": "stream",
     "text": [
      "['Python', 1, 2]\n"
     ]
    }
   ],
   "source": [
    "# type your code here\n",
    "mix_list = ['Python', 1, 2, 3, 'Data', True]\n",
    "print(mix_list[:3])"
   ]
  },
  {
   "cell_type": "markdown",
   "metadata": {
    "collapsed": true,
    "id": "xPzM8IujHq8b"
   },
   "source": [
    "**d. Slice the list from 1st index till the last index with an increment of an index by 2**"
   ]
  },
  {
   "cell_type": "code",
   "execution_count": 31,
   "metadata": {
    "id": "LFNqcmtMHq8c"
   },
   "outputs": [
    {
     "name": "stdout",
     "output_type": "stream",
     "text": [
      "[1, 2, 3, 'Data', True]\n"
     ]
    }
   ],
   "source": [
    "# type your code here\n",
    "mix_list = ['Python', 1, 2, 3, 'Data', True]\n",
    "print(mix_list[1::1])"
   ]
  },
  {
   "cell_type": "markdown",
   "metadata": {
    "id": "__H6fsMJHq8f"
   },
   "source": []
  },
  {
   "cell_type": "markdown",
   "metadata": {
    "id": "ZzC2S5YnHq8g"
   },
   "source": [
    "**Use the below list**\n",
    "\n",
    "num_list = [4, 5, 7, -2, 0, 1] "
   ]
  },
  {
   "cell_type": "markdown",
   "metadata": {
    "id": "mcQc-2B5Hq8g"
   },
   "source": [
    "**a. Min(list)**"
   ]
  },
  {
   "cell_type": "code",
   "execution_count": 5,
   "metadata": {
    "id": "VOAZDd41Hq8g"
   },
   "outputs": [
    {
     "data": {
      "text/plain": [
       "-2"
      ]
     },
     "execution_count": 5,
     "metadata": {},
     "output_type": "execute_result"
    }
   ],
   "source": [
    "# type your code here\n",
    "num_list = [4, 5, 7, -2, 0, 1]\n",
    "min(num_list)"
   ]
  },
  {
   "cell_type": "markdown",
   "metadata": {
    "id": "aQYj7JFHHq8j"
   },
   "source": [
    "**b. Max(list)**"
   ]
  },
  {
   "cell_type": "code",
   "execution_count": 6,
   "metadata": {
    "id": "jMRj1xagHq8j"
   },
   "outputs": [
    {
     "data": {
      "text/plain": [
       "7"
      ]
     },
     "execution_count": 6,
     "metadata": {},
     "output_type": "execute_result"
    }
   ],
   "source": [
    "# type your code here\n",
    "num_list = [4, 5, 7, -2, 0, 1]\n",
    "max(num_list)"
   ]
  },
  {
   "cell_type": "markdown",
   "metadata": {
    "id": "SmJUIeeqHq8m"
   },
   "source": [
    "**c. Sort the elements (use sort() and sorted() function)**"
   ]
  },
  {
   "cell_type": "code",
   "execution_count": 9,
   "metadata": {
    "id": "hbhRFjnZHq8m"
   },
   "outputs": [
    {
     "name": "stdout",
     "output_type": "stream",
     "text": [
      "[-2, 0, 1, 4, 5, 7]\n",
      "[-2, 0, 1, 4, 5, 7]\n"
     ]
    }
   ],
   "source": [
    "# type your code here\n",
    "num_list = [4, 5, 7, -2, 0, 1]\n",
    "num_list.sort()\n",
    "print(num_list)\n",
    "\n",
    "a=sorted(num_list)\n",
    "print(a)"
   ]
  },
  {
   "cell_type": "markdown",
   "metadata": {
    "id": "KmSbjVUwHq8o"
   },
   "source": [
    "**d. Create a copy of a list**"
   ]
  },
  {
   "cell_type": "code",
   "execution_count": 11,
   "metadata": {
    "id": "56UyQFdiHq8p"
   },
   "outputs": [
    {
     "name": "stdout",
     "output_type": "stream",
     "text": [
      "[4, 5, 7, -2, 0, 1]\n"
     ]
    }
   ],
   "source": [
    "# type your code here\n",
    "l1=[4, 5, 7, -2, 0, 1]\n",
    "l2=l1.copy()\n",
    "print(l2)"
   ]
  },
  {
   "cell_type": "markdown",
   "metadata": {
    "id": "Jfot8PkZHq8r"
   },
   "source": [
    "**e. Remove element '5' from the list**"
   ]
  },
  {
   "cell_type": "code",
   "execution_count": 13,
   "metadata": {
    "id": "hERL4T88Hq8s"
   },
   "outputs": [
    {
     "name": "stdout",
     "output_type": "stream",
     "text": [
      "[4, 7, -2, 0, 1]\n"
     ]
    }
   ],
   "source": [
    "# type your code here\n",
    "l1=[4, 5, 7, -2, 0, 1]\n",
    "l1.remove(5)\n",
    "print(l1)"
   ]
  },
  {
   "cell_type": "markdown",
   "metadata": {
    "id": "irtsAX9KHq8u"
   },
   "source": [
    "<table align=\"left\">\n",
    "    <tr>\n",
    "        <td width=\"6%\">\n",
    "            <img src=\"question_icon.png\">\n",
    "        </td>\n",
    "        <td>\n",
    "            <div align=\"left\", style=\"font-size:120%\">\n",
    "                <font color=\"#21618C\">\n",
    "                    <b>7. Manipulating a list:<br><br>\n",
    "                        a. Add a new element 'Data' in the given list<br>\n",
    "                        b. Add elements 'Excel' and 'Data' in the given list<br>\n",
    "                        c. Replace an element 'C' with 'C++' in the given list<br>\n",
    "                    </b>\n",
    "                </font>\n",
    "            </div>\n",
    "        </td>\n",
    "    </tr>\n",
    "</table>"
   ]
  },
  {
   "cell_type": "markdown",
   "metadata": {
    "id": "6ksiCCmSHq8v"
   },
   "source": [
    "#### Use the below list\n",
    "\n",
    "languages_list = ['R', 'Python', 'C', 'Java']"
   ]
  },
  {
   "cell_type": "markdown",
   "metadata": {
    "id": "N1ZIGDiDHq8v"
   },
   "source": [
    "**a. Add a new element 'Data' in the given list**"
   ]
  },
  {
   "cell_type": "code",
   "execution_count": 15,
   "metadata": {
    "id": "pqdSAn1MHq8w"
   },
   "outputs": [
    {
     "name": "stdout",
     "output_type": "stream",
     "text": [
      "['R', 'Python', 'C', 'Java', 'Data']\n"
     ]
    }
   ],
   "source": [
    "# type your code here\n",
    "l1=['R', 'Python', 'C', 'Java']\n",
    "l1.append('Data')\n",
    "print(l1)"
   ]
  },
  {
   "cell_type": "markdown",
   "metadata": {
    "id": "xuln8KAsHq8y"
   },
   "source": [
    "**b. Add elements 'Excel' and 'Data' in the given list**"
   ]
  },
  {
   "cell_type": "code",
   "execution_count": 16,
   "metadata": {
    "id": "8lu6nYthHq8z"
   },
   "outputs": [
    {
     "name": "stdout",
     "output_type": "stream",
     "text": [
      "['R', 'Python', 'C', 'Java', 'Excel', 'Data']\n"
     ]
    }
   ],
   "source": [
    "# type your code here\n",
    "l1=['R', 'Python', 'C', 'Java']\n",
    "l=['Excel','Data']\n",
    "l1.extend(l)\n",
    "print(l1)"
   ]
  },
  {
   "cell_type": "markdown",
   "metadata": {
    "id": "wCl5_gw2Hq81"
   },
   "source": [
    "**c. Replace an element 'C' with 'C++' in the given list**"
   ]
  },
  {
   "cell_type": "code",
   "execution_count": 21,
   "metadata": {
    "id": "r9wdhVe-Hq82"
   },
   "outputs": [
    {
     "name": "stdout",
     "output_type": "stream",
     "text": [
      "['R', 'Python', 'C++', 'Java']\n"
     ]
    }
   ],
   "source": [
    "# type your code here\n",
    "l1=['R', 'Python', 'C', 'Java']\n",
    "l1[2]='C++'\n",
    "print(l1)"
   ]
  },
  {
   "cell_type": "markdown",
   "metadata": {
    "id": "ftGI6ZUOHq84"
   },
   "source": [
    "<table align=\"left\">\n",
    "    <tr>\n",
    "        <td width=\"6%\">\n",
    "            <img src=\"question_icon.png\">\n",
    "        </td>\n",
    "        <td>\n",
    "            <div align=\"left\", style=\"font-size:120%\">\n",
    "                <font color=\"#21618C\">\n",
    "                    <b>8. How many times 'Summer' is occuring in a given list?\n",
    "                    </b>\n",
    "                </font>\n",
    "            </div>\n",
    "        </td>\n",
    "    </tr>\n",
    "</table>"
   ]
  },
  {
   "cell_type": "markdown",
   "metadata": {
    "id": "Jhgx8xp0Hq84"
   },
   "source": [
    "#### Use the below list\n",
    "\n",
    "seasons_list = ['Summer', 'Winter', 'Spring', 'Winter', 'Spring' ,'Summer', 'Spring', 'Summer', 'Winter', 'Summer', 'Spring']"
   ]
  },
  {
   "cell_type": "code",
   "execution_count": 22,
   "metadata": {
    "id": "5u7MipCXHq84"
   },
   "outputs": [
    {
     "data": {
      "text/plain": [
       "4"
      ]
     },
     "execution_count": 22,
     "metadata": {},
     "output_type": "execute_result"
    }
   ],
   "source": [
    "# type your code here\n",
    "seasons_list = ['Summer', 'Winter', 'Spring', 'Winter', 'Spring' ,'Summer', 'Spring', 'Summer', 'Winter', 'Summer', 'Spring']\n",
    "seasons_list.count('Summer')"
   ]
  },
  {
   "cell_type": "markdown",
   "metadata": {
    "id": "tjmTbT_5Hq88"
   },
   "source": [
    "<a id=\"tuple\"> </a>\n",
    "## 3. Tuple"
   ]
  },
  {
   "cell_type": "markdown",
   "metadata": {
    "id": "EcQuIDOKHq88"
   },
   "source": [
    "<table align=\"left\">\n",
    "    <tr>\n",
    "        <td width=\"6%\">\n",
    "            <img src=\"question_icon.png\">\n",
    "        </td>\n",
    "        <td>\n",
    "            <div align=\"left\", style=\"font-size:120%\">\n",
    "                <font color=\"#21618C\">\n",
    "                    <b>9. Write a code to perform operations on tuple:<br><br>\n",
    "                        a. Check the length of num_tuple<br>\n",
    "                        b. Concatenate the num_tuple and mix_tuple<br>\n",
    "                        c. Repeat the mix_tuple two times\n",
    "                    </b>\n",
    "                </font>\n",
    "            </div>\n",
    "        </td>\n",
    "    </tr>\n",
    "</table>"
   ]
  },
  {
   "cell_type": "markdown",
   "metadata": {
    "id": "OUWhCypvHq89"
   },
   "source": [
    "**Tuples to perform operations:**\n",
    "\n",
    "num_tuple = (4, 4, 8)\n",
    "\n",
    "mix_tuple = 'John', 5, -2"
   ]
  },
  {
   "cell_type": "markdown",
   "metadata": {
    "id": "6YRuHhpRHq89"
   },
   "source": [
    "**a. Check the length of num_tuple**"
   ]
  },
  {
   "cell_type": "code",
   "execution_count": 23,
   "metadata": {
    "id": "fnDwxnKHHq8-"
   },
   "outputs": [
    {
     "data": {
      "text/plain": [
       "3"
      ]
     },
     "execution_count": 23,
     "metadata": {},
     "output_type": "execute_result"
    }
   ],
   "source": [
    "# type your code here\n",
    "num_tuple = (4, 4, 8)\n",
    "len(num_tuple)"
   ]
  },
  {
   "cell_type": "markdown",
   "metadata": {
    "id": "pf41oJT1Hq9A"
   },
   "source": [
    "**b. Concatenate the num_tuple and mix_tuple**"
   ]
  },
  {
   "cell_type": "code",
   "execution_count": 32,
   "metadata": {
    "id": "k_4RrgIyHq9A"
   },
   "outputs": [
    {
     "name": "stdout",
     "output_type": "stream",
     "text": [
      "(-2, 0, 1, 4, 5, 7, 'John', 5, -2)\n"
     ]
    }
   ],
   "source": [
    "# type your code here\n",
    "num_tuple = (4, 4, 8)\n",
    "mix_tuple = ('John', 5, -2)\n",
    "n=list(num_list)\n",
    "m=list(mix_tuple)\n",
    "n.extend(m)\n",
    "print(tuple(n))"
   ]
  },
  {
   "cell_type": "markdown",
   "metadata": {
    "id": "5eVMFRY4Hq9C"
   },
   "source": [
    "**c. Repeat the mix_tuple two times**"
   ]
  },
  {
   "cell_type": "code",
   "execution_count": 28,
   "metadata": {
    "id": "scFq2y3VHq9C"
   },
   "outputs": [
    {
     "name": "stdout",
     "output_type": "stream",
     "text": [
      "('John', 5, -2, 'John', 5, -2)\n"
     ]
    }
   ],
   "source": [
    "# type your code here\n",
    "mix_tuple = ('John', 5, -2)\n",
    "print(mix_tuple*2)"
   ]
  },
  {
   "cell_type": "markdown",
   "metadata": {
    "id": "xhwXYp7lHq9F"
   },
   "source": [
    "<table align=\"left\">\n",
    "    <tr>\n",
    "        <td width=\"6%\">\n",
    "            <img src=\"question_icon.png\">\n",
    "        </td>\n",
    "        <td>\n",
    "            <div align=\"left\", style=\"font-size:120%\">\n",
    "                <font color=\"#21618C\">\n",
    "                    <b>10. Add a new element '4' to the given tuple</b>\n",
    "                </font>\n",
    "            </div>\n",
    "        </td>\n",
    "    </tr>\n",
    "</table>"
   ]
  },
  {
   "cell_type": "markdown",
   "metadata": {
    "id": "y1tlFRgTHq9G"
   },
   "source": [
    "**Use the tuple below:**\n",
    "\n",
    "mix_tuple = (['a', 1, True], 2, 'Science', -5)"
   ]
  },
  {
   "cell_type": "code",
   "execution_count": 33,
   "metadata": {
    "id": "vVr8nMfWHq9G"
   },
   "outputs": [
    {
     "name": "stdout",
     "output_type": "stream",
     "text": [
      "(['a', 1, True], 2, 'Science', -5, 4)\n"
     ]
    }
   ],
   "source": [
    "# type your code here\n",
    "mix_tuple = (['a', 1, True], 2, 'Science', -5)\n",
    "m=list(mix_tuple)\n",
    "m.append(4)\n",
    "print(tuple(m))"
   ]
  },
  {
   "cell_type": "markdown",
   "metadata": {
    "id": "_6RhO3T4Hq95"
   },
   "source": [
    "<a id=\"dict\"> </a>\n",
    "## 4. Dictionary"
   ]
  },
  {
   "cell_type": "markdown",
   "metadata": {
    "id": "iXqXH07dHq96"
   },
   "source": [
    "<table align=\"left\">\n",
    "    <tr>\n",
    "        <td width=\"6%\">\n",
    "            <img src=\"question_icon.png\">\n",
    "        </td>\n",
    "        <td>\n",
    "            <div align=\"left\", style=\"font-size:120%\">\n",
    "                <font color=\"#21618C\">\n",
    "                    <b>11. Write a code to add a key to a dictionary\n",
    "                    </b>\n",
    "                </font>\n",
    "            </div>\n",
    "        </td>\n",
    "    </tr>\n",
    "</table>"
   ]
  },
  {
   "cell_type": "markdown",
   "metadata": {
    "id": "03XpGb8QHq96"
   },
   "source": [
    "**Use the given dictionary and add a key (4:16)**\n",
    "\n",
    "square_dictionary = {1:1, 2:4, 3:9}"
   ]
  },
  {
   "cell_type": "code",
   "execution_count": 41,
   "metadata": {
    "id": "7RFqgZ5jHq96"
   },
   "outputs": [
    {
     "name": "stdout",
     "output_type": "stream",
     "text": [
      "{1: 1, 2: 4, 3: 9, 4: 16}\n"
     ]
    }
   ],
   "source": [
    "# type your code here\n",
    "square_dictionary = {1:1, 2:4, 3:9}\n",
    "#square_dictionary.update({4:16})\n",
    "square_dictionary[4]=16\n",
    "print(square_dictionary)"
   ]
  },
  {
   "cell_type": "markdown",
   "metadata": {
    "id": "436RgdALHq99"
   },
   "source": [
    "<table align=\"left\">\n",
    "    <tr>\n",
    "        <td width=\"6%\">\n",
    "            <img src=\"question_icon.png\">\n",
    "        </td>\n",
    "        <td>\n",
    "            <div align=\"left\", style=\"font-size:120%\">\n",
    "                <font color=\"#21618C\">\n",
    "                    <b>12. Write a program to retrieve the keys/values of dictionary </b>\n",
    "                </font>\n",
    "            </div>\n",
    "        </td>\n",
    "    </tr>\n",
    "</table>"
   ]
  },
  {
   "cell_type": "markdown",
   "metadata": {
    "id": "Vhb4L29kHq99"
   },
   "source": [
    "**Use the dictionary**\n",
    "\n",
    "mix_dictionary = {0:3, 'x':5, 1:2}"
   ]
  },
  {
   "cell_type": "code",
   "execution_count": 39,
   "metadata": {
    "id": "rP76yL6OHq99"
   },
   "outputs": [
    {
     "data": {
      "text/plain": [
       "dict_keys([0, 'x', 1])"
      ]
     },
     "execution_count": 39,
     "metadata": {},
     "output_type": "execute_result"
    }
   ],
   "source": [
    "# type your code here\n",
    "mix_dictionary = {0:3, 'x':5, 1:2}\n",
    "mix_dictionary.keys()"
   ]
  },
  {
   "cell_type": "markdown",
   "metadata": {
    "id": "cSvrg14xHq9_"
   },
   "source": [
    "<table align=\"left\">\n",
    "    <tr>\n",
    "        <td width=\"6%\">\n",
    "            <img src=\"question_icon.png\">\n",
    "        </td>\n",
    "        <td>\n",
    "            <div align=\"left\", style=\"font-size:120%\">\n",
    "                <font color=\"#21618C\">\n",
    "                    <b>13. Write a program to get the value for 'Age' from the dictionary</b>\n",
    "                </font>\n",
    "            </div>\n",
    "        </td>\n",
    "    </tr>\n",
    "</table>"
   ]
  },
  {
   "cell_type": "markdown",
   "metadata": {
    "id": "EkV8dsu3Hq9_"
   },
   "source": [
    "**Use the dictionary**\n",
    "\n",
    "emp_record = {'Weight': 67, 'BMI': 25, 'Age': 27, 'Profession': 'CA'}"
   ]
  },
  {
   "cell_type": "code",
   "execution_count": 40,
   "metadata": {
    "id": "HVd1ohFpHq-B"
   },
   "outputs": [
    {
     "data": {
      "text/plain": [
       "27"
      ]
     },
     "execution_count": 40,
     "metadata": {},
     "output_type": "execute_result"
    }
   ],
   "source": [
    "# type your code here\n",
    "emp_record = {'Weight': 67, 'BMI': 25, 'Age': 27, 'Profession': 'CA'}\n",
    "emp_record.get('Age')"
   ]
  }
 ],
 "metadata": {
  "colab": {
   "name": "ITP-Day 2_IC Exercise.ipynb",
   "provenance": []
  },
  "kernelspec": {
   "display_name": "Python 3 (ipykernel)",
   "language": "python",
   "name": "python3"
  },
  "language_info": {
   "codemirror_mode": {
    "name": "ipython",
    "version": 3
   },
   "file_extension": ".py",
   "mimetype": "text/x-python",
   "name": "python",
   "nbconvert_exporter": "python",
   "pygments_lexer": "ipython3",
   "version": "3.11.3"
  }
 },
 "nbformat": 4,
 "nbformat_minor": 1
}
