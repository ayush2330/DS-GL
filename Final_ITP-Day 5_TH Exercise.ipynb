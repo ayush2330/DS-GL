{
 "cells": [
  {
   "cell_type": "markdown",
   "metadata": {
    "id": "EVe0yJGVjXSw"
   },
   "source": [
    "<table align=\"center\" width=100%>\n",
    "    <tr>\n",
    "        <td width=\"20%\">\n",
    "            <img src=\"homework.png\">\n",
    "        </td>\n",
    "        <td>\n",
    "            <div align=\"center\">\n",
    "                <font color=\"#21618C\" size=8px>\n",
    "                    <b> TakeHome<br>(Day 5)\n",
    "                    </b>\n",
    "                </font>\n",
    "            </div>\n",
    "        </td>\n",
    "        <td width=\"25%\">\n",
    "            <img src=\"NEW_GL_Logo.png\">\n",
    "        </td>\n",
    "    </tr>\n",
    "</table>"
   ]
  },
  {
   "cell_type": "markdown",
   "metadata": {
    "id": "YBsRmmTNjXSx"
   },
   "source": [
    "### Let's begin with some hands-on practice exercises"
   ]
  },
  {
   "cell_type": "markdown",
   "metadata": {
    "id": "94weSxBxjXSz"
   },
   "source": [
    "<table align=\"left\">\n",
    "    <tr>\n",
    "        <td width=\"6%\">\n",
    "            <img src=\"question_icon.png\">\n",
    "        </td>\n",
    "        <td>\n",
    "            <div align=\"left\", style=\"font-size:120%\">\n",
    "                <font color=\"#21618C\">\n",
    "                    <b>1. A list of words is given. Convert the words into uppercase (use lambda and map functions)</b>\n",
    "                </font>\n",
    "            </div>\n",
    "        </td>\n",
    "    </tr>\n",
    "</table>"
   ]
  },
  {
   "cell_type": "markdown",
   "metadata": {
    "id": "MT-mGTVvjXS0"
   },
   "source": [
    "<b>lsbool = ['True','FALse','tRUe','tRue','False','faLse','True']</b><br>\n",
    "<b>Output: ['TRUE', 'FALSE', 'TRUE', 'TRUE', 'FALSE', 'FALSE', 'TRUE']</b>"
   ]
  },
  {
   "cell_type": "code",
   "execution_count": 1,
   "metadata": {
    "id": "3vizWYOtjXS1"
   },
   "outputs": [
    {
     "data": {
      "text/plain": [
       "['TRUE', 'FALSE', 'TRUE', 'TRUE', 'FALSE', 'FALSE', 'TRUE']"
      ]
     },
     "execution_count": 1,
     "metadata": {},
     "output_type": "execute_result"
    }
   ],
   "source": [
    "# type your code here\n",
    "lsbool = ['True','FALse','tRUe','tRue','False','faLse','True']\n",
    "list(map(lambda x:x.upper(),lsbool))"
   ]
  },
  {
   "cell_type": "markdown",
   "metadata": {
    "id": "VmJx6aEpjXS9"
   },
   "source": [
    "<table align=\"left\">\n",
    "    <tr>\n",
    "        <td width=\"6%\">\n",
    "            <img src=\"question_icon.png\">\n",
    "        </td>\n",
    "        <td>\n",
    "            <div align=\"left\", style=\"font-size:120%\">\n",
    "                <font color=\"#21618C\">\n",
    "                    <b>2. Write a function to print the height of students in the class (here count of students is not fixed)</b> \n",
    "                </font>\n",
    "            </div>\n",
    "        </td>\n",
    "    </tr>\n",
    "</table>"
   ]
  },
  {
   "cell_type": "code",
   "execution_count": 2,
   "metadata": {
    "id": "2EpFMQ6DjXS-"
   },
   "outputs": [
    {
     "name": "stdout",
     "output_type": "stream",
     "text": [
      "Height of students:  (4.9, 6.1)\n"
     ]
    }
   ],
   "source": [
    "# type your code here\n",
    "def height(*h):\n",
    "    print('Height of students: ',h)\n",
    "height(4.9,6.1)"
   ]
  },
  {
   "cell_type": "markdown",
   "metadata": {
    "id": "doEeVuVijXTB"
   },
   "source": [
    "<table align=\"left\">\n",
    "    <tr>\n",
    "        <td width=\"6%\">\n",
    "            <img src=\"question_icon.png\">\n",
    "        </td>\n",
    "        <td>\n",
    "            <div align=\"left\", style=\"font-size:120%\">\n",
    "                <font color=\"#21618C\">\n",
    "                    <b>3. Create a dictionary containing four lambda functions square, cube, squareroot, multiply by 2.</b>\n",
    "                    <br><br>\n",
    "                    <b>E.g. dict = {'Square': function for squaring, 'Cube': function for cube, 'Squareroot': function for squareroot, 'Double': function for double} and so on </b>\n",
    "                    <br><br>\n",
    "                    <b>Pass the values (input from the user) to the functions in the dictionary respectively. Then add the outputs of each function and print it.</b>\n",
    "                </font>\n",
    "            </div>\n",
    "        </td>\n",
    "    </tr>\n",
    "</table>"
   ]
  },
  {
   "cell_type": "code",
   "execution_count": 3,
   "metadata": {
    "id": "L_l-o9tFjXTC"
   },
   "outputs": [
    {
     "name": "stdout",
     "output_type": "stream",
     "text": [
      "220\n",
      "1800\n",
      "11.854408090070843\n",
      "60\n"
     ]
    }
   ],
   "source": [
    "from functools import reduce\n",
    "def square(lst):\n",
    "    return [i**2 for i in lst]\n",
    "def cube(lst):\n",
    "    return [i**3 for i in lst]\n",
    "def squareroot(lst):\n",
    "    return [i**0.5 for i in lst]\n",
    "def double(lst):\n",
    "    return [i*2 for i in lst]\n",
    "dic={'Square':square,'Cube':cube,'Squareroot':squareroot,'Double':double}\n",
    "num=[2,4,6,8,10]\n",
    "lst=list(map(lambda x:dic[x](num),dic))\n",
    "for i in lst:\n",
    "    print(reduce(lambda x,y:x+y,i))"
   ]
  },
  {
   "cell_type": "markdown",
   "metadata": {
    "id": "3vOq84pojXTF"
   },
   "source": [
    "<table align=\"left\">\n",
    "    <tr>\n",
    "        <td width=\"6%\">\n",
    "            <img src=\"question_icon.png\">\n",
    "        </td>\n",
    "        <td>\n",
    "            <div align=\"left\", style=\"font-size:120%\">\n",
    "                <font color=\"#21618C\">\n",
    "                    <b>4. A list of words is given. Define a function to find the words from the list that have their second character in uppercase</b>\n",
    "                </font>\n",
    "            </div>\n",
    "        </td>\n",
    "    </tr>\n",
    "</table>"
   ]
  },
  {
   "cell_type": "markdown",
   "metadata": {
    "id": "JpJrkD7UjXTG"
   },
   "source": [
    "<b>ls = ['hello', 'Dear', 'hOw', 'ARe', 'You']</b><br>\n",
    "<b>Output: ['hOw', 'ARe']</b>"
   ]
  },
  {
   "cell_type": "code",
   "execution_count": 4,
   "metadata": {
    "id": "WwOAyQ1ojXTH"
   },
   "outputs": [
    {
     "data": {
      "text/plain": [
       "['hOw', 'ARe']"
      ]
     },
     "execution_count": 4,
     "metadata": {},
     "output_type": "execute_result"
    }
   ],
   "source": [
    "# type your code here\n",
    "ls = ['hello', 'Dear', 'hOw', 'ARe', 'You']\n",
    "def funct(ls):\n",
    "    upp=[i for i in ls if i[1].isupper()]\n",
    "    return upp\n",
    "funct(ls)"
   ]
  },
  {
   "cell_type": "markdown",
   "metadata": {
    "id": "jVH6Daa6jXTM"
   },
   "source": [
    "<table align=\"left\">\n",
    "    <tr>\n",
    "        <td width=\"6%\">\n",
    "            <img src=\"question_icon.png\">\n",
    "        </td>\n",
    "        <td>\n",
    "            <div align=\"left\", style=\"font-size:120%\">\n",
    "                <font color=\"#21618C\">\n",
    "                    <b>5. Define a function to filter the marks from the tuple \"tmarks\" that are greater than 40 and print corresponding names from the \"tnames\" tuple</b>\n",
    "                </font>\n",
    "            </div>\n",
    "        </td>\n",
    "    </tr>\n",
    "</table>"
   ]
  },
  {
   "cell_type": "markdown",
   "metadata": {
    "id": "NHm0We8ejXTM"
   },
   "source": [
    "<b>tnames = ('John','Sharon','Jack','Annie')</b><br>\n",
    "<b>tmarks = (32,50,75,12)</b>"
   ]
  },
  {
   "cell_type": "code",
   "execution_count": 5,
   "metadata": {
    "id": "epmyeK_1jXTN"
   },
   "outputs": [
    {
     "name": "stdout",
     "output_type": "stream",
     "text": [
      "Sharon\n",
      "Jack\n"
     ]
    }
   ],
   "source": [
    "# type your code here\n",
    "tnames = ('John','Sharon','Jack','Annie')\n",
    "tmarks = (32,50,75,12)\n",
    "def marks(tup1,tup2):\n",
    "    lst=[i for i,j in zip(tup1,tup2) if j>=40]\n",
    "    for i in lst:\n",
    "        print(i)\n",
    "marks(tnames,tmarks)"
   ]
  },
  {
   "cell_type": "markdown",
   "metadata": {
    "id": "28KeZqwojXTQ"
   },
   "source": [
    "<table align=\"left\">\n",
    "    <tr>\n",
    "        <td width=\"6%\">\n",
    "            <img src=\"question_icon.png\">\n",
    "        </td>\n",
    "        <td>\n",
    "            <div align=\"left\", style=\"font-size:120%\">\n",
    "                <font color=\"#21618C\">\n",
    "                    <b> 6. A dictionary of names and their weights on earth is given. Find how much they will weigh on the moon. (use map and lambda functions)</b><br> \n",
    "                </font>\n",
    "            </div>\n",
    "        </td>\n",
    "    </tr>\n",
    "</table>"
   ]
  },
  {
   "cell_type": "markdown",
   "metadata": {
    "id": "xlPrdxmvjXTQ"
   },
   "source": [
    "**Weight of people in kg**\n",
    "WeightOnEarth = {'John':45, 'Shelly':65, 'Marry':35}        \n",
    "\n",
    "**Gravitational force on the Moon**\n",
    "GMoon = 1.622                                              \n",
    "\n",
    "**Gravitational force on the Earth**\n",
    "GEarth = 9.81                                              \n",
    "\n",
    "**Output:** \n",
    "Weight on Moon:  {'John': 7.44, 'Shelly': 10.75, 'Marry': 5.79}"
   ]
  },
  {
   "cell_type": "code",
   "execution_count": 6,
   "metadata": {
    "id": "oKt5BglQjXTR"
   },
   "outputs": [
    {
     "data": {
      "text/plain": [
       "{'John': 7.44, 'Shelly': 10.75, 'Marry': 5.79}"
      ]
     },
     "execution_count": 6,
     "metadata": {},
     "output_type": "execute_result"
    }
   ],
   "source": [
    "# type your code here\n",
    "WeightOnEarth = {'John':45, 'Shelly':65, 'Marry':35}\n",
    "Gearth=9.81\n",
    "Gmoon=1.622\n",
    "dic=dict(map(lambda x:(x,round((WeightOnEarth[x]/Gearth)*Gmoon,2)),WeightOnEarth))\n",
    "\n",
    "dic"
   ]
  },
  {
   "cell_type": "markdown",
   "metadata": {
    "id": "e4fW_3YOjXTU"
   },
   "source": [
    "<table align=\"left\">\n",
    "    <tr>\n",
    "        <td width=\"6%\">\n",
    "            <img src=\"question_icon.png\">\n",
    "        </td>\n",
    "        <td>\n",
    "            <div align=\"left\", style=\"font-size:120%\">\n",
    "                <font color=\"#21618C\">\n",
    "                    <b> 7. A list containing multiple lists is given. Convert each inner list into sets and find intersection of all the sets (use reduce function)</b>\n",
    "                </font>\n",
    "            </div>\n",
    "        </td>\n",
    "    </tr>\n",
    "</table>"
   ]
  },
  {
   "cell_type": "markdown",
   "metadata": {
    "id": "uv5bgmQ_jXTU"
   },
   "source": [
    "<b>given_sets = [[1, 2, 3, 4, 8], [2, 3, 8, 5, 6], [8, 4, 5, 3, 7], [6, 9, 8, 3], [9, 12, 3, 7, 6, 8, 4, 6, 21, 1, 6]]</b><br>\n",
    "<b>Output: {8, 3}</b>"
   ]
  },
  {
   "cell_type": "code",
   "execution_count": null,
   "metadata": {
    "id": "R8UtCsIvjXTV"
   },
   "outputs": [],
   "source": [
    "# type your code here\n",
    "from functools import reduce\n",
    "given_sets = [[1, 2, 3, 4, 8], [2, 3, 8, 5, 6], [8, 4, 5, 3, 7], [6, 9, 8, 3], [9, 12, 3, 7, 6, 8, 4, 6, 21, 1, 6]]\n",
    "res=list(map(set,given_sets))\n",
    "res\n",
    "reduce(lambda x,y:x.intersection(y),res)"
   ]
  },
  {
   "cell_type": "markdown",
   "metadata": {
    "id": "P8O7WkSEjXTY"
   },
   "source": [
    "<table align=\"left\">\n",
    "    <tr>\n",
    "        <td width=\"6%\">\n",
    "            <img src=\"question_icon.png\">\n",
    "        </td>\n",
    "        <td>\n",
    "            <div align=\"left\", style=\"font-size:120%\">\n",
    "                <font color=\"#21618C\"> \n",
    "                    <b> 8. Write a function to store the price of different products in the supermarket (number of products is not fixed)</b>\n",
    "                </font>\n",
    "            </div>\n",
    "        </td>\n",
    "    </tr>\n",
    "</table>"
   ]
  },
  {
   "cell_type": "code",
   "execution_count": null,
   "metadata": {
    "id": "eVdDFVdbjXTZ"
   },
   "outputs": [],
   "source": [
    "# type your code here\n",
    "def price(*items):\n",
    "    print('Price of items ',items)\n",
    "price(399,700,440,6000,700,66.99)"
   ]
  },
  {
   "cell_type": "markdown",
   "metadata": {
    "id": "QLpiLCMCjXTb"
   },
   "source": [
    "<table align=\"left\">\n",
    "    <tr>\n",
    "        <td width=\"6%\">\n",
    "            <img src=\"question_icon.png\">\n",
    "        </td>\n",
    "        <td>\n",
    "            <div align=\"left\", style=\"font-size:120%\">\n",
    "                <font color=\"#21618C\">\n",
    "                    <b>9. Define a function to multiply two global variables, 16 and 12</b>  \n",
    "                </font>\n",
    "            </div>\n",
    "        </td>\n",
    "    </tr>\n",
    "</table>"
   ]
  },
  {
   "cell_type": "code",
   "execution_count": null,
   "metadata": {
    "id": "WsG_6QBZjXTc"
   },
   "outputs": [],
   "source": [
    "# type your code here\n",
    "a=12\n",
    "b=16\n",
    "def mul(a,b):\n",
    "    return a*b\n",
    "mul(a,b)"
   ]
  },
  {
   "cell_type": "markdown",
   "metadata": {
    "id": "n1CBjc_JjXTf"
   },
   "source": [
    "<table align=\"left\">\n",
    "    <tr>\n",
    "        <td width=\"6%\">\n",
    "            <img src=\"question_icon.png\">\n",
    "        </td>\n",
    "        <td>\n",
    "            <div align=\"left\", style=\"font-size:120%\">\n",
    "                <font color=\"#21618C\">\n",
    "                    <b> 10. Find the cumulative average of the list [9,8,7,6,5] using accumulate() and lambda function</b>\n",
    "                </font>\n",
    "            </div>\n",
    "        </td>\n",
    "    </tr>\n",
    "</table>"
   ]
  },
  {
   "cell_type": "markdown",
   "metadata": {
    "id": "UBmQBuMYjXTf"
   },
   "source": [
    "<b>Input list: [9,8,7,6,5]</b>"
   ]
  },
  {
   "cell_type": "code",
   "execution_count": null,
   "metadata": {
    "id": "kNbBCWZgjXTg"
   },
   "outputs": [],
   "source": [
    "# type your code here\n",
    "from itertools import accumulate\n",
    "li=[9,8,7,6,5]\n",
    "list(accumulate(li,lambda x,y:(x+y)/2))"
   ]
  },
  {
   "cell_type": "code",
   "execution_count": null,
   "metadata": {
    "id": "znSersjS1o6x"
   },
   "outputs": [],
   "source": []
  }
 ],
 "metadata": {
  "colab": {
   "provenance": []
  },
  "kernelspec": {
   "display_name": "Python 3 (ipykernel)",
   "language": "python",
   "name": "python3"
  },
  "language_info": {
   "codemirror_mode": {
    "name": "ipython",
    "version": 3
   },
   "file_extension": ".py",
   "mimetype": "text/x-python",
   "name": "python",
   "nbconvert_exporter": "python",
   "pygments_lexer": "ipython3",
   "version": "3.11.3"
  }
 },
 "nbformat": 4,
 "nbformat_minor": 1
}
