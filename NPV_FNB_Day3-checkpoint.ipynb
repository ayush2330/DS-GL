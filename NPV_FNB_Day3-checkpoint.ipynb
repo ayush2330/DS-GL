{
 "cells": [
  {
   "cell_type": "markdown",
   "metadata": {
    "id": "mQo0KfvnydgM"
   },
   "source": [
    "<table align=\"center\" width=100%>\n",
    "    <tr>\n",
    "        <td width=\"20%\">\n",
    "            <img src=\"faculty.png\">\n",
    "        </td>\n",
    "        <td>\n",
    "            <div align=\"center\">\n",
    "                <font color=\"#21618C\" size=8px>\n",
    "                    <b> Faculty Notebook <br>(Day 3)\n",
    "                    </b>\n",
    "                </font>\n",
    "            </div>\n",
    "        </td>\n",
    "        <td width=\"25%\">\n",
    "            <img src=\"GL-2.png\">\n",
    "        </td>\n",
    "    </tr>\n",
    "</table>"
   ]
  },
  {
   "cell_type": "markdown",
   "metadata": {
    "id": "d283u4mCydg4"
   },
   "source": [
    "## Table of Content\n",
    "1. **[Concatenate](#Concatenate)**\n",
    "2. **[Merging and Joining](#Merging)**\n",
    "3. **[Pivot Table](#Pivote)**\n",
    "4. **[Cross Table](#crosst)**"
   ]
  },
  {
   "cell_type": "markdown",
   "metadata": {
    "id": "dDfL5tVWydg5"
   },
   "source": [
    "<a id=\"Concatenate\"> </a>\n",
    "### 1. Concatenate\n",
    "\n",
    "Concatenation is a process of joining objects along a particular axis, with set logic applied along the other axes, if any (a series does not have any other axes)<br>\n",
    "                   The main parameters involved in pandas concatenation are - object, axis, handling of other axes, and keys."
   ]
  },
  {
   "cell_type": "markdown",
   "metadata": {
    "id": "k1EcrO6Kydg6"
   },
   "source": [
    "**Concatenate pandas Series**"
   ]
  },
  {
   "cell_type": "code",
   "execution_count": null,
   "metadata": {
    "id": "upIfNiI2ydg6"
   },
   "outputs": [],
   "source": [
    "# import the library pandas as pd\n",
    "import pandas as pd\n",
    "\n",
    "# import the library NumPy as np\n",
    "import numpy as np"
   ]
  },
  {
   "cell_type": "code",
   "execution_count": null,
   "metadata": {
    "id": "NNWYHbRtydg7"
   },
   "outputs": [],
   "source": [
    "# create a series from list\n",
    "sales_a = pd.Series([101,102,103,104,105,106])\n",
    "\n",
    "# create another series from list\n",
    "sales_b = pd.Series([107,108,109,110,111,112])"
   ]
  },
  {
   "cell_type": "code",
   "execution_count": null,
   "metadata": {
    "id": "StnfpBQiydg7",
    "outputId": "76258110-01bc-4634-8ed0-522bb5695cef"
   },
   "outputs": [
    {
     "data": {
      "text/plain": [
       "0    101\n",
       "1    102\n",
       "2    103\n",
       "3    104\n",
       "4    105\n",
       "5    106\n",
       "0    107\n",
       "1    108\n",
       "2    109\n",
       "3    110\n",
       "4    111\n",
       "5    112\n",
       "dtype: int64"
      ]
     },
     "execution_count": 3,
     "metadata": {},
     "output_type": "execute_result"
    }
   ],
   "source": [
    "# concatenate the pandas series\n",
    "pd.concat([sales_a,sales_b])"
   ]
  },
  {
   "cell_type": "markdown",
   "metadata": {
    "id": "2nl3BW6nydg8"
   },
   "source": [
    "**Add a hierarchical index to a pandas Series**"
   ]
  },
  {
   "cell_type": "code",
   "execution_count": null,
   "metadata": {
    "id": "rpGGJNW_ydg8",
    "outputId": "64fd7c1c-aef4-422e-fe19-ffc12dc84a59"
   },
   "outputs": [
    {
     "data": {
      "text/plain": [
       "a  0    101\n",
       "   1    102\n",
       "   2    103\n",
       "   3    104\n",
       "   4    105\n",
       "   5    106\n",
       "b  0    107\n",
       "   1    108\n",
       "   2    109\n",
       "   3    110\n",
       "   4    111\n",
       "   5    112\n",
       "dtype: int64"
      ]
     },
     "execution_count": 4,
     "metadata": {},
     "output_type": "execute_result"
    }
   ],
   "source": [
    "# concatenate the series \n",
    "# keys adds hierarchical indexes\n",
    "pd.concat([sales_a,sales_b], keys = ['a', 'b'])"
   ]
  },
  {
   "cell_type": "markdown",
   "metadata": {
    "id": "V4Ij2PKpydg9"
   },
   "source": [
    "**Label the index**"
   ]
  },
  {
   "cell_type": "code",
   "execution_count": null,
   "metadata": {
    "id": "L59V5myIydg9",
    "outputId": "97ac1906-4bf0-4fa6-9089-5e26c07d2ac9"
   },
   "outputs": [
    {
     "data": {
      "text/plain": [
       "Series  Row ID\n",
       "a       0         101\n",
       "        1         102\n",
       "        2         103\n",
       "        3         104\n",
       "        4         105\n",
       "        5         106\n",
       "b       0         107\n",
       "        1         108\n",
       "        2         109\n",
       "        3         110\n",
       "        4         111\n",
       "        5         112\n",
       "dtype: int64"
      ]
     },
     "execution_count": 5,
     "metadata": {},
     "output_type": "execute_result"
    }
   ],
   "source": [
    "# 'names' parameter assigns labels to 'keys' and 'indexes'\n",
    "pd.concat([sales_a, sales_b], keys=['a', 'b'], names=['Series', 'Row ID'])"
   ]
  },
  {
   "cell_type": "markdown",
   "metadata": {
    "id": "m2lXcLK1ydg9"
   },
   "source": [
    "**Concatenating DataFrames**\n",
    "\n",
    "To concatenate DataFrames, let us first create three DataFrame\n",
    "1. df_prof_info_A: professional information on employees of company A\n",
    "2. df_prof_info_B: professional information on employees of company B\n",
    "3. df_pers_info_A: personal information on employees of company A\n"
   ]
  },
  {
   "cell_type": "code",
   "execution_count": null,
   "metadata": {
    "id": "w53bJzo4ydg-",
    "outputId": "b6f849c2-4e52-435e-acb9-c40b7b9cb956"
   },
   "outputs": [
    {
     "name": "stdout",
     "output_type": "stream",
     "text": [
      "The first DataFrame is : \n",
      "      Emp_ID     Name Gender  Company  Salary\n",
      "101    1001     Alex      M    Apple   67000\n",
      "102    1002      Amy      F  Walmart   90000\n",
      "103    1003    Allen      M    Intel   87000\n",
      "104    1004    Alice      F  Cummins   69000\n",
      "105    1005  Stephan      M     Ford   78000\n",
      "\n",
      "\n",
      "\n",
      "The second DataFrame is : \n",
      "      Emp_ID   Name Gender    Company  Salary\n",
      "106    1006  Billy      M  Cognizant   89000\n",
      "107    1007  Brian      M      Apple   80000\n",
      "108    1008   Bran      M      Intel   79000\n",
      "109    1009  Bryce      F    Cummins   97000\n",
      "110    1010  Betty      F    Walmart   88000\n",
      "111    1011  James      M      Intel   89000\n",
      "\n",
      "\n",
      "\n",
      "The third DataFrame is : \n",
      "      Emp_ID       Hometown Gender   Marital  Dependents\n",
      "101    1001       New York      M   Married           1\n",
      "102    1002         London      F  Divorsed           1\n",
      "103    1003  San Francisco      M    Single           3\n",
      "104    1004        Seattle      F   Married           2\n",
      "105    1005         Madrid      M    Single           1\n",
      "\n",
      "\n",
      "\n",
      "The fourth DataFrame is : \n",
      "      Emp_ID       Hometown   Marital  Dependents\n",
      "101    1006          Paris   Married           1\n",
      "102    1007         Boston  Divorsed           1\n",
      "103    1009  San Francisco    Single           3\n",
      "104    1010        Seattle   Married           2\n",
      "105    1011         London    Single           1\n",
      "106    1012         London    Single           2\n"
     ]
    }
   ],
   "source": [
    "# create a DataFrame from a dictionary\n",
    "df_prof_info_A = pd.DataFrame({\n",
    "   'Emp_ID': [1001,1002,1003,1004,1005],\n",
    "   'Name': ['Alex', 'Amy', 'Allen', 'Alice', 'Stephan'],\n",
    "   'Gender':['M', 'F', 'M', 'F', 'M'],\n",
    "   'Company':['Apple','Walmart','Intel','Cummins','Ford'],\n",
    "   'Salary':[67000,90000,87000,69000,78000]},\n",
    "   index=[101,102,103,104,105])\n",
    "\n",
    "# print the DataFrame\n",
    "print(\"The first DataFrame is : \\n\",df_prof_info_A)\n",
    "\n",
    "print(\"\\n\\n\")\n",
    "\n",
    "# create a DataFrame from a dictionary\n",
    "df_prof_info_B = pd.DataFrame({\n",
    "    'Emp_ID': [1006,1007,1008,1009,1010,1011],\n",
    "   'Name': ['Billy', 'Brian', 'Bran', 'Bryce', 'Betty','James'],\n",
    "    'Gender':['M', 'M', 'M', 'F', 'F','M'],\n",
    "   'Company':['Cognizant','Apple','Intel','Cummins','Walmart','Intel'],\n",
    "   'Salary':[89000,80000,79000,97000,88000,89000]},\n",
    "   index=[106,107,108,109,110,111])\n",
    "\n",
    "# print the DataFrame\n",
    "print(\"The second DataFrame is : \\n\",df_prof_info_B)\n",
    "\n",
    "print(\"\\n\\n\")\n",
    "\n",
    "# create a DataFrame from a dictionary\n",
    "df_pers_info_A = pd.DataFrame({\n",
    "     'Emp_ID': [1001,1002,1003,1004,1005],\n",
    "   'Hometown': ['New York', 'London', 'San Francisco', 'Seattle', 'Madrid'],\n",
    "     'Gender':['M', 'F', 'M', 'F', 'M'],\n",
    "    'Marital':['Married','Divorsed','Single','Married','Single'],\n",
    "   'Dependents':[1,1,3,2,1]},\n",
    "   index=[101,102,103,104,105])\n",
    "\n",
    "# print the DataFrame\n",
    "print(\"The third DataFrame is : \\n\",df_pers_info_A)\n",
    "\n",
    "print(\"\\n\\n\")\n",
    "\n",
    "# create a DataFrame from a dictionary\n",
    "df_pers_info_B = pd.DataFrame({\n",
    "     'Emp_ID': [1006,1007,1009,1010,1011,1012],\n",
    "   'Hometown': ['Paris', 'Boston', 'San Francisco', 'Seattle', 'London','London'],\n",
    "    'Marital':['Married','Divorsed','Single','Married','Single','Single'],\n",
    "   'Dependents':[1,1,3,2,1,2]},\n",
    "   index=[101,102,103,104,105,106])\n",
    "\n",
    "# print the DataFrame\n",
    "print(\"The fourth DataFrame is : \\n\",df_pers_info_B)"
   ]
  },
  {
   "cell_type": "markdown",
   "metadata": {
    "id": "uvsQ_ALmydg_"
   },
   "source": [
    "**Concatenating pandas DataFrames using `.concat()`**"
   ]
  },
  {
   "cell_type": "markdown",
   "metadata": {
    "id": "Vqr65kz-ydhB"
   },
   "source": [
    "**Combine DataFrames vertically**"
   ]
  },
  {
   "cell_type": "code",
   "execution_count": null,
   "metadata": {
    "id": "vrn4-Hh8ydhC",
    "outputId": "39205ef4-e44f-46ab-c05d-73a5fce01163"
   },
   "outputs": [
    {
     "name": "stdout",
     "output_type": "stream",
     "text": [
      "     Emp_ID     Name Gender    Company  Salary\n",
      "101    1001     Alex      M      Apple   67000\n",
      "102    1002      Amy      F    Walmart   90000\n",
      "103    1003    Allen      M      Intel   87000\n",
      "104    1004    Alice      F    Cummins   69000\n",
      "105    1005  Stephan      M       Ford   78000\n",
      "106    1006    Billy      M  Cognizant   89000\n",
      "107    1007    Brian      M      Apple   80000\n",
      "108    1008     Bran      M      Intel   79000\n",
      "109    1009    Bryce      F    Cummins   97000\n",
      "110    1010    Betty      F    Walmart   88000\n",
      "111    1011    James      M      Intel   89000\n"
     ]
    }
   ],
   "source": [
    "# concatenate the data frame\n",
    "print(pd.concat([df_prof_info_A,df_prof_info_B]))"
   ]
  },
  {
   "cell_type": "markdown",
   "metadata": {
    "id": "J1mz_-JkydhC"
   },
   "source": [
    "**Combine DataFrames horizontally**"
   ]
  },
  {
   "cell_type": "code",
   "execution_count": null,
   "metadata": {
    "id": "jqKbgyuZydhC",
    "outputId": "5b14c21a-8e60-45b8-c292-eeb0e0fd2d48",
    "scrolled": true
   },
   "outputs": [
    {
     "data": {
      "text/html": [
       "<div>\n",
       "<style scoped>\n",
       "    .dataframe tbody tr th:only-of-type {\n",
       "        vertical-align: middle;\n",
       "    }\n",
       "\n",
       "    .dataframe tbody tr th {\n",
       "        vertical-align: top;\n",
       "    }\n",
       "\n",
       "    .dataframe thead th {\n",
       "        text-align: right;\n",
       "    }\n",
       "</style>\n",
       "<table border=\"1\" class=\"dataframe\">\n",
       "  <thead>\n",
       "    <tr style=\"text-align: right;\">\n",
       "      <th></th>\n",
       "      <th>Emp_ID</th>\n",
       "      <th>Name</th>\n",
       "      <th>Gender</th>\n",
       "      <th>Company</th>\n",
       "      <th>Salary</th>\n",
       "      <th>Emp_ID</th>\n",
       "      <th>Hometown</th>\n",
       "      <th>Gender</th>\n",
       "      <th>Marital</th>\n",
       "      <th>Dependents</th>\n",
       "    </tr>\n",
       "  </thead>\n",
       "  <tbody>\n",
       "    <tr>\n",
       "      <td>101</td>\n",
       "      <td>1001</td>\n",
       "      <td>Alex</td>\n",
       "      <td>M</td>\n",
       "      <td>Apple</td>\n",
       "      <td>67000</td>\n",
       "      <td>1001</td>\n",
       "      <td>New York</td>\n",
       "      <td>M</td>\n",
       "      <td>Married</td>\n",
       "      <td>1</td>\n",
       "    </tr>\n",
       "    <tr>\n",
       "      <td>102</td>\n",
       "      <td>1002</td>\n",
       "      <td>Amy</td>\n",
       "      <td>F</td>\n",
       "      <td>Walmart</td>\n",
       "      <td>90000</td>\n",
       "      <td>1002</td>\n",
       "      <td>London</td>\n",
       "      <td>F</td>\n",
       "      <td>Divorsed</td>\n",
       "      <td>1</td>\n",
       "    </tr>\n",
       "    <tr>\n",
       "      <td>103</td>\n",
       "      <td>1003</td>\n",
       "      <td>Allen</td>\n",
       "      <td>M</td>\n",
       "      <td>Intel</td>\n",
       "      <td>87000</td>\n",
       "      <td>1003</td>\n",
       "      <td>San Francisco</td>\n",
       "      <td>M</td>\n",
       "      <td>Single</td>\n",
       "      <td>3</td>\n",
       "    </tr>\n",
       "    <tr>\n",
       "      <td>104</td>\n",
       "      <td>1004</td>\n",
       "      <td>Alice</td>\n",
       "      <td>F</td>\n",
       "      <td>Cummins</td>\n",
       "      <td>69000</td>\n",
       "      <td>1004</td>\n",
       "      <td>Seattle</td>\n",
       "      <td>F</td>\n",
       "      <td>Married</td>\n",
       "      <td>2</td>\n",
       "    </tr>\n",
       "    <tr>\n",
       "      <td>105</td>\n",
       "      <td>1005</td>\n",
       "      <td>Stephan</td>\n",
       "      <td>M</td>\n",
       "      <td>Ford</td>\n",
       "      <td>78000</td>\n",
       "      <td>1005</td>\n",
       "      <td>Madrid</td>\n",
       "      <td>M</td>\n",
       "      <td>Single</td>\n",
       "      <td>1</td>\n",
       "    </tr>\n",
       "  </tbody>\n",
       "</table>\n",
       "</div>"
      ],
      "text/plain": [
       "     Emp_ID     Name Gender  Company  Salary  Emp_ID       Hometown Gender  \\\n",
       "101    1001     Alex      M    Apple   67000    1001       New York      M   \n",
       "102    1002      Amy      F  Walmart   90000    1002         London      F   \n",
       "103    1003    Allen      M    Intel   87000    1003  San Francisco      M   \n",
       "104    1004    Alice      F  Cummins   69000    1004        Seattle      F   \n",
       "105    1005  Stephan      M     Ford   78000    1005         Madrid      M   \n",
       "\n",
       "      Marital  Dependents  \n",
       "101   Married           1  \n",
       "102  Divorsed           1  \n",
       "103    Single           3  \n",
       "104   Married           2  \n",
       "105    Single           1  "
      ]
     },
     "execution_count": 8,
     "metadata": {},
     "output_type": "execute_result"
    }
   ],
   "source": [
    "# combine Pandas Dataframes horizontally\n",
    "# axis specifies the axis to concatenate along, here 1 indicates columns\n",
    "pd.concat([df_prof_info_A, df_pers_info_A], axis=1)"
   ]
  },
  {
   "cell_type": "markdown",
   "metadata": {
    "id": "FkAwlRc-ydhD"
   },
   "source": [
    "Combining DataFrames horizontally with duplicate columns removed."
   ]
  },
  {
   "cell_type": "code",
   "execution_count": null,
   "metadata": {
    "id": "W5C-w4TgydhD",
    "outputId": "bf8de859-8b97-4cc5-e4fb-8e5ae50ffcbc"
   },
   "outputs": [
    {
     "data": {
      "text/html": [
       "<div>\n",
       "<style scoped>\n",
       "    .dataframe tbody tr th:only-of-type {\n",
       "        vertical-align: middle;\n",
       "    }\n",
       "\n",
       "    .dataframe tbody tr th {\n",
       "        vertical-align: top;\n",
       "    }\n",
       "\n",
       "    .dataframe thead th {\n",
       "        text-align: right;\n",
       "    }\n",
       "</style>\n",
       "<table border=\"1\" class=\"dataframe\">\n",
       "  <thead>\n",
       "    <tr style=\"text-align: right;\">\n",
       "      <th></th>\n",
       "      <th>Emp_ID</th>\n",
       "      <th>Name</th>\n",
       "      <th>Gender</th>\n",
       "      <th>Company</th>\n",
       "      <th>Salary</th>\n",
       "      <th>Hometown</th>\n",
       "      <th>Marital</th>\n",
       "      <th>Dependents</th>\n",
       "    </tr>\n",
       "  </thead>\n",
       "  <tbody>\n",
       "    <tr>\n",
       "      <td>101</td>\n",
       "      <td>1001</td>\n",
       "      <td>Alex</td>\n",
       "      <td>M</td>\n",
       "      <td>Apple</td>\n",
       "      <td>67000</td>\n",
       "      <td>New York</td>\n",
       "      <td>Married</td>\n",
       "      <td>1</td>\n",
       "    </tr>\n",
       "    <tr>\n",
       "      <td>102</td>\n",
       "      <td>1002</td>\n",
       "      <td>Amy</td>\n",
       "      <td>F</td>\n",
       "      <td>Walmart</td>\n",
       "      <td>90000</td>\n",
       "      <td>London</td>\n",
       "      <td>Divorsed</td>\n",
       "      <td>1</td>\n",
       "    </tr>\n",
       "    <tr>\n",
       "      <td>103</td>\n",
       "      <td>1003</td>\n",
       "      <td>Allen</td>\n",
       "      <td>M</td>\n",
       "      <td>Intel</td>\n",
       "      <td>87000</td>\n",
       "      <td>San Francisco</td>\n",
       "      <td>Single</td>\n",
       "      <td>3</td>\n",
       "    </tr>\n",
       "    <tr>\n",
       "      <td>104</td>\n",
       "      <td>1004</td>\n",
       "      <td>Alice</td>\n",
       "      <td>F</td>\n",
       "      <td>Cummins</td>\n",
       "      <td>69000</td>\n",
       "      <td>Seattle</td>\n",
       "      <td>Married</td>\n",
       "      <td>2</td>\n",
       "    </tr>\n",
       "    <tr>\n",
       "      <td>105</td>\n",
       "      <td>1005</td>\n",
       "      <td>Stephan</td>\n",
       "      <td>M</td>\n",
       "      <td>Ford</td>\n",
       "      <td>78000</td>\n",
       "      <td>Madrid</td>\n",
       "      <td>Single</td>\n",
       "      <td>1</td>\n",
       "    </tr>\n",
       "  </tbody>\n",
       "</table>\n",
       "</div>"
      ],
      "text/plain": [
       "    Emp_ID     Name Gender  Company Salary       Hometown   Marital Dependents\n",
       "101   1001     Alex      M    Apple  67000       New York   Married          1\n",
       "102   1002      Amy      F  Walmart  90000         London  Divorsed          1\n",
       "103   1003    Allen      M    Intel  87000  San Francisco    Single          3\n",
       "104   1004    Alice      F  Cummins  69000        Seattle   Married          2\n",
       "105   1005  Stephan      M     Ford  78000         Madrid    Single          1"
      ]
     },
     "execution_count": 9,
     "metadata": {},
     "output_type": "execute_result"
    }
   ],
   "source": [
    "# combine DataFrame with duplicate columns removed\n",
    "# T: transposes the DataFrame\n",
    "# drop_duplicates(): drops the duplicate rows in a DataFrame\n",
    "pd.concat([df_prof_info_A, df_pers_info_A], axis=1).T.drop_duplicates().T"
   ]
  },
  {
   "cell_type": "markdown",
   "metadata": {
    "id": "spCUujdBydhD"
   },
   "source": [
    "**Concatenating data frames ignoring index values**"
   ]
  },
  {
   "cell_type": "code",
   "execution_count": null,
   "metadata": {
    "id": "nBU0fXOdydhD",
    "outputId": "2f67b3f0-c316-4124-9ddc-ad3764589ba1",
    "scrolled": true
   },
   "outputs": [
    {
     "data": {
      "text/html": [
       "<div>\n",
       "<style scoped>\n",
       "    .dataframe tbody tr th:only-of-type {\n",
       "        vertical-align: middle;\n",
       "    }\n",
       "\n",
       "    .dataframe tbody tr th {\n",
       "        vertical-align: top;\n",
       "    }\n",
       "\n",
       "    .dataframe thead th {\n",
       "        text-align: right;\n",
       "    }\n",
       "</style>\n",
       "<table border=\"1\" class=\"dataframe\">\n",
       "  <thead>\n",
       "    <tr style=\"text-align: right;\">\n",
       "      <th></th>\n",
       "      <th>Emp_ID</th>\n",
       "      <th>Name</th>\n",
       "      <th>Gender</th>\n",
       "      <th>Company</th>\n",
       "      <th>Salary</th>\n",
       "    </tr>\n",
       "  </thead>\n",
       "  <tbody>\n",
       "    <tr>\n",
       "      <td>0</td>\n",
       "      <td>1001</td>\n",
       "      <td>Alex</td>\n",
       "      <td>M</td>\n",
       "      <td>Apple</td>\n",
       "      <td>67000</td>\n",
       "    </tr>\n",
       "    <tr>\n",
       "      <td>1</td>\n",
       "      <td>1002</td>\n",
       "      <td>Amy</td>\n",
       "      <td>F</td>\n",
       "      <td>Walmart</td>\n",
       "      <td>90000</td>\n",
       "    </tr>\n",
       "    <tr>\n",
       "      <td>2</td>\n",
       "      <td>1003</td>\n",
       "      <td>Allen</td>\n",
       "      <td>M</td>\n",
       "      <td>Intel</td>\n",
       "      <td>87000</td>\n",
       "    </tr>\n",
       "    <tr>\n",
       "      <td>3</td>\n",
       "      <td>1004</td>\n",
       "      <td>Alice</td>\n",
       "      <td>F</td>\n",
       "      <td>Cummins</td>\n",
       "      <td>69000</td>\n",
       "    </tr>\n",
       "    <tr>\n",
       "      <td>4</td>\n",
       "      <td>1005</td>\n",
       "      <td>Stephan</td>\n",
       "      <td>M</td>\n",
       "      <td>Ford</td>\n",
       "      <td>78000</td>\n",
       "    </tr>\n",
       "    <tr>\n",
       "      <td>5</td>\n",
       "      <td>1006</td>\n",
       "      <td>Billy</td>\n",
       "      <td>M</td>\n",
       "      <td>Cognizant</td>\n",
       "      <td>89000</td>\n",
       "    </tr>\n",
       "    <tr>\n",
       "      <td>6</td>\n",
       "      <td>1007</td>\n",
       "      <td>Brian</td>\n",
       "      <td>M</td>\n",
       "      <td>Apple</td>\n",
       "      <td>80000</td>\n",
       "    </tr>\n",
       "    <tr>\n",
       "      <td>7</td>\n",
       "      <td>1008</td>\n",
       "      <td>Bran</td>\n",
       "      <td>M</td>\n",
       "      <td>Intel</td>\n",
       "      <td>79000</td>\n",
       "    </tr>\n",
       "    <tr>\n",
       "      <td>8</td>\n",
       "      <td>1009</td>\n",
       "      <td>Bryce</td>\n",
       "      <td>F</td>\n",
       "      <td>Cummins</td>\n",
       "      <td>97000</td>\n",
       "    </tr>\n",
       "    <tr>\n",
       "      <td>9</td>\n",
       "      <td>1010</td>\n",
       "      <td>Betty</td>\n",
       "      <td>F</td>\n",
       "      <td>Walmart</td>\n",
       "      <td>88000</td>\n",
       "    </tr>\n",
       "    <tr>\n",
       "      <td>10</td>\n",
       "      <td>1011</td>\n",
       "      <td>James</td>\n",
       "      <td>M</td>\n",
       "      <td>Intel</td>\n",
       "      <td>89000</td>\n",
       "    </tr>\n",
       "  </tbody>\n",
       "</table>\n",
       "</div>"
      ],
      "text/plain": [
       "    Emp_ID     Name Gender    Company  Salary\n",
       "0     1001     Alex      M      Apple   67000\n",
       "1     1002      Amy      F    Walmart   90000\n",
       "2     1003    Allen      M      Intel   87000\n",
       "3     1004    Alice      F    Cummins   69000\n",
       "4     1005  Stephan      M       Ford   78000\n",
       "5     1006    Billy      M  Cognizant   89000\n",
       "6     1007    Brian      M      Apple   80000\n",
       "7     1008     Bran      M      Intel   79000\n",
       "8     1009    Bryce      F    Cummins   97000\n",
       "9     1010    Betty      F    Walmart   88000\n",
       "10    1011    James      M      Intel   89000"
      ]
     },
     "execution_count": 10,
     "metadata": {},
     "output_type": "execute_result"
    }
   ],
   "source": [
    "# concatenate DataFrames\n",
    "# ignore_index if True, assigns index values begining with zero\n",
    "pd.concat([df_prof_info_A, df_prof_info_B], ignore_index=True)"
   ]
  },
  {
   "cell_type": "markdown",
   "metadata": {
    "id": "lChpnjGTydhD"
   },
   "source": [
    "**Concatenating Pandas Dataframes using `.append()`**"
   ]
  },
  {
   "cell_type": "code",
   "execution_count": null,
   "metadata": {
    "id": "TtqOlplYydhD",
    "outputId": "b8c82217-bac1-40d2-c2db-e7c55b08adcc"
   },
   "outputs": [
    {
     "data": {
      "text/html": [
       "<div>\n",
       "<style scoped>\n",
       "    .dataframe tbody tr th:only-of-type {\n",
       "        vertical-align: middle;\n",
       "    }\n",
       "\n",
       "    .dataframe tbody tr th {\n",
       "        vertical-align: top;\n",
       "    }\n",
       "\n",
       "    .dataframe thead th {\n",
       "        text-align: right;\n",
       "    }\n",
       "</style>\n",
       "<table border=\"1\" class=\"dataframe\">\n",
       "  <thead>\n",
       "    <tr style=\"text-align: right;\">\n",
       "      <th></th>\n",
       "      <th>Emp_ID</th>\n",
       "      <th>Name</th>\n",
       "      <th>Gender</th>\n",
       "      <th>Company</th>\n",
       "      <th>Salary</th>\n",
       "    </tr>\n",
       "  </thead>\n",
       "  <tbody>\n",
       "    <tr>\n",
       "      <td>101</td>\n",
       "      <td>1001</td>\n",
       "      <td>Alex</td>\n",
       "      <td>M</td>\n",
       "      <td>Apple</td>\n",
       "      <td>67000</td>\n",
       "    </tr>\n",
       "    <tr>\n",
       "      <td>102</td>\n",
       "      <td>1002</td>\n",
       "      <td>Amy</td>\n",
       "      <td>F</td>\n",
       "      <td>Walmart</td>\n",
       "      <td>90000</td>\n",
       "    </tr>\n",
       "    <tr>\n",
       "      <td>103</td>\n",
       "      <td>1003</td>\n",
       "      <td>Allen</td>\n",
       "      <td>M</td>\n",
       "      <td>Intel</td>\n",
       "      <td>87000</td>\n",
       "    </tr>\n",
       "    <tr>\n",
       "      <td>104</td>\n",
       "      <td>1004</td>\n",
       "      <td>Alice</td>\n",
       "      <td>F</td>\n",
       "      <td>Cummins</td>\n",
       "      <td>69000</td>\n",
       "    </tr>\n",
       "    <tr>\n",
       "      <td>105</td>\n",
       "      <td>1005</td>\n",
       "      <td>Stephan</td>\n",
       "      <td>M</td>\n",
       "      <td>Ford</td>\n",
       "      <td>78000</td>\n",
       "    </tr>\n",
       "    <tr>\n",
       "      <td>106</td>\n",
       "      <td>1006</td>\n",
       "      <td>Billy</td>\n",
       "      <td>M</td>\n",
       "      <td>Cognizant</td>\n",
       "      <td>89000</td>\n",
       "    </tr>\n",
       "    <tr>\n",
       "      <td>107</td>\n",
       "      <td>1007</td>\n",
       "      <td>Brian</td>\n",
       "      <td>M</td>\n",
       "      <td>Apple</td>\n",
       "      <td>80000</td>\n",
       "    </tr>\n",
       "    <tr>\n",
       "      <td>108</td>\n",
       "      <td>1008</td>\n",
       "      <td>Bran</td>\n",
       "      <td>M</td>\n",
       "      <td>Intel</td>\n",
       "      <td>79000</td>\n",
       "    </tr>\n",
       "    <tr>\n",
       "      <td>109</td>\n",
       "      <td>1009</td>\n",
       "      <td>Bryce</td>\n",
       "      <td>F</td>\n",
       "      <td>Cummins</td>\n",
       "      <td>97000</td>\n",
       "    </tr>\n",
       "    <tr>\n",
       "      <td>110</td>\n",
       "      <td>1010</td>\n",
       "      <td>Betty</td>\n",
       "      <td>F</td>\n",
       "      <td>Walmart</td>\n",
       "      <td>88000</td>\n",
       "    </tr>\n",
       "    <tr>\n",
       "      <td>111</td>\n",
       "      <td>1011</td>\n",
       "      <td>James</td>\n",
       "      <td>M</td>\n",
       "      <td>Intel</td>\n",
       "      <td>89000</td>\n",
       "    </tr>\n",
       "  </tbody>\n",
       "</table>\n",
       "</div>"
      ],
      "text/plain": [
       "     Emp_ID     Name Gender    Company  Salary\n",
       "101    1001     Alex      M      Apple   67000\n",
       "102    1002      Amy      F    Walmart   90000\n",
       "103    1003    Allen      M      Intel   87000\n",
       "104    1004    Alice      F    Cummins   69000\n",
       "105    1005  Stephan      M       Ford   78000\n",
       "106    1006    Billy      M  Cognizant   89000\n",
       "107    1007    Brian      M      Apple   80000\n",
       "108    1008     Bran      M      Intel   79000\n",
       "109    1009    Bryce      F    Cummins   97000\n",
       "110    1010    Betty      F    Walmart   88000\n",
       "111    1011    James      M      Intel   89000"
      ]
     },
     "execution_count": 11,
     "metadata": {},
     "output_type": "execute_result"
    }
   ],
   "source": [
    "# append DataFrame df_company_B to df_company_A\n",
    "df_prof_info_A.append(df_prof_info_B)"
   ]
  },
  {
   "cell_type": "markdown",
   "metadata": {
    "id": "UAzg1VwFydhE"
   },
   "source": [
    "<a id=\"Merging\"> </a>\n",
    "### 2. Merging and Joining\n",
    "\n",
    "Merging two datasets is a process of bringing two datasets to form one, by aligning the rows from both the datasets based on common attributes or columns"
   ]
  },
  {
   "cell_type": "markdown",
   "metadata": {
    "id": "hHRDmD9jydhE"
   },
   "source": [
    "### Concatenate using `.merge()`"
   ]
  },
  {
   "cell_type": "markdown",
   "metadata": {
    "id": "wiV9F98OydhE"
   },
   "source": [
    "Concatenate the personal and professional information on employees in company A."
   ]
  },
  {
   "cell_type": "code",
   "execution_count": null,
   "metadata": {
    "id": "TQWHUigxydhE",
    "outputId": "ba62a4f1-0da8-4883-ced5-a4b875c48e0b"
   },
   "outputs": [
    {
     "data": {
      "text/html": [
       "<div>\n",
       "<style scoped>\n",
       "    .dataframe tbody tr th:only-of-type {\n",
       "        vertical-align: middle;\n",
       "    }\n",
       "\n",
       "    .dataframe tbody tr th {\n",
       "        vertical-align: top;\n",
       "    }\n",
       "\n",
       "    .dataframe thead th {\n",
       "        text-align: right;\n",
       "    }\n",
       "</style>\n",
       "<table border=\"1\" class=\"dataframe\">\n",
       "  <thead>\n",
       "    <tr style=\"text-align: right;\">\n",
       "      <th></th>\n",
       "      <th>Emp_ID</th>\n",
       "      <th>Name</th>\n",
       "      <th>Gender</th>\n",
       "      <th>Company</th>\n",
       "      <th>Salary</th>\n",
       "      <th>Hometown</th>\n",
       "      <th>Marital</th>\n",
       "      <th>Dependents</th>\n",
       "    </tr>\n",
       "  </thead>\n",
       "  <tbody>\n",
       "    <tr>\n",
       "      <td>0</td>\n",
       "      <td>1001</td>\n",
       "      <td>Alex</td>\n",
       "      <td>M</td>\n",
       "      <td>Apple</td>\n",
       "      <td>67000</td>\n",
       "      <td>New York</td>\n",
       "      <td>Married</td>\n",
       "      <td>1</td>\n",
       "    </tr>\n",
       "    <tr>\n",
       "      <td>1</td>\n",
       "      <td>1002</td>\n",
       "      <td>Amy</td>\n",
       "      <td>F</td>\n",
       "      <td>Walmart</td>\n",
       "      <td>90000</td>\n",
       "      <td>London</td>\n",
       "      <td>Divorsed</td>\n",
       "      <td>1</td>\n",
       "    </tr>\n",
       "    <tr>\n",
       "      <td>2</td>\n",
       "      <td>1003</td>\n",
       "      <td>Allen</td>\n",
       "      <td>M</td>\n",
       "      <td>Intel</td>\n",
       "      <td>87000</td>\n",
       "      <td>San Francisco</td>\n",
       "      <td>Single</td>\n",
       "      <td>3</td>\n",
       "    </tr>\n",
       "    <tr>\n",
       "      <td>3</td>\n",
       "      <td>1004</td>\n",
       "      <td>Alice</td>\n",
       "      <td>F</td>\n",
       "      <td>Cummins</td>\n",
       "      <td>69000</td>\n",
       "      <td>Seattle</td>\n",
       "      <td>Married</td>\n",
       "      <td>2</td>\n",
       "    </tr>\n",
       "    <tr>\n",
       "      <td>4</td>\n",
       "      <td>1005</td>\n",
       "      <td>Stephan</td>\n",
       "      <td>M</td>\n",
       "      <td>Ford</td>\n",
       "      <td>78000</td>\n",
       "      <td>Madrid</td>\n",
       "      <td>Single</td>\n",
       "      <td>1</td>\n",
       "    </tr>\n",
       "  </tbody>\n",
       "</table>\n",
       "</div>"
      ],
      "text/plain": [
       "  Emp_ID     Name Gender   Company Salary       Hometown   Marital Dependents\n",
       "0   1001     Alex       M    Apple  67000       New York   Married          1\n",
       "1   1002      Amy       F  Walmart  90000         London  Divorsed          1\n",
       "2   1003    Allen       M    Intel  87000  San Francisco    Single          3\n",
       "3   1004    Alice       F  Cummins  69000        Seattle   Married          2\n",
       "4   1005  Stephan       M     Ford  78000         Madrid    Single          1"
      ]
     },
     "execution_count": 12,
     "metadata": {},
     "output_type": "execute_result"
    }
   ],
   "source": [
    "# concatenate the DataFrames \n",
    "# 'on' specifies the column(s) based on which to join the DataFrames \n",
    "# suffixes: specifies the suffix for duplicate columns\n",
    "# the (' ',' ') indicates there are no suffixes given\n",
    "# T: transposes the DataFrame\n",
    "# drop_duplicates(): drops the duplicate rows in a DataFrame\n",
    "pd.merge(df_prof_info_A, df_pers_info_A, on='Emp_ID',suffixes=(' ',' ') ).T.drop_duplicates().T"
   ]
  },
  {
   "cell_type": "markdown",
   "metadata": {
    "id": "o_g68PjdydhF"
   },
   "source": [
    "The rows having common employee ID's are merged to give the resultant DataFrame."
   ]
  },
  {
   "cell_type": "markdown",
   "metadata": {
    "id": "IRZ3sNO0ydhF"
   },
   "source": [
    "**Merging using multiple keys**"
   ]
  },
  {
   "cell_type": "markdown",
   "metadata": {
    "id": "eyWtcjTpydhF"
   },
   "source": [
    "Now, let us Concatenate the personal and professional information on employees in company A. "
   ]
  },
  {
   "cell_type": "code",
   "execution_count": null,
   "metadata": {
    "id": "cm-lqaJgydhF",
    "outputId": "b6cf74bd-384e-4c5c-8c55-2fe7325a2b5a"
   },
   "outputs": [
    {
     "data": {
      "text/html": [
       "<div>\n",
       "<style scoped>\n",
       "    .dataframe tbody tr th:only-of-type {\n",
       "        vertical-align: middle;\n",
       "    }\n",
       "\n",
       "    .dataframe tbody tr th {\n",
       "        vertical-align: top;\n",
       "    }\n",
       "\n",
       "    .dataframe thead th {\n",
       "        text-align: right;\n",
       "    }\n",
       "</style>\n",
       "<table border=\"1\" class=\"dataframe\">\n",
       "  <thead>\n",
       "    <tr style=\"text-align: right;\">\n",
       "      <th></th>\n",
       "      <th>Emp_ID</th>\n",
       "      <th>Name</th>\n",
       "      <th>Gender</th>\n",
       "      <th>Company</th>\n",
       "      <th>Salary</th>\n",
       "      <th>Hometown</th>\n",
       "      <th>Marital</th>\n",
       "      <th>Dependents</th>\n",
       "    </tr>\n",
       "  </thead>\n",
       "  <tbody>\n",
       "    <tr>\n",
       "      <td>0</td>\n",
       "      <td>1001</td>\n",
       "      <td>Alex</td>\n",
       "      <td>M</td>\n",
       "      <td>Apple</td>\n",
       "      <td>67000</td>\n",
       "      <td>New York</td>\n",
       "      <td>Married</td>\n",
       "      <td>1</td>\n",
       "    </tr>\n",
       "    <tr>\n",
       "      <td>1</td>\n",
       "      <td>1002</td>\n",
       "      <td>Amy</td>\n",
       "      <td>F</td>\n",
       "      <td>Walmart</td>\n",
       "      <td>90000</td>\n",
       "      <td>London</td>\n",
       "      <td>Divorsed</td>\n",
       "      <td>1</td>\n",
       "    </tr>\n",
       "    <tr>\n",
       "      <td>2</td>\n",
       "      <td>1003</td>\n",
       "      <td>Allen</td>\n",
       "      <td>M</td>\n",
       "      <td>Intel</td>\n",
       "      <td>87000</td>\n",
       "      <td>San Francisco</td>\n",
       "      <td>Single</td>\n",
       "      <td>3</td>\n",
       "    </tr>\n",
       "    <tr>\n",
       "      <td>3</td>\n",
       "      <td>1004</td>\n",
       "      <td>Alice</td>\n",
       "      <td>F</td>\n",
       "      <td>Cummins</td>\n",
       "      <td>69000</td>\n",
       "      <td>Seattle</td>\n",
       "      <td>Married</td>\n",
       "      <td>2</td>\n",
       "    </tr>\n",
       "    <tr>\n",
       "      <td>4</td>\n",
       "      <td>1005</td>\n",
       "      <td>Stephan</td>\n",
       "      <td>M</td>\n",
       "      <td>Ford</td>\n",
       "      <td>78000</td>\n",
       "      <td>Madrid</td>\n",
       "      <td>Single</td>\n",
       "      <td>1</td>\n",
       "    </tr>\n",
       "  </tbody>\n",
       "</table>\n",
       "</div>"
      ],
      "text/plain": [
       "   Emp_ID     Name Gender  Company  Salary       Hometown   Marital  \\\n",
       "0    1001     Alex      M    Apple   67000       New York   Married   \n",
       "1    1002      Amy      F  Walmart   90000         London  Divorsed   \n",
       "2    1003    Allen      M    Intel   87000  San Francisco    Single   \n",
       "3    1004    Alice      F  Cummins   69000        Seattle   Married   \n",
       "4    1005  Stephan      M     Ford   78000         Madrid    Single   \n",
       "\n",
       "   Dependents  \n",
       "0           1  \n",
       "1           1  \n",
       "2           3  \n",
       "3           2  \n",
       "4           1  "
      ]
     },
     "execution_count": 13,
     "metadata": {},
     "output_type": "execute_result"
    }
   ],
   "source": [
    "# concatenate the DataFrames \n",
    "# 'on' specifies the column(s) based on which to join the DataFrames \n",
    "pd.merge(df_prof_info_A, df_pers_info_A, on=[\"Emp_ID\",\"Gender\"])"
   ]
  },
  {
   "cell_type": "markdown",
   "metadata": {
    "id": "NfJzDRzqydhF"
   },
   "source": [
    "The rows having common employee ID and gender are merged to give the resultant DataFrame."
   ]
  },
  {
   "cell_type": "markdown",
   "metadata": {
    "id": "Hu5kmMXWydhF"
   },
   "source": [
    "**Merging on the Basis of Index**"
   ]
  },
  {
   "cell_type": "markdown",
   "metadata": {
    "id": "Ia17AW3nydhG"
   },
   "source": [
    "This function helps to merge two DataFrames, based on their index."
   ]
  },
  {
   "cell_type": "code",
   "execution_count": null,
   "metadata": {
    "id": "y3-jDCmRydhG",
    "outputId": "0fc055f3-96ae-4be8-85f2-999180fd8244"
   },
   "outputs": [
    {
     "data": {
      "text/html": [
       "<div>\n",
       "<style scoped>\n",
       "    .dataframe tbody tr th:only-of-type {\n",
       "        vertical-align: middle;\n",
       "    }\n",
       "\n",
       "    .dataframe tbody tr th {\n",
       "        vertical-align: top;\n",
       "    }\n",
       "\n",
       "    .dataframe thead th {\n",
       "        text-align: right;\n",
       "    }\n",
       "</style>\n",
       "<table border=\"1\" class=\"dataframe\">\n",
       "  <thead>\n",
       "    <tr style=\"text-align: right;\">\n",
       "      <th></th>\n",
       "      <th>Emp_ID</th>\n",
       "      <th>Name</th>\n",
       "      <th>Gender</th>\n",
       "      <th>Company</th>\n",
       "      <th>Salary</th>\n",
       "      <th>Hometown</th>\n",
       "      <th>Marital</th>\n",
       "      <th>Dependents</th>\n",
       "    </tr>\n",
       "  </thead>\n",
       "  <tbody>\n",
       "    <tr>\n",
       "      <td>101</td>\n",
       "      <td>1001</td>\n",
       "      <td>Alex</td>\n",
       "      <td>M</td>\n",
       "      <td>Apple</td>\n",
       "      <td>67000</td>\n",
       "      <td>New York</td>\n",
       "      <td>Married</td>\n",
       "      <td>1</td>\n",
       "    </tr>\n",
       "    <tr>\n",
       "      <td>102</td>\n",
       "      <td>1002</td>\n",
       "      <td>Amy</td>\n",
       "      <td>F</td>\n",
       "      <td>Walmart</td>\n",
       "      <td>90000</td>\n",
       "      <td>London</td>\n",
       "      <td>Divorsed</td>\n",
       "      <td>1</td>\n",
       "    </tr>\n",
       "    <tr>\n",
       "      <td>103</td>\n",
       "      <td>1003</td>\n",
       "      <td>Allen</td>\n",
       "      <td>M</td>\n",
       "      <td>Intel</td>\n",
       "      <td>87000</td>\n",
       "      <td>San Francisco</td>\n",
       "      <td>Single</td>\n",
       "      <td>3</td>\n",
       "    </tr>\n",
       "    <tr>\n",
       "      <td>104</td>\n",
       "      <td>1004</td>\n",
       "      <td>Alice</td>\n",
       "      <td>F</td>\n",
       "      <td>Cummins</td>\n",
       "      <td>69000</td>\n",
       "      <td>Seattle</td>\n",
       "      <td>Married</td>\n",
       "      <td>2</td>\n",
       "    </tr>\n",
       "    <tr>\n",
       "      <td>105</td>\n",
       "      <td>1005</td>\n",
       "      <td>Stephan</td>\n",
       "      <td>M</td>\n",
       "      <td>Ford</td>\n",
       "      <td>78000</td>\n",
       "      <td>Madrid</td>\n",
       "      <td>Single</td>\n",
       "      <td>1</td>\n",
       "    </tr>\n",
       "  </tbody>\n",
       "</table>\n",
       "</div>"
      ],
      "text/plain": [
       "    Emp_ID     Name Gender   Company Salary       Hometown   Marital  \\\n",
       "101   1001     Alex       M    Apple  67000       New York   Married   \n",
       "102   1002      Amy       F  Walmart  90000         London  Divorsed   \n",
       "103   1003    Allen       M    Intel  87000  San Francisco    Single   \n",
       "104   1004    Alice       F  Cummins  69000        Seattle   Married   \n",
       "105   1005  Stephan       M     Ford  78000         Madrid    Single   \n",
       "\n",
       "    Dependents  \n",
       "101          1  \n",
       "102          1  \n",
       "103          3  \n",
       "104          2  \n",
       "105          1  "
      ]
     },
     "execution_count": 14,
     "metadata": {},
     "output_type": "execute_result"
    }
   ],
   "source": [
    "# merge the DataFrames based on their index\n",
    "# 'left_index' considers index of left DataFrame to merge, here it is set to True, so it is considered\n",
    "# 'right_index' considers index of right DataFrame to merge, here it is set to True, so it is considered\n",
    "# suffixes: specifies the suffix for duplicate columns\n",
    "# the (' ',' ') indicates there are no suffixes given\n",
    "# T: transposes the DataFrame\n",
    "# drop_duplicates(): drops the duplicate rows in a DataFrame\n",
    "pd.merge(df_prof_info_A, df_pers_info_A,  right_index = True, left_index = True, suffixes =(' ',' ')\n",
    "        ).T.drop_duplicates().T"
   ]
  },
  {
   "cell_type": "markdown",
   "metadata": {
    "id": "2TKzurJ-ydhG"
   },
   "source": [
    "Note the resultant DataFrame takes the index of the DataFrame to the left. "
   ]
  },
  {
   "cell_type": "markdown",
   "metadata": {
    "id": "TRq6GgWbydhG"
   },
   "source": [
    "**`merge()` allows you to perform natural join, left join, right join, and full outer join in pandas.**"
   ]
  },
  {
   "cell_type": "markdown",
   "metadata": {
    "id": "rxlZsMDvydhG"
   },
   "source": [
    "**Understanding the Different Types of Merge:**\n",
    "\n",
    "Left outer join: includes all the rows of your DataFrame x and only those from y that match. (how=‘left’).\n",
    "\n",
    "Right outer join: includes all the rows of your DataFrame y and only those from x that match. (how=‘right’).\n",
    "\n",
    "Inner join: includes those rows that are common to both the DataFrames. (how=‘inner’).\n",
    "\n",
    "Full outer join: includes all rows from both DataFrames. (how=‘outer’)."
   ]
  },
  {
   "cell_type": "markdown",
   "metadata": {
    "id": "hp6BCgDRydhH"
   },
   "source": [
    "**Inner Join:**<br>\n",
    "It returns only the rows in which the left table has matching keys in the right table."
   ]
  },
  {
   "cell_type": "code",
   "execution_count": null,
   "metadata": {
    "id": "FtPWTM5xydhH",
    "outputId": "4613924f-b7a5-4a1f-96a6-4e8a5d0752a0"
   },
   "outputs": [
    {
     "data": {
      "text/html": [
       "<div>\n",
       "<style scoped>\n",
       "    .dataframe tbody tr th:only-of-type {\n",
       "        vertical-align: middle;\n",
       "    }\n",
       "\n",
       "    .dataframe tbody tr th {\n",
       "        vertical-align: top;\n",
       "    }\n",
       "\n",
       "    .dataframe thead th {\n",
       "        text-align: right;\n",
       "    }\n",
       "</style>\n",
       "<table border=\"1\" class=\"dataframe\">\n",
       "  <thead>\n",
       "    <tr style=\"text-align: right;\">\n",
       "      <th></th>\n",
       "      <th>Emp_ID</th>\n",
       "      <th>Name</th>\n",
       "      <th>Gender</th>\n",
       "      <th>Company</th>\n",
       "      <th>Salary</th>\n",
       "      <th>Hometown</th>\n",
       "      <th>Marital</th>\n",
       "      <th>Dependents</th>\n",
       "    </tr>\n",
       "  </thead>\n",
       "  <tbody>\n",
       "    <tr>\n",
       "      <td>0</td>\n",
       "      <td>1006</td>\n",
       "      <td>Billy</td>\n",
       "      <td>M</td>\n",
       "      <td>Cognizant</td>\n",
       "      <td>89000</td>\n",
       "      <td>Paris</td>\n",
       "      <td>Married</td>\n",
       "      <td>1</td>\n",
       "    </tr>\n",
       "    <tr>\n",
       "      <td>1</td>\n",
       "      <td>1007</td>\n",
       "      <td>Brian</td>\n",
       "      <td>M</td>\n",
       "      <td>Apple</td>\n",
       "      <td>80000</td>\n",
       "      <td>Boston</td>\n",
       "      <td>Divorsed</td>\n",
       "      <td>1</td>\n",
       "    </tr>\n",
       "    <tr>\n",
       "      <td>2</td>\n",
       "      <td>1009</td>\n",
       "      <td>Bryce</td>\n",
       "      <td>F</td>\n",
       "      <td>Cummins</td>\n",
       "      <td>97000</td>\n",
       "      <td>San Francisco</td>\n",
       "      <td>Single</td>\n",
       "      <td>3</td>\n",
       "    </tr>\n",
       "    <tr>\n",
       "      <td>3</td>\n",
       "      <td>1010</td>\n",
       "      <td>Betty</td>\n",
       "      <td>F</td>\n",
       "      <td>Walmart</td>\n",
       "      <td>88000</td>\n",
       "      <td>Seattle</td>\n",
       "      <td>Married</td>\n",
       "      <td>2</td>\n",
       "    </tr>\n",
       "    <tr>\n",
       "      <td>4</td>\n",
       "      <td>1011</td>\n",
       "      <td>James</td>\n",
       "      <td>M</td>\n",
       "      <td>Intel</td>\n",
       "      <td>89000</td>\n",
       "      <td>London</td>\n",
       "      <td>Single</td>\n",
       "      <td>1</td>\n",
       "    </tr>\n",
       "  </tbody>\n",
       "</table>\n",
       "</div>"
      ],
      "text/plain": [
       "   Emp_ID   Name Gender    Company  Salary       Hometown   Marital  \\\n",
       "0    1006  Billy      M  Cognizant   89000          Paris   Married   \n",
       "1    1007  Brian      M      Apple   80000         Boston  Divorsed   \n",
       "2    1009  Bryce      F    Cummins   97000  San Francisco    Single   \n",
       "3    1010  Betty      F    Walmart   88000        Seattle   Married   \n",
       "4    1011  James      M      Intel   89000         London    Single   \n",
       "\n",
       "   Dependents  \n",
       "0           1  \n",
       "1           1  \n",
       "2           3  \n",
       "3           2  \n",
       "4           1  "
      ]
     },
     "execution_count": 15,
     "metadata": {},
     "output_type": "execute_result"
    }
   ],
   "source": [
    "# print the inner join of the DataFrames\n",
    "# on specifies the column(s) based on which to join the DataFrames \n",
    "# how specifies the type of join\n",
    "pd.merge(df_prof_info_B, df_pers_info_B, on='Emp_ID', how='inner')"
   ]
  },
  {
   "cell_type": "markdown",
   "metadata": {
    "id": "6Voct8bWydhH"
   },
   "source": [
    "In professional info B we have employee ID's as 1006,1007,1008,1009,1010,1011 and we have personal info B for employee ID's 1006,1007,1009,1010,1011,1012. Because of the inner join, we notice that 1008 from the first DataFrame (professinal info) and 1012 from second DataFrame (personal info) are not part to the resultant outcome. In other words, inner join will include those rows that are common to both the DataFrames."
   ]
  },
  {
   "cell_type": "markdown",
   "metadata": {
    "id": "FnyID9QOydhH"
   },
   "source": [
    "**Outer Join:**<br>\n",
    "It returns all rows from both tables, joining records from the left, which has matching keys in the right table."
   ]
  },
  {
   "cell_type": "code",
   "execution_count": null,
   "metadata": {
    "id": "rfEEUOvCydhH",
    "outputId": "6631b09f-bca9-48ab-b014-416a091eb2f5"
   },
   "outputs": [
    {
     "data": {
      "text/html": [
       "<div>\n",
       "<style scoped>\n",
       "    .dataframe tbody tr th:only-of-type {\n",
       "        vertical-align: middle;\n",
       "    }\n",
       "\n",
       "    .dataframe tbody tr th {\n",
       "        vertical-align: top;\n",
       "    }\n",
       "\n",
       "    .dataframe thead th {\n",
       "        text-align: right;\n",
       "    }\n",
       "</style>\n",
       "<table border=\"1\" class=\"dataframe\">\n",
       "  <thead>\n",
       "    <tr style=\"text-align: right;\">\n",
       "      <th></th>\n",
       "      <th>Emp_ID</th>\n",
       "      <th>Name</th>\n",
       "      <th>Gender</th>\n",
       "      <th>Company</th>\n",
       "      <th>Salary</th>\n",
       "      <th>Hometown</th>\n",
       "      <th>Marital</th>\n",
       "      <th>Dependents</th>\n",
       "    </tr>\n",
       "  </thead>\n",
       "  <tbody>\n",
       "    <tr>\n",
       "      <td>0</td>\n",
       "      <td>1006</td>\n",
       "      <td>Billy</td>\n",
       "      <td>M</td>\n",
       "      <td>Cognizant</td>\n",
       "      <td>89000.0</td>\n",
       "      <td>Paris</td>\n",
       "      <td>Married</td>\n",
       "      <td>1.0</td>\n",
       "    </tr>\n",
       "    <tr>\n",
       "      <td>1</td>\n",
       "      <td>1007</td>\n",
       "      <td>Brian</td>\n",
       "      <td>M</td>\n",
       "      <td>Apple</td>\n",
       "      <td>80000.0</td>\n",
       "      <td>Boston</td>\n",
       "      <td>Divorsed</td>\n",
       "      <td>1.0</td>\n",
       "    </tr>\n",
       "    <tr>\n",
       "      <td>2</td>\n",
       "      <td>1008</td>\n",
       "      <td>Bran</td>\n",
       "      <td>M</td>\n",
       "      <td>Intel</td>\n",
       "      <td>79000.0</td>\n",
       "      <td>NaN</td>\n",
       "      <td>NaN</td>\n",
       "      <td>NaN</td>\n",
       "    </tr>\n",
       "    <tr>\n",
       "      <td>3</td>\n",
       "      <td>1009</td>\n",
       "      <td>Bryce</td>\n",
       "      <td>F</td>\n",
       "      <td>Cummins</td>\n",
       "      <td>97000.0</td>\n",
       "      <td>San Francisco</td>\n",
       "      <td>Single</td>\n",
       "      <td>3.0</td>\n",
       "    </tr>\n",
       "    <tr>\n",
       "      <td>4</td>\n",
       "      <td>1010</td>\n",
       "      <td>Betty</td>\n",
       "      <td>F</td>\n",
       "      <td>Walmart</td>\n",
       "      <td>88000.0</td>\n",
       "      <td>Seattle</td>\n",
       "      <td>Married</td>\n",
       "      <td>2.0</td>\n",
       "    </tr>\n",
       "    <tr>\n",
       "      <td>5</td>\n",
       "      <td>1011</td>\n",
       "      <td>James</td>\n",
       "      <td>M</td>\n",
       "      <td>Intel</td>\n",
       "      <td>89000.0</td>\n",
       "      <td>London</td>\n",
       "      <td>Single</td>\n",
       "      <td>1.0</td>\n",
       "    </tr>\n",
       "    <tr>\n",
       "      <td>6</td>\n",
       "      <td>1012</td>\n",
       "      <td>NaN</td>\n",
       "      <td>NaN</td>\n",
       "      <td>NaN</td>\n",
       "      <td>NaN</td>\n",
       "      <td>London</td>\n",
       "      <td>Single</td>\n",
       "      <td>2.0</td>\n",
       "    </tr>\n",
       "  </tbody>\n",
       "</table>\n",
       "</div>"
      ],
      "text/plain": [
       "   Emp_ID   Name Gender    Company   Salary       Hometown   Marital  \\\n",
       "0    1006  Billy      M  Cognizant  89000.0          Paris   Married   \n",
       "1    1007  Brian      M      Apple  80000.0         Boston  Divorsed   \n",
       "2    1008   Bran      M      Intel  79000.0            NaN       NaN   \n",
       "3    1009  Bryce      F    Cummins  97000.0  San Francisco    Single   \n",
       "4    1010  Betty      F    Walmart  88000.0        Seattle   Married   \n",
       "5    1011  James      M      Intel  89000.0         London    Single   \n",
       "6    1012    NaN    NaN        NaN      NaN         London    Single   \n",
       "\n",
       "   Dependents  \n",
       "0         1.0  \n",
       "1         1.0  \n",
       "2         NaN  \n",
       "3         3.0  \n",
       "4         2.0  \n",
       "5         1.0  \n",
       "6         2.0  "
      ]
     },
     "execution_count": 16,
     "metadata": {},
     "output_type": "execute_result"
    }
   ],
   "source": [
    "# print the outer join of the DataFrames\n",
    "# on specifies the column(s) based on which to join the DataFrames \n",
    "# how specifies the type of join\n",
    "pd.merge(df_prof_info_B, df_pers_info_B, on='Emp_ID', how='outer')"
   ]
  },
  {
   "cell_type": "markdown",
   "metadata": {
    "id": "ZEGGluOcydhI"
   },
   "source": [
    "In professional info B we have employee ID's as 1006,1007,1008,1009,1010,1011 and we have personal info B for employee ID's 1006,1007,1009,1010,1011,1012. <br>The employee Id 1008 has no personal information available and the employee ID 1012 has no professional information available. <br>So, the outer join merged all the observations from both the DataFrames and all the missing values are marked with `NaN`."
   ]
  },
  {
   "cell_type": "markdown",
   "metadata": {
    "id": "NN7hf5lLydhI"
   },
   "source": [
    "**Left Outer Join:**<br>\n",
    "It returns all rows from the left table and any rows with matching keys from the right table."
   ]
  },
  {
   "cell_type": "code",
   "execution_count": null,
   "metadata": {
    "id": "Ck2KNwOLydhI",
    "outputId": "581b9778-35b0-4c06-9ae4-86cf341bff1a"
   },
   "outputs": [
    {
     "data": {
      "text/html": [
       "<div>\n",
       "<style scoped>\n",
       "    .dataframe tbody tr th:only-of-type {\n",
       "        vertical-align: middle;\n",
       "    }\n",
       "\n",
       "    .dataframe tbody tr th {\n",
       "        vertical-align: top;\n",
       "    }\n",
       "\n",
       "    .dataframe thead th {\n",
       "        text-align: right;\n",
       "    }\n",
       "</style>\n",
       "<table border=\"1\" class=\"dataframe\">\n",
       "  <thead>\n",
       "    <tr style=\"text-align: right;\">\n",
       "      <th></th>\n",
       "      <th>Emp_ID</th>\n",
       "      <th>Name</th>\n",
       "      <th>Gender</th>\n",
       "      <th>Company</th>\n",
       "      <th>Salary</th>\n",
       "      <th>Hometown</th>\n",
       "      <th>Marital</th>\n",
       "      <th>Dependents</th>\n",
       "    </tr>\n",
       "  </thead>\n",
       "  <tbody>\n",
       "    <tr>\n",
       "      <td>0</td>\n",
       "      <td>1006</td>\n",
       "      <td>Billy</td>\n",
       "      <td>M</td>\n",
       "      <td>Cognizant</td>\n",
       "      <td>89000</td>\n",
       "      <td>Paris</td>\n",
       "      <td>Married</td>\n",
       "      <td>1.0</td>\n",
       "    </tr>\n",
       "    <tr>\n",
       "      <td>1</td>\n",
       "      <td>1007</td>\n",
       "      <td>Brian</td>\n",
       "      <td>M</td>\n",
       "      <td>Apple</td>\n",
       "      <td>80000</td>\n",
       "      <td>Boston</td>\n",
       "      <td>Divorsed</td>\n",
       "      <td>1.0</td>\n",
       "    </tr>\n",
       "    <tr>\n",
       "      <td>2</td>\n",
       "      <td>1008</td>\n",
       "      <td>Bran</td>\n",
       "      <td>M</td>\n",
       "      <td>Intel</td>\n",
       "      <td>79000</td>\n",
       "      <td>NaN</td>\n",
       "      <td>NaN</td>\n",
       "      <td>NaN</td>\n",
       "    </tr>\n",
       "    <tr>\n",
       "      <td>3</td>\n",
       "      <td>1009</td>\n",
       "      <td>Bryce</td>\n",
       "      <td>F</td>\n",
       "      <td>Cummins</td>\n",
       "      <td>97000</td>\n",
       "      <td>San Francisco</td>\n",
       "      <td>Single</td>\n",
       "      <td>3.0</td>\n",
       "    </tr>\n",
       "    <tr>\n",
       "      <td>4</td>\n",
       "      <td>1010</td>\n",
       "      <td>Betty</td>\n",
       "      <td>F</td>\n",
       "      <td>Walmart</td>\n",
       "      <td>88000</td>\n",
       "      <td>Seattle</td>\n",
       "      <td>Married</td>\n",
       "      <td>2.0</td>\n",
       "    </tr>\n",
       "    <tr>\n",
       "      <td>5</td>\n",
       "      <td>1011</td>\n",
       "      <td>James</td>\n",
       "      <td>M</td>\n",
       "      <td>Intel</td>\n",
       "      <td>89000</td>\n",
       "      <td>London</td>\n",
       "      <td>Single</td>\n",
       "      <td>1.0</td>\n",
       "    </tr>\n",
       "  </tbody>\n",
       "</table>\n",
       "</div>"
      ],
      "text/plain": [
       "   Emp_ID   Name Gender    Company  Salary       Hometown   Marital  \\\n",
       "0    1006  Billy      M  Cognizant   89000          Paris   Married   \n",
       "1    1007  Brian      M      Apple   80000         Boston  Divorsed   \n",
       "2    1008   Bran      M      Intel   79000            NaN       NaN   \n",
       "3    1009  Bryce      F    Cummins   97000  San Francisco    Single   \n",
       "4    1010  Betty      F    Walmart   88000        Seattle   Married   \n",
       "5    1011  James      M      Intel   89000         London    Single   \n",
       "\n",
       "   Dependents  \n",
       "0         1.0  \n",
       "1         1.0  \n",
       "2         NaN  \n",
       "3         3.0  \n",
       "4         2.0  \n",
       "5         1.0  "
      ]
     },
     "execution_count": 17,
     "metadata": {},
     "output_type": "execute_result"
    }
   ],
   "source": [
    "# print the left join of the DataFrames\n",
    "# on specifies the column(s) based on which to join the DataFrames \n",
    "# how specifies the type of join\n",
    "pd.merge(df_prof_info_B, df_pers_info_B, on = 'Emp_ID', how ='left')"
   ]
  },
  {
   "cell_type": "markdown",
   "metadata": {
    "id": "CYfRj-5MydhI"
   },
   "source": [
    "We notice that employee ID 1008 is present in left DataFrame but not present in the right DataFrame.\n",
    "\n",
    "Whereas employee ID 1012 is present in right DataFrame but not present in the left DataFrame.\n",
    "\n",
    "Because of `how = 'left'`, it took all the observations from the left DataFrame (professional info) but it took only those observations from the right DataFrame (personal info) which are present in the left DataFrame and all the missing values are marked with `NaN`."
   ]
  },
  {
   "cell_type": "markdown",
   "metadata": {
    "id": "FGfYnltmydhI"
   },
   "source": [
    "**Right Outer Join:**<br>\n",
    "It returns all rows from the right table and any rows with matching keys from the left table."
   ]
  },
  {
   "cell_type": "code",
   "execution_count": null,
   "metadata": {
    "id": "8m3M-yytydhJ",
    "outputId": "14cb7f37-e638-4628-91db-936e513d3c9a"
   },
   "outputs": [
    {
     "data": {
      "text/html": [
       "<div>\n",
       "<style scoped>\n",
       "    .dataframe tbody tr th:only-of-type {\n",
       "        vertical-align: middle;\n",
       "    }\n",
       "\n",
       "    .dataframe tbody tr th {\n",
       "        vertical-align: top;\n",
       "    }\n",
       "\n",
       "    .dataframe thead th {\n",
       "        text-align: right;\n",
       "    }\n",
       "</style>\n",
       "<table border=\"1\" class=\"dataframe\">\n",
       "  <thead>\n",
       "    <tr style=\"text-align: right;\">\n",
       "      <th></th>\n",
       "      <th>Emp_ID</th>\n",
       "      <th>Name</th>\n",
       "      <th>Gender</th>\n",
       "      <th>Company</th>\n",
       "      <th>Salary</th>\n",
       "      <th>Hometown</th>\n",
       "      <th>Marital</th>\n",
       "      <th>Dependents</th>\n",
       "    </tr>\n",
       "  </thead>\n",
       "  <tbody>\n",
       "    <tr>\n",
       "      <td>0</td>\n",
       "      <td>1006</td>\n",
       "      <td>Billy</td>\n",
       "      <td>M</td>\n",
       "      <td>Cognizant</td>\n",
       "      <td>89000.0</td>\n",
       "      <td>Paris</td>\n",
       "      <td>Married</td>\n",
       "      <td>1</td>\n",
       "    </tr>\n",
       "    <tr>\n",
       "      <td>1</td>\n",
       "      <td>1007</td>\n",
       "      <td>Brian</td>\n",
       "      <td>M</td>\n",
       "      <td>Apple</td>\n",
       "      <td>80000.0</td>\n",
       "      <td>Boston</td>\n",
       "      <td>Divorsed</td>\n",
       "      <td>1</td>\n",
       "    </tr>\n",
       "    <tr>\n",
       "      <td>2</td>\n",
       "      <td>1009</td>\n",
       "      <td>Bryce</td>\n",
       "      <td>F</td>\n",
       "      <td>Cummins</td>\n",
       "      <td>97000.0</td>\n",
       "      <td>San Francisco</td>\n",
       "      <td>Single</td>\n",
       "      <td>3</td>\n",
       "    </tr>\n",
       "    <tr>\n",
       "      <td>3</td>\n",
       "      <td>1010</td>\n",
       "      <td>Betty</td>\n",
       "      <td>F</td>\n",
       "      <td>Walmart</td>\n",
       "      <td>88000.0</td>\n",
       "      <td>Seattle</td>\n",
       "      <td>Married</td>\n",
       "      <td>2</td>\n",
       "    </tr>\n",
       "    <tr>\n",
       "      <td>4</td>\n",
       "      <td>1011</td>\n",
       "      <td>James</td>\n",
       "      <td>M</td>\n",
       "      <td>Intel</td>\n",
       "      <td>89000.0</td>\n",
       "      <td>London</td>\n",
       "      <td>Single</td>\n",
       "      <td>1</td>\n",
       "    </tr>\n",
       "    <tr>\n",
       "      <td>5</td>\n",
       "      <td>1012</td>\n",
       "      <td>NaN</td>\n",
       "      <td>NaN</td>\n",
       "      <td>NaN</td>\n",
       "      <td>NaN</td>\n",
       "      <td>London</td>\n",
       "      <td>Single</td>\n",
       "      <td>2</td>\n",
       "    </tr>\n",
       "  </tbody>\n",
       "</table>\n",
       "</div>"
      ],
      "text/plain": [
       "   Emp_ID   Name Gender    Company   Salary       Hometown   Marital  \\\n",
       "0    1006  Billy      M  Cognizant  89000.0          Paris   Married   \n",
       "1    1007  Brian      M      Apple  80000.0         Boston  Divorsed   \n",
       "2    1009  Bryce      F    Cummins  97000.0  San Francisco    Single   \n",
       "3    1010  Betty      F    Walmart  88000.0        Seattle   Married   \n",
       "4    1011  James      M      Intel  89000.0         London    Single   \n",
       "5    1012    NaN    NaN        NaN      NaN         London    Single   \n",
       "\n",
       "   Dependents  \n",
       "0           1  \n",
       "1           1  \n",
       "2           3  \n",
       "3           2  \n",
       "4           1  \n",
       "5           2  "
      ]
     },
     "execution_count": 18,
     "metadata": {},
     "output_type": "execute_result"
    }
   ],
   "source": [
    "# print the right join of the DataFrames\n",
    "# on specifies the column(s) based on which to join the DataFrames \n",
    "# how specifies the type of join\n",
    "pd.merge(df_prof_info_B, df_pers_info_B, on='Emp_ID', how='right')"
   ]
  },
  {
   "cell_type": "markdown",
   "metadata": {
    "id": "_fEU7o0WydhJ"
   },
   "source": [
    "We notice that employee ID 1012 is present in right DataFrame but not present in the left DataFrame.\n",
    "\n",
    "Whereas employee ID 1008 is present in left DataFrame but not present in the right DataFrame.\n",
    "\n",
    "Because of `how = 'right'`, it took all the observations from the right DataFrame (personal info) but it took only those observations from the left DataFrame (professional info) which are present in the right DataFrame and all the missing values are marked with `NaN`."
   ]
  },
  {
   "cell_type": "markdown",
   "metadata": {
    "id": "PZhRfQbRydhM"
   },
   "source": [
    "<a id=\"Pivote\"> </a>\n",
    "### 3. Pivot Table\n",
    "\n",
    "\n",
    "The pivot_table() is used to create a new table for the given index. Pivot has three arguments - index, columns, and values."
   ]
  },
  {
   "cell_type": "code",
   "execution_count": null,
   "metadata": {
    "id": "8kTFrnppydhM",
    "outputId": "3fd52c97-7db4-4147-bd17-8fb8a4af76aa"
   },
   "outputs": [
    {
     "data": {
      "text/html": [
       "<div>\n",
       "<style scoped>\n",
       "    .dataframe tbody tr th:only-of-type {\n",
       "        vertical-align: middle;\n",
       "    }\n",
       "\n",
       "    .dataframe tbody tr th {\n",
       "        vertical-align: top;\n",
       "    }\n",
       "\n",
       "    .dataframe thead th {\n",
       "        text-align: right;\n",
       "    }\n",
       "</style>\n",
       "<table border=\"1\" class=\"dataframe\">\n",
       "  <thead>\n",
       "    <tr style=\"text-align: right;\">\n",
       "      <th></th>\n",
       "      <th>Months</th>\n",
       "      <th>Sales</th>\n",
       "      <th>Seasons</th>\n",
       "    </tr>\n",
       "  </thead>\n",
       "  <tbody>\n",
       "    <tr>\n",
       "      <td>0</td>\n",
       "      <td>Jan</td>\n",
       "      <td>22000</td>\n",
       "      <td>Winter</td>\n",
       "    </tr>\n",
       "    <tr>\n",
       "      <td>1</td>\n",
       "      <td>Feb</td>\n",
       "      <td>27000</td>\n",
       "      <td>Winter</td>\n",
       "    </tr>\n",
       "    <tr>\n",
       "      <td>2</td>\n",
       "      <td>Mar</td>\n",
       "      <td>25000</td>\n",
       "      <td>Spring</td>\n",
       "    </tr>\n",
       "    <tr>\n",
       "      <td>3</td>\n",
       "      <td>Apr</td>\n",
       "      <td>29000</td>\n",
       "      <td>Spring</td>\n",
       "    </tr>\n",
       "    <tr>\n",
       "      <td>4</td>\n",
       "      <td>May</td>\n",
       "      <td>35000</td>\n",
       "      <td>Spring</td>\n",
       "    </tr>\n",
       "    <tr>\n",
       "      <td>5</td>\n",
       "      <td>June</td>\n",
       "      <td>67000</td>\n",
       "      <td>Summer</td>\n",
       "    </tr>\n",
       "    <tr>\n",
       "      <td>6</td>\n",
       "      <td>July</td>\n",
       "      <td>78000</td>\n",
       "      <td>Summer</td>\n",
       "    </tr>\n",
       "    <tr>\n",
       "      <td>7</td>\n",
       "      <td>Aug</td>\n",
       "      <td>67000</td>\n",
       "      <td>Summer</td>\n",
       "    </tr>\n",
       "    <tr>\n",
       "      <td>8</td>\n",
       "      <td>Sep</td>\n",
       "      <td>56000</td>\n",
       "      <td>Fall</td>\n",
       "    </tr>\n",
       "    <tr>\n",
       "      <td>9</td>\n",
       "      <td>Oct</td>\n",
       "      <td>56000</td>\n",
       "      <td>Fall</td>\n",
       "    </tr>\n",
       "    <tr>\n",
       "      <td>10</td>\n",
       "      <td>Nov</td>\n",
       "      <td>89000</td>\n",
       "      <td>Fall</td>\n",
       "    </tr>\n",
       "    <tr>\n",
       "      <td>11</td>\n",
       "      <td>Dec</td>\n",
       "      <td>60000</td>\n",
       "      <td>Winter</td>\n",
       "    </tr>\n",
       "  </tbody>\n",
       "</table>\n",
       "</div>"
      ],
      "text/plain": [
       "   Months  Sales Seasons\n",
       "0     Jan  22000  Winter\n",
       "1     Feb  27000  Winter\n",
       "2     Mar  25000  Spring\n",
       "3     Apr  29000  Spring\n",
       "4     May  35000  Spring\n",
       "5    June  67000  Summer\n",
       "6    July  78000  Summer\n",
       "7     Aug  67000  Summer\n",
       "8     Sep  56000    Fall\n",
       "9     Oct  56000    Fall\n",
       "10    Nov  89000    Fall\n",
       "11    Dec  60000  Winter"
      ]
     },
     "execution_count": 26,
     "metadata": {},
     "output_type": "execute_result"
    }
   ],
   "source": [
    "# create a dictionary\n",
    "sales = {'Months': ['Jan','Feb','Mar','Apr','May','June','July','Aug','Sep','Oct','Nov','Dec'],\n",
    "        'Sales': [22000,27000,25000,29000,35000,67000,78000,67000,56000,56000,89000,60000],\n",
    "         'Seasons': ['Winter','Winter','Spring','Spring','Spring','Summer','Summer','Summer','Fall','Fall','Fall','Winter']\n",
    "        }\n",
    "\n",
    "# create a DataFrame\n",
    "df_sales = pd.DataFrame(sales, columns= ['Months', 'Sales','Seasons'])\n",
    "\n",
    "# print the DataFrame\n",
    "df_sales"
   ]
  },
  {
   "cell_type": "markdown",
   "metadata": {
    "id": "4LY2Mzi0ydhM"
   },
   "source": [
    "The simplest pivot table must have a dataframe and an index . In this case, let us use the 'Months' as our index."
   ]
  },
  {
   "cell_type": "code",
   "execution_count": null,
   "metadata": {
    "id": "S9a9xlICydhM",
    "outputId": "233598fa-2b58-479a-92c6-614ebf1aabbd"
   },
   "outputs": [
    {
     "data": {
      "text/html": [
       "<div>\n",
       "<style scoped>\n",
       "    .dataframe tbody tr th:only-of-type {\n",
       "        vertical-align: middle;\n",
       "    }\n",
       "\n",
       "    .dataframe tbody tr th {\n",
       "        vertical-align: top;\n",
       "    }\n",
       "\n",
       "    .dataframe thead th {\n",
       "        text-align: right;\n",
       "    }\n",
       "</style>\n",
       "<table border=\"1\" class=\"dataframe\">\n",
       "  <thead>\n",
       "    <tr style=\"text-align: right;\">\n",
       "      <th></th>\n",
       "      <th>Sales</th>\n",
       "    </tr>\n",
       "    <tr>\n",
       "      <th>Months</th>\n",
       "      <th></th>\n",
       "    </tr>\n",
       "  </thead>\n",
       "  <tbody>\n",
       "    <tr>\n",
       "      <td>Apr</td>\n",
       "      <td>29000</td>\n",
       "    </tr>\n",
       "    <tr>\n",
       "      <td>Aug</td>\n",
       "      <td>67000</td>\n",
       "    </tr>\n",
       "    <tr>\n",
       "      <td>Dec</td>\n",
       "      <td>60000</td>\n",
       "    </tr>\n",
       "    <tr>\n",
       "      <td>Feb</td>\n",
       "      <td>27000</td>\n",
       "    </tr>\n",
       "    <tr>\n",
       "      <td>Jan</td>\n",
       "      <td>22000</td>\n",
       "    </tr>\n",
       "    <tr>\n",
       "      <td>July</td>\n",
       "      <td>78000</td>\n",
       "    </tr>\n",
       "    <tr>\n",
       "      <td>June</td>\n",
       "      <td>67000</td>\n",
       "    </tr>\n",
       "    <tr>\n",
       "      <td>Mar</td>\n",
       "      <td>25000</td>\n",
       "    </tr>\n",
       "    <tr>\n",
       "      <td>May</td>\n",
       "      <td>35000</td>\n",
       "    </tr>\n",
       "    <tr>\n",
       "      <td>Nov</td>\n",
       "      <td>89000</td>\n",
       "    </tr>\n",
       "    <tr>\n",
       "      <td>Oct</td>\n",
       "      <td>56000</td>\n",
       "    </tr>\n",
       "    <tr>\n",
       "      <td>Sep</td>\n",
       "      <td>56000</td>\n",
       "    </tr>\n",
       "  </tbody>\n",
       "</table>\n",
       "</div>"
      ],
      "text/plain": [
       "        Sales\n",
       "Months       \n",
       "Apr     29000\n",
       "Aug     67000\n",
       "Dec     60000\n",
       "Feb     27000\n",
       "Jan     22000\n",
       "July    78000\n",
       "June    67000\n",
       "Mar     25000\n",
       "May     35000\n",
       "Nov     89000\n",
       "Oct     56000\n",
       "Sep     56000"
      ]
     },
     "execution_count": 27,
     "metadata": {},
     "output_type": "execute_result"
    }
   ],
   "source": [
    "# create a pivot table where indexes are months\n",
    "pd.pivot_table(df_sales,index=[\"Months\"])"
   ]
  },
  {
   "cell_type": "markdown",
   "metadata": {
    "id": "KDNgzmJUydhM"
   },
   "source": [
    "It is possible to create pivot tables over multiple indexes. "
   ]
  },
  {
   "cell_type": "code",
   "execution_count": null,
   "metadata": {
    "id": "Qc8fqoohydhN",
    "outputId": "cf65549b-7519-4872-8c2a-40b490e7731d"
   },
   "outputs": [
    {
     "data": {
      "text/html": [
       "<div>\n",
       "<style scoped>\n",
       "    .dataframe tbody tr th:only-of-type {\n",
       "        vertical-align: middle;\n",
       "    }\n",
       "\n",
       "    .dataframe tbody tr th {\n",
       "        vertical-align: top;\n",
       "    }\n",
       "\n",
       "    .dataframe thead th {\n",
       "        text-align: right;\n",
       "    }\n",
       "</style>\n",
       "<table border=\"1\" class=\"dataframe\">\n",
       "  <thead>\n",
       "    <tr style=\"text-align: right;\">\n",
       "      <th></th>\n",
       "      <th></th>\n",
       "      <th>Sales</th>\n",
       "    </tr>\n",
       "    <tr>\n",
       "      <th>Months</th>\n",
       "      <th>Seasons</th>\n",
       "      <th></th>\n",
       "    </tr>\n",
       "  </thead>\n",
       "  <tbody>\n",
       "    <tr>\n",
       "      <td>Apr</td>\n",
       "      <td>Spring</td>\n",
       "      <td>29000</td>\n",
       "    </tr>\n",
       "    <tr>\n",
       "      <td>Aug</td>\n",
       "      <td>Summer</td>\n",
       "      <td>67000</td>\n",
       "    </tr>\n",
       "    <tr>\n",
       "      <td>Dec</td>\n",
       "      <td>Winter</td>\n",
       "      <td>60000</td>\n",
       "    </tr>\n",
       "    <tr>\n",
       "      <td>Feb</td>\n",
       "      <td>Winter</td>\n",
       "      <td>27000</td>\n",
       "    </tr>\n",
       "    <tr>\n",
       "      <td>Jan</td>\n",
       "      <td>Winter</td>\n",
       "      <td>22000</td>\n",
       "    </tr>\n",
       "    <tr>\n",
       "      <td>July</td>\n",
       "      <td>Summer</td>\n",
       "      <td>78000</td>\n",
       "    </tr>\n",
       "    <tr>\n",
       "      <td>June</td>\n",
       "      <td>Summer</td>\n",
       "      <td>67000</td>\n",
       "    </tr>\n",
       "    <tr>\n",
       "      <td>Mar</td>\n",
       "      <td>Spring</td>\n",
       "      <td>25000</td>\n",
       "    </tr>\n",
       "    <tr>\n",
       "      <td>May</td>\n",
       "      <td>Spring</td>\n",
       "      <td>35000</td>\n",
       "    </tr>\n",
       "    <tr>\n",
       "      <td>Nov</td>\n",
       "      <td>Fall</td>\n",
       "      <td>89000</td>\n",
       "    </tr>\n",
       "    <tr>\n",
       "      <td>Oct</td>\n",
       "      <td>Fall</td>\n",
       "      <td>56000</td>\n",
       "    </tr>\n",
       "    <tr>\n",
       "      <td>Sep</td>\n",
       "      <td>Fall</td>\n",
       "      <td>56000</td>\n",
       "    </tr>\n",
       "  </tbody>\n",
       "</table>\n",
       "</div>"
      ],
      "text/plain": [
       "                Sales\n",
       "Months Seasons       \n",
       "Apr    Spring   29000\n",
       "Aug    Summer   67000\n",
       "Dec    Winter   60000\n",
       "Feb    Winter   27000\n",
       "Jan    Winter   22000\n",
       "July   Summer   78000\n",
       "June   Summer   67000\n",
       "Mar    Spring   25000\n",
       "May    Spring   35000\n",
       "Nov    Fall     89000\n",
       "Oct    Fall     56000\n",
       "Sep    Fall     56000"
      ]
     },
     "execution_count": 28,
     "metadata": {},
     "output_type": "execute_result"
    }
   ],
   "source": [
    "# to create pivot table having multiple indexes\n",
    "# index is a list of column names to be considered as indexes\n",
    "pd.pivot_table(df_sales,index=[\"Months\", \"Seasons\"])"
   ]
  },
  {
   "cell_type": "markdown",
   "metadata": {
    "id": "nQ92PfGLydhN"
   },
   "source": [
    "To create a pivot table for with the index as 'Seasons'. Also, set the values to be 'Sales'."
   ]
  },
  {
   "cell_type": "code",
   "execution_count": null,
   "metadata": {
    "id": "RBKE-ndxydhN",
    "outputId": "5a52410c-cf98-473d-e949-747c0415bbfe"
   },
   "outputs": [
    {
     "data": {
      "text/html": [
       "<div>\n",
       "<style scoped>\n",
       "    .dataframe tbody tr th:only-of-type {\n",
       "        vertical-align: middle;\n",
       "    }\n",
       "\n",
       "    .dataframe tbody tr th {\n",
       "        vertical-align: top;\n",
       "    }\n",
       "\n",
       "    .dataframe thead th {\n",
       "        text-align: right;\n",
       "    }\n",
       "</style>\n",
       "<table border=\"1\" class=\"dataframe\">\n",
       "  <thead>\n",
       "    <tr style=\"text-align: right;\">\n",
       "      <th></th>\n",
       "      <th>Sales</th>\n",
       "    </tr>\n",
       "    <tr>\n",
       "      <th>Seasons</th>\n",
       "      <th></th>\n",
       "    </tr>\n",
       "  </thead>\n",
       "  <tbody>\n",
       "    <tr>\n",
       "      <td>Fall</td>\n",
       "      <td>67000.000000</td>\n",
       "    </tr>\n",
       "    <tr>\n",
       "      <td>Spring</td>\n",
       "      <td>29666.666667</td>\n",
       "    </tr>\n",
       "    <tr>\n",
       "      <td>Summer</td>\n",
       "      <td>70666.666667</td>\n",
       "    </tr>\n",
       "    <tr>\n",
       "      <td>Winter</td>\n",
       "      <td>36333.333333</td>\n",
       "    </tr>\n",
       "  </tbody>\n",
       "</table>\n",
       "</div>"
      ],
      "text/plain": [
       "                Sales\n",
       "Seasons              \n",
       "Fall     67000.000000\n",
       "Spring   29666.666667\n",
       "Summer   70666.666667\n",
       "Winter   36333.333333"
      ]
     },
     "execution_count": 29,
     "metadata": {},
     "output_type": "execute_result"
    }
   ],
   "source": [
    "# create a pivot table for with the index as 'Seasons' and values as 'Sales'\n",
    "# index is a list of column names to be considered as indexes\n",
    "# values represent the numeric data\n",
    "pd.pivot_table(df_sales,index=[\"Seasons\"],values=[\"Sales\"])"
   ]
  },
  {
   "cell_type": "markdown",
   "metadata": {
    "id": "67dbmivAydhN"
   },
   "source": [
    "The output gives the average sale in each season. The argument `aggfunc` by default will find the average of all values for an index. For example, for the index `Fall`, the average of all the observation having index 'Fall' is given\n",
    "\n",
    "However, if one is not interested in the average, it is also possible to find the count or the sum of the observations."
   ]
  },
  {
   "cell_type": "markdown",
   "metadata": {
    "id": "c3uJIjUtydhN"
   },
   "source": [
    "Let us find the sum of sales in each season."
   ]
  },
  {
   "cell_type": "code",
   "execution_count": null,
   "metadata": {
    "id": "1jjreDXdydhN",
    "outputId": "63dab4ea-d984-42b6-feec-f17a82c490b5"
   },
   "outputs": [
    {
     "data": {
      "text/html": [
       "<div>\n",
       "<style scoped>\n",
       "    .dataframe tbody tr th:only-of-type {\n",
       "        vertical-align: middle;\n",
       "    }\n",
       "\n",
       "    .dataframe tbody tr th {\n",
       "        vertical-align: top;\n",
       "    }\n",
       "\n",
       "    .dataframe thead th {\n",
       "        text-align: right;\n",
       "    }\n",
       "</style>\n",
       "<table border=\"1\" class=\"dataframe\">\n",
       "  <thead>\n",
       "    <tr style=\"text-align: right;\">\n",
       "      <th></th>\n",
       "      <th>Sales</th>\n",
       "    </tr>\n",
       "    <tr>\n",
       "      <th>Seasons</th>\n",
       "      <th></th>\n",
       "    </tr>\n",
       "  </thead>\n",
       "  <tbody>\n",
       "    <tr>\n",
       "      <td>Fall</td>\n",
       "      <td>201000</td>\n",
       "    </tr>\n",
       "    <tr>\n",
       "      <td>Spring</td>\n",
       "      <td>89000</td>\n",
       "    </tr>\n",
       "    <tr>\n",
       "      <td>Summer</td>\n",
       "      <td>212000</td>\n",
       "    </tr>\n",
       "    <tr>\n",
       "      <td>Winter</td>\n",
       "      <td>109000</td>\n",
       "    </tr>\n",
       "  </tbody>\n",
       "</table>\n",
       "</div>"
      ],
      "text/plain": [
       "          Sales\n",
       "Seasons        \n",
       "Fall     201000\n",
       "Spring    89000\n",
       "Summer   212000\n",
       "Winter   109000"
      ]
     },
     "execution_count": 30,
     "metadata": {},
     "output_type": "execute_result"
    }
   ],
   "source": [
    "# to create a pivot table for with the index as 'Seasons' and values as 'Sales'\n",
    "# index is a list of column names to be considered as indexes\n",
    "# values represent the numeric data\n",
    "# aggfunc specifies the function \n",
    "pd.pivot_table(df_sales,index=[\"Seasons\"],values=[\"Sales\"], aggfunc=np.sum)"
   ]
  },
  {
   "cell_type": "markdown",
   "metadata": {
    "id": "schrJsdHydhN"
   },
   "source": [
    "The `aggfunc` can take a list of functions. "
   ]
  },
  {
   "cell_type": "code",
   "execution_count": null,
   "metadata": {
    "id": "FCX8DWexydhN",
    "outputId": "f6b6f3ed-d7fa-4a94-fe5a-10ef52ff1f77"
   },
   "outputs": [
    {
     "data": {
      "text/html": [
       "<div>\n",
       "<style scoped>\n",
       "    .dataframe tbody tr th:only-of-type {\n",
       "        vertical-align: middle;\n",
       "    }\n",
       "\n",
       "    .dataframe tbody tr th {\n",
       "        vertical-align: top;\n",
       "    }\n",
       "\n",
       "    .dataframe thead tr th {\n",
       "        text-align: left;\n",
       "    }\n",
       "\n",
       "    .dataframe thead tr:last-of-type th {\n",
       "        text-align: right;\n",
       "    }\n",
       "</style>\n",
       "<table border=\"1\" class=\"dataframe\">\n",
       "  <thead>\n",
       "    <tr>\n",
       "      <th></th>\n",
       "      <th>mean</th>\n",
       "      <th>len</th>\n",
       "    </tr>\n",
       "    <tr>\n",
       "      <th></th>\n",
       "      <th>Sales</th>\n",
       "      <th>Sales</th>\n",
       "    </tr>\n",
       "    <tr>\n",
       "      <th>Seasons</th>\n",
       "      <th></th>\n",
       "      <th></th>\n",
       "    </tr>\n",
       "  </thead>\n",
       "  <tbody>\n",
       "    <tr>\n",
       "      <td>Fall</td>\n",
       "      <td>67000.000000</td>\n",
       "      <td>3</td>\n",
       "    </tr>\n",
       "    <tr>\n",
       "      <td>Spring</td>\n",
       "      <td>29666.666667</td>\n",
       "      <td>3</td>\n",
       "    </tr>\n",
       "    <tr>\n",
       "      <td>Summer</td>\n",
       "      <td>70666.666667</td>\n",
       "      <td>3</td>\n",
       "    </tr>\n",
       "    <tr>\n",
       "      <td>Winter</td>\n",
       "      <td>36333.333333</td>\n",
       "      <td>3</td>\n",
       "    </tr>\n",
       "  </tbody>\n",
       "</table>\n",
       "</div>"
      ],
      "text/plain": [
       "                 mean   len\n",
       "                Sales Sales\n",
       "Seasons                    \n",
       "Fall     67000.000000     3\n",
       "Spring   29666.666667     3\n",
       "Summer   70666.666667     3\n",
       "Winter   36333.333333     3"
      ]
     },
     "execution_count": 31,
     "metadata": {},
     "output_type": "execute_result"
    }
   ],
   "source": [
    "# to create a pivot table for with the index as 'Seasons' and values as 'Sales'\n",
    "# index is a list of column names to be considered as indexes\n",
    "# values represent the numeric data\n",
    "# aggfunc specifies the function \n",
    "# find the average and count of observations for each season\n",
    "pd.pivot_table(df_sales,index=[\"Seasons\"],values=[\"Sales\"], aggfunc=[np.mean,len])"
   ]
  },
  {
   "cell_type": "markdown",
   "metadata": {
    "id": "mMae3Nf4ydhO"
   },
   "source": [
    "The output gives the function used above the column name. We see that the mean and count of observations are given."
   ]
  },
  {
   "cell_type": "markdown",
   "metadata": {
    "id": "xhHRNXUXydhO"
   },
   "source": [
    "It is possible to create two-dimensional pivot_tables."
   ]
  },
  {
   "cell_type": "code",
   "execution_count": null,
   "metadata": {
    "id": "A0DL9-sEydhO",
    "outputId": "26ad37a8-3b17-404b-9bda-54f3d6664af9"
   },
   "outputs": [
    {
     "data": {
      "text/html": [
       "<div>\n",
       "<style scoped>\n",
       "    .dataframe tbody tr th:only-of-type {\n",
       "        vertical-align: middle;\n",
       "    }\n",
       "\n",
       "    .dataframe tbody tr th {\n",
       "        vertical-align: top;\n",
       "    }\n",
       "\n",
       "    .dataframe thead tr th {\n",
       "        text-align: left;\n",
       "    }\n",
       "\n",
       "    .dataframe thead tr:last-of-type th {\n",
       "        text-align: right;\n",
       "    }\n",
       "</style>\n",
       "<table border=\"1\" class=\"dataframe\">\n",
       "  <thead>\n",
       "    <tr>\n",
       "      <th></th>\n",
       "      <th colspan=\"4\" halign=\"left\">sum</th>\n",
       "    </tr>\n",
       "    <tr>\n",
       "      <th></th>\n",
       "      <th colspan=\"4\" halign=\"left\">Sales</th>\n",
       "    </tr>\n",
       "    <tr>\n",
       "      <th>Seasons</th>\n",
       "      <th>Fall</th>\n",
       "      <th>Spring</th>\n",
       "      <th>Summer</th>\n",
       "      <th>Winter</th>\n",
       "    </tr>\n",
       "    <tr>\n",
       "      <th>Months</th>\n",
       "      <th></th>\n",
       "      <th></th>\n",
       "      <th></th>\n",
       "      <th></th>\n",
       "    </tr>\n",
       "  </thead>\n",
       "  <tbody>\n",
       "    <tr>\n",
       "      <td>Apr</td>\n",
       "      <td>NaN</td>\n",
       "      <td>29000.0</td>\n",
       "      <td>NaN</td>\n",
       "      <td>NaN</td>\n",
       "    </tr>\n",
       "    <tr>\n",
       "      <td>Aug</td>\n",
       "      <td>NaN</td>\n",
       "      <td>NaN</td>\n",
       "      <td>67000.0</td>\n",
       "      <td>NaN</td>\n",
       "    </tr>\n",
       "    <tr>\n",
       "      <td>Dec</td>\n",
       "      <td>NaN</td>\n",
       "      <td>NaN</td>\n",
       "      <td>NaN</td>\n",
       "      <td>60000.0</td>\n",
       "    </tr>\n",
       "    <tr>\n",
       "      <td>Feb</td>\n",
       "      <td>NaN</td>\n",
       "      <td>NaN</td>\n",
       "      <td>NaN</td>\n",
       "      <td>27000.0</td>\n",
       "    </tr>\n",
       "    <tr>\n",
       "      <td>Jan</td>\n",
       "      <td>NaN</td>\n",
       "      <td>NaN</td>\n",
       "      <td>NaN</td>\n",
       "      <td>22000.0</td>\n",
       "    </tr>\n",
       "    <tr>\n",
       "      <td>July</td>\n",
       "      <td>NaN</td>\n",
       "      <td>NaN</td>\n",
       "      <td>78000.0</td>\n",
       "      <td>NaN</td>\n",
       "    </tr>\n",
       "    <tr>\n",
       "      <td>June</td>\n",
       "      <td>NaN</td>\n",
       "      <td>NaN</td>\n",
       "      <td>67000.0</td>\n",
       "      <td>NaN</td>\n",
       "    </tr>\n",
       "    <tr>\n",
       "      <td>Mar</td>\n",
       "      <td>NaN</td>\n",
       "      <td>25000.0</td>\n",
       "      <td>NaN</td>\n",
       "      <td>NaN</td>\n",
       "    </tr>\n",
       "    <tr>\n",
       "      <td>May</td>\n",
       "      <td>NaN</td>\n",
       "      <td>35000.0</td>\n",
       "      <td>NaN</td>\n",
       "      <td>NaN</td>\n",
       "    </tr>\n",
       "    <tr>\n",
       "      <td>Nov</td>\n",
       "      <td>89000.0</td>\n",
       "      <td>NaN</td>\n",
       "      <td>NaN</td>\n",
       "      <td>NaN</td>\n",
       "    </tr>\n",
       "    <tr>\n",
       "      <td>Oct</td>\n",
       "      <td>56000.0</td>\n",
       "      <td>NaN</td>\n",
       "      <td>NaN</td>\n",
       "      <td>NaN</td>\n",
       "    </tr>\n",
       "    <tr>\n",
       "      <td>Sep</td>\n",
       "      <td>56000.0</td>\n",
       "      <td>NaN</td>\n",
       "      <td>NaN</td>\n",
       "      <td>NaN</td>\n",
       "    </tr>\n",
       "  </tbody>\n",
       "</table>\n",
       "</div>"
      ],
      "text/plain": [
       "             sum                           \n",
       "           Sales                           \n",
       "Seasons     Fall   Spring   Summer   Winter\n",
       "Months                                     \n",
       "Apr          NaN  29000.0      NaN      NaN\n",
       "Aug          NaN      NaN  67000.0      NaN\n",
       "Dec          NaN      NaN      NaN  60000.0\n",
       "Feb          NaN      NaN      NaN  27000.0\n",
       "Jan          NaN      NaN      NaN  22000.0\n",
       "July         NaN      NaN  78000.0      NaN\n",
       "June         NaN      NaN  67000.0      NaN\n",
       "Mar          NaN  25000.0      NaN      NaN\n",
       "May          NaN  35000.0      NaN      NaN\n",
       "Nov      89000.0      NaN      NaN      NaN\n",
       "Oct      56000.0      NaN      NaN      NaN\n",
       "Sep      56000.0      NaN      NaN      NaN"
      ]
     },
     "execution_count": 32,
     "metadata": {},
     "output_type": "execute_result"
    }
   ],
   "source": [
    "# create a pivot table for with the index as 'Months', values as 'Sales' and columns as 'Seasons'\n",
    "# index is a list of column names to be considered as indexes\n",
    "# values represent the numeric data\n",
    "# columns is categorical variable(s) whose categories form the columns of the pivot table\n",
    "# aggfunc specifies the function \n",
    "# find the sum observations for each season and month\n",
    "pd.pivot_table(df_sales, index = [\"Months\"], values = [\"Sales\"], columns = [\"Seasons\"], aggfunc = [np.sum])"
   ]
  },
  {
   "cell_type": "markdown",
   "metadata": {
    "id": "bI0H31F6ydhO"
   },
   "source": [
    "The above table is a bit gaudy to look. Let us replace the NaN's with 0's."
   ]
  },
  {
   "cell_type": "code",
   "execution_count": null,
   "metadata": {
    "id": "khD6N5tWydhO",
    "outputId": "d896407c-6faf-4a71-dc8f-09f4367ff531"
   },
   "outputs": [
    {
     "data": {
      "text/html": [
       "<div>\n",
       "<style scoped>\n",
       "    .dataframe tbody tr th:only-of-type {\n",
       "        vertical-align: middle;\n",
       "    }\n",
       "\n",
       "    .dataframe tbody tr th {\n",
       "        vertical-align: top;\n",
       "    }\n",
       "\n",
       "    .dataframe thead tr th {\n",
       "        text-align: left;\n",
       "    }\n",
       "\n",
       "    .dataframe thead tr:last-of-type th {\n",
       "        text-align: right;\n",
       "    }\n",
       "</style>\n",
       "<table border=\"1\" class=\"dataframe\">\n",
       "  <thead>\n",
       "    <tr>\n",
       "      <th></th>\n",
       "      <th colspan=\"4\" halign=\"left\">sum</th>\n",
       "    </tr>\n",
       "    <tr>\n",
       "      <th></th>\n",
       "      <th colspan=\"4\" halign=\"left\">Sales</th>\n",
       "    </tr>\n",
       "    <tr>\n",
       "      <th>Seasons</th>\n",
       "      <th>Fall</th>\n",
       "      <th>Spring</th>\n",
       "      <th>Summer</th>\n",
       "      <th>Winter</th>\n",
       "    </tr>\n",
       "    <tr>\n",
       "      <th>Months</th>\n",
       "      <th></th>\n",
       "      <th></th>\n",
       "      <th></th>\n",
       "      <th></th>\n",
       "    </tr>\n",
       "  </thead>\n",
       "  <tbody>\n",
       "    <tr>\n",
       "      <td>Apr</td>\n",
       "      <td>0</td>\n",
       "      <td>29000</td>\n",
       "      <td>0</td>\n",
       "      <td>0</td>\n",
       "    </tr>\n",
       "    <tr>\n",
       "      <td>Aug</td>\n",
       "      <td>0</td>\n",
       "      <td>0</td>\n",
       "      <td>67000</td>\n",
       "      <td>0</td>\n",
       "    </tr>\n",
       "    <tr>\n",
       "      <td>Dec</td>\n",
       "      <td>0</td>\n",
       "      <td>0</td>\n",
       "      <td>0</td>\n",
       "      <td>60000</td>\n",
       "    </tr>\n",
       "    <tr>\n",
       "      <td>Feb</td>\n",
       "      <td>0</td>\n",
       "      <td>0</td>\n",
       "      <td>0</td>\n",
       "      <td>27000</td>\n",
       "    </tr>\n",
       "    <tr>\n",
       "      <td>Jan</td>\n",
       "      <td>0</td>\n",
       "      <td>0</td>\n",
       "      <td>0</td>\n",
       "      <td>22000</td>\n",
       "    </tr>\n",
       "    <tr>\n",
       "      <td>July</td>\n",
       "      <td>0</td>\n",
       "      <td>0</td>\n",
       "      <td>78000</td>\n",
       "      <td>0</td>\n",
       "    </tr>\n",
       "    <tr>\n",
       "      <td>June</td>\n",
       "      <td>0</td>\n",
       "      <td>0</td>\n",
       "      <td>67000</td>\n",
       "      <td>0</td>\n",
       "    </tr>\n",
       "    <tr>\n",
       "      <td>Mar</td>\n",
       "      <td>0</td>\n",
       "      <td>25000</td>\n",
       "      <td>0</td>\n",
       "      <td>0</td>\n",
       "    </tr>\n",
       "    <tr>\n",
       "      <td>May</td>\n",
       "      <td>0</td>\n",
       "      <td>35000</td>\n",
       "      <td>0</td>\n",
       "      <td>0</td>\n",
       "    </tr>\n",
       "    <tr>\n",
       "      <td>Nov</td>\n",
       "      <td>89000</td>\n",
       "      <td>0</td>\n",
       "      <td>0</td>\n",
       "      <td>0</td>\n",
       "    </tr>\n",
       "    <tr>\n",
       "      <td>Oct</td>\n",
       "      <td>56000</td>\n",
       "      <td>0</td>\n",
       "      <td>0</td>\n",
       "      <td>0</td>\n",
       "    </tr>\n",
       "    <tr>\n",
       "      <td>Sep</td>\n",
       "      <td>56000</td>\n",
       "      <td>0</td>\n",
       "      <td>0</td>\n",
       "      <td>0</td>\n",
       "    </tr>\n",
       "  </tbody>\n",
       "</table>\n",
       "</div>"
      ],
      "text/plain": [
       "           sum                     \n",
       "         Sales                     \n",
       "Seasons   Fall Spring Summer Winter\n",
       "Months                             \n",
       "Apr          0  29000      0      0\n",
       "Aug          0      0  67000      0\n",
       "Dec          0      0      0  60000\n",
       "Feb          0      0      0  27000\n",
       "Jan          0      0      0  22000\n",
       "July         0      0  78000      0\n",
       "June         0      0  67000      0\n",
       "Mar          0  25000      0      0\n",
       "May          0  35000      0      0\n",
       "Nov      89000      0      0      0\n",
       "Oct      56000      0      0      0\n",
       "Sep      56000      0      0      0"
      ]
     },
     "execution_count": 33,
     "metadata": {},
     "output_type": "execute_result"
    }
   ],
   "source": [
    "# create a pivot table for with the index as 'Months', values as 'Sales' and columns as 'Seasons'\n",
    "# index is a list of column names to be considered as indexes\n",
    "# values represent the numeric data\n",
    "# columns is categorical variable(s) whose categories form the columns of the pivot table\n",
    "# aggfunc specifies the function \n",
    "# find the sum observations for each season and month\n",
    "# use fill_value to replace all NaN's as 0's\n",
    "pd.pivot_table(df_sales, index = [\"Months\"], values = [\"Sales\"], columns = [\"Seasons\"],\n",
    "               aggfunc = [np.sum], fill_value = 0)"
   ]
  },
  {
   "cell_type": "markdown",
   "metadata": {
    "id": "PmWAIr4YydhO"
   },
   "source": [
    "The indexes of the pivot table are the months and the columns are the seasons. "
   ]
  },
  {
   "cell_type": "markdown",
   "metadata": {
    "id": "KDuRuGUpydhO"
   },
   "source": [
    "<a id=\"crosst\"> </a>\n",
    "### 4. Cross Table"
   ]
  },
  {
   "cell_type": "markdown",
   "metadata": {
    "id": "8y6S4h5IydhO"
   },
   "source": [
    "Crosstables are similar to pivot tables. They represent the frequency of occurrence of certain groups in the data.\n",
    "\n",
    "Let us first the read the peoples data."
   ]
  },
  {
   "cell_type": "code",
   "execution_count": null,
   "metadata": {
    "id": "9yp87CorydhO",
    "outputId": "1f173e5c-8f66-436a-eb97-1ccd9800e846"
   },
   "outputs": [
    {
     "data": {
      "text/html": [
       "<div>\n",
       "<style scoped>\n",
       "    .dataframe tbody tr th:only-of-type {\n",
       "        vertical-align: middle;\n",
       "    }\n",
       "\n",
       "    .dataframe tbody tr th {\n",
       "        vertical-align: top;\n",
       "    }\n",
       "\n",
       "    .dataframe thead th {\n",
       "        text-align: right;\n",
       "    }\n",
       "</style>\n",
       "<table border=\"1\" class=\"dataframe\">\n",
       "  <thead>\n",
       "    <tr style=\"text-align: right;\">\n",
       "      <th></th>\n",
       "      <th>Age</th>\n",
       "      <th>Gender</th>\n",
       "      <th>Hometown</th>\n",
       "      <th>Height</th>\n",
       "      <th>Qualification</th>\n",
       "      <th>Smoker</th>\n",
       "    </tr>\n",
       "  </thead>\n",
       "  <tbody>\n",
       "    <tr>\n",
       "      <td>0</td>\n",
       "      <td>45</td>\n",
       "      <td>Male</td>\n",
       "      <td>Mumbai</td>\n",
       "      <td>167</td>\n",
       "      <td>Graduate</td>\n",
       "      <td>Yes</td>\n",
       "    </tr>\n",
       "    <tr>\n",
       "      <td>1</td>\n",
       "      <td>23</td>\n",
       "      <td>Female</td>\n",
       "      <td>Mumbai</td>\n",
       "      <td>170</td>\n",
       "      <td>Graduate</td>\n",
       "      <td>No</td>\n",
       "    </tr>\n",
       "    <tr>\n",
       "      <td>2</td>\n",
       "      <td>27</td>\n",
       "      <td>Male</td>\n",
       "      <td>Mumbai</td>\n",
       "      <td>175</td>\n",
       "      <td>Post-graduate</td>\n",
       "      <td>No</td>\n",
       "    </tr>\n",
       "    <tr>\n",
       "      <td>3</td>\n",
       "      <td>34</td>\n",
       "      <td>Male</td>\n",
       "      <td>Delhi</td>\n",
       "      <td>155</td>\n",
       "      <td>Graduate</td>\n",
       "      <td>No</td>\n",
       "    </tr>\n",
       "    <tr>\n",
       "      <td>4</td>\n",
       "      <td>43</td>\n",
       "      <td>Female</td>\n",
       "      <td>Mumbai</td>\n",
       "      <td>157</td>\n",
       "      <td>Post-graduate</td>\n",
       "      <td>Yes</td>\n",
       "    </tr>\n",
       "  </tbody>\n",
       "</table>\n",
       "</div>"
      ],
      "text/plain": [
       "   Age  Gender Hometown  Height  Qualification Smoker\n",
       "0   45    Male   Mumbai     167       Graduate    Yes\n",
       "1   23  Female   Mumbai     170       Graduate     No\n",
       "2   27    Male   Mumbai     175  Post-graduate     No\n",
       "3   34    Male    Delhi     155       Graduate     No\n",
       "4   43  Female   Mumbai     157  Post-graduate    Yes"
      ]
     },
     "execution_count": 34,
     "metadata": {},
     "output_type": "execute_result"
    }
   ],
   "source": [
    "# read the csv file \n",
    "df_people = pd.read_csv('people.csv')\n",
    "\n",
    "# print head of the data\n",
    "df_people.head()"
   ]
  },
  {
   "cell_type": "code",
   "execution_count": null,
   "metadata": {
    "id": "1WIQlbolydhO",
    "outputId": "b71feaa4-0ef6-4df9-9eb6-779d9a5f4d1d"
   },
   "outputs": [
    {
     "data": {
      "text/html": [
       "<div>\n",
       "<style scoped>\n",
       "    .dataframe tbody tr th:only-of-type {\n",
       "        vertical-align: middle;\n",
       "    }\n",
       "\n",
       "    .dataframe tbody tr th {\n",
       "        vertical-align: top;\n",
       "    }\n",
       "\n",
       "    .dataframe thead th {\n",
       "        text-align: right;\n",
       "    }\n",
       "</style>\n",
       "<table border=\"1\" class=\"dataframe\">\n",
       "  <thead>\n",
       "    <tr style=\"text-align: right;\">\n",
       "      <th>Hometown</th>\n",
       "      <th>Bangalore</th>\n",
       "      <th>Delhi</th>\n",
       "      <th>Mumbai</th>\n",
       "    </tr>\n",
       "    <tr>\n",
       "      <th>Qualification</th>\n",
       "      <th></th>\n",
       "      <th></th>\n",
       "      <th></th>\n",
       "    </tr>\n",
       "  </thead>\n",
       "  <tbody>\n",
       "    <tr>\n",
       "      <td>Diploma</td>\n",
       "      <td>2</td>\n",
       "      <td>3</td>\n",
       "      <td>1</td>\n",
       "    </tr>\n",
       "    <tr>\n",
       "      <td>Graduate</td>\n",
       "      <td>1</td>\n",
       "      <td>2</td>\n",
       "      <td>5</td>\n",
       "    </tr>\n",
       "    <tr>\n",
       "      <td>Post-graduate</td>\n",
       "      <td>3</td>\n",
       "      <td>1</td>\n",
       "      <td>3</td>\n",
       "    </tr>\n",
       "  </tbody>\n",
       "</table>\n",
       "</div>"
      ],
      "text/plain": [
       "Hometown       Bangalore  Delhi  Mumbai\n",
       "Qualification                          \n",
       "Diploma                2      3       1\n",
       "Graduate               1      2       5\n",
       "Post-graduate          3      1       3"
      ]
     },
     "execution_count": 35,
     "metadata": {},
     "output_type": "execute_result"
    }
   ],
   "source": [
    "# find the count of of qualifications people have from each city\n",
    "pd.crosstab(df_people.Qualification, df_people.Hometown)"
   ]
  },
  {
   "cell_type": "markdown",
   "metadata": {
    "id": "L-k2Yz2qydhP"
   },
   "source": [
    "We see there are more post-graduates from Mumbai and Banglore than in Delhi.\n",
    "\n",
    "It is possible to rename the column and row names. We use the parameters `rownames` and `columnames` for rows and columns, respectively."
   ]
  },
  {
   "cell_type": "code",
   "execution_count": null,
   "metadata": {
    "id": "8SfiaqSGydhP",
    "outputId": "d76447bd-d9ea-4041-f48b-33d9da16d81e"
   },
   "outputs": [
    {
     "data": {
      "text/html": [
       "<div>\n",
       "<style scoped>\n",
       "    .dataframe tbody tr th:only-of-type {\n",
       "        vertical-align: middle;\n",
       "    }\n",
       "\n",
       "    .dataframe tbody tr th {\n",
       "        vertical-align: top;\n",
       "    }\n",
       "\n",
       "    .dataframe thead th {\n",
       "        text-align: right;\n",
       "    }\n",
       "</style>\n",
       "<table border=\"1\" class=\"dataframe\">\n",
       "  <thead>\n",
       "    <tr style=\"text-align: right;\">\n",
       "      <th>City</th>\n",
       "      <th>Bangalore</th>\n",
       "      <th>Delhi</th>\n",
       "      <th>Mumbai</th>\n",
       "    </tr>\n",
       "    <tr>\n",
       "      <th>Highest Qualification</th>\n",
       "      <th></th>\n",
       "      <th></th>\n",
       "      <th></th>\n",
       "    </tr>\n",
       "  </thead>\n",
       "  <tbody>\n",
       "    <tr>\n",
       "      <td>Diploma</td>\n",
       "      <td>2</td>\n",
       "      <td>3</td>\n",
       "      <td>1</td>\n",
       "    </tr>\n",
       "    <tr>\n",
       "      <td>Graduate</td>\n",
       "      <td>1</td>\n",
       "      <td>2</td>\n",
       "      <td>5</td>\n",
       "    </tr>\n",
       "    <tr>\n",
       "      <td>Post-graduate</td>\n",
       "      <td>3</td>\n",
       "      <td>1</td>\n",
       "      <td>3</td>\n",
       "    </tr>\n",
       "  </tbody>\n",
       "</table>\n",
       "</div>"
      ],
      "text/plain": [
       "City                   Bangalore  Delhi  Mumbai\n",
       "Highest Qualification                          \n",
       "Diploma                        2      3       1\n",
       "Graduate                       1      2       5\n",
       "Post-graduate                  3      1       3"
      ]
     },
     "execution_count": 36,
     "metadata": {},
     "output_type": "execute_result"
    }
   ],
   "source": [
    "# find the count of qualifications people have from each city\n",
    "# rownames are the categories of a variable which form the indexes\n",
    "# columnames are the categories of a variable which form the indexes\n",
    "pd.crosstab(df_people.Qualification, df_people.Hometown, rownames = ['Highest Qualification'], colnames=['City'])"
   ]
  },
  {
   "cell_type": "markdown",
   "metadata": {
    "id": "nExqx6emydhP"
   },
   "source": [
    "Lets us now see the average age of smokers based on their city of residence"
   ]
  },
  {
   "cell_type": "code",
   "execution_count": null,
   "metadata": {
    "id": "gxSctthBydhQ",
    "outputId": "87c5f44d-3077-4ad0-b844-38065404c0b1"
   },
   "outputs": [
    {
     "data": {
      "text/html": [
       "<div>\n",
       "<style scoped>\n",
       "    .dataframe tbody tr th:only-of-type {\n",
       "        vertical-align: middle;\n",
       "    }\n",
       "\n",
       "    .dataframe tbody tr th {\n",
       "        vertical-align: top;\n",
       "    }\n",
       "\n",
       "    .dataframe thead th {\n",
       "        text-align: right;\n",
       "    }\n",
       "</style>\n",
       "<table border=\"1\" class=\"dataframe\">\n",
       "  <thead>\n",
       "    <tr style=\"text-align: right;\">\n",
       "      <th>Smoker</th>\n",
       "      <th>No</th>\n",
       "      <th>Yes</th>\n",
       "    </tr>\n",
       "    <tr>\n",
       "      <th>Hometown</th>\n",
       "      <th></th>\n",
       "      <th></th>\n",
       "    </tr>\n",
       "  </thead>\n",
       "  <tbody>\n",
       "    <tr>\n",
       "      <td>Bangalore</td>\n",
       "      <td>32.333333</td>\n",
       "      <td>52.0</td>\n",
       "    </tr>\n",
       "    <tr>\n",
       "      <td>Delhi</td>\n",
       "      <td>34.000000</td>\n",
       "      <td>50.0</td>\n",
       "    </tr>\n",
       "    <tr>\n",
       "      <td>Mumbai</td>\n",
       "      <td>39.333333</td>\n",
       "      <td>44.0</td>\n",
       "    </tr>\n",
       "  </tbody>\n",
       "</table>\n",
       "</div>"
      ],
      "text/plain": [
       "Smoker            No   Yes\n",
       "Hometown                  \n",
       "Bangalore  32.333333  52.0\n",
       "Delhi      34.000000  50.0\n",
       "Mumbai     39.333333  44.0"
      ]
     },
     "execution_count": 37,
     "metadata": {},
     "output_type": "execute_result"
    }
   ],
   "source": [
    "# find the average age of smokers based on their city of residence\n",
    "# values represent the numeric data\n",
    "# aggfunc specifies the function\n",
    "pd.crosstab(df_people.Hometown, df_people.Smoker, values = df_people.Age, aggfunc = 'mean')"
   ]
  },
  {
   "cell_type": "markdown",
   "metadata": {
    "id": "HeA_yNKEydhQ"
   },
   "source": [
    "The output gives the average age of each of smoker and non-smoker in each city."
   ]
  }
 ],
 "metadata": {
  "colab": {
   "collapsed_sections": [
    "UAzg1VwFydhE",
    "zuYpcygKydhJ",
    "H9Dzwtu1ydhJ",
    "PZhRfQbRydhM",
    "KDuRuGUpydhO",
    "59sdkOTDydhQ",
    "t3pcevDdydhS",
    "8VVjCiEEydhU",
    "yaFOAPDNydhW"
   ],
   "provenance": []
  },
  "kernelspec": {
   "display_name": "Python 3 (ipykernel)",
   "language": "python",
   "name": "python3"
  },
  "language_info": {
   "codemirror_mode": {
    "name": "ipython",
    "version": 3
   },
   "file_extension": ".py",
   "mimetype": "text/x-python",
   "name": "python",
   "nbconvert_exporter": "python",
   "pygments_lexer": "ipython3",
   "version": "3.9.12"
  }
 },
 "nbformat": 4,
 "nbformat_minor": 1
}
